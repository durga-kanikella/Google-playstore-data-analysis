{
  "nbformat": 4,
  "nbformat_minor": 0,
  "metadata": {
    "colab": {
      "provenance": [],
      "collapsed_sections": [
        "0rvCbeQ0UdaW",
        "xeqU669CUk0z",
        "seRSYkQmZtyX",
        "Mc6umsIfHpp6",
        "NID26winPwkE",
        "7pK9qWHEOydh",
        "-vsvr6qeAZmY",
        "OwG3UfH0RH6K",
        "CF5WXaIkTnMi",
        "lW88n4zi5ZzT",
        "l6oFPdIJU5eB",
        "S4LpD3_VVfyE",
        "nlCwLs8iVjaU",
        "tzv3sj8Igx5-",
        "EERyqahkfd-Y"
      ]
    },
    "kernelspec": {
      "name": "python3",
      "display_name": "Python 3"
    },
    "language_info": {
      "name": "python"
    }
  },
  "cells": [
    {
      "cell_type": "markdown",
      "source": [
        "### **Google Playstore Analysis**"
      ],
      "metadata": {
        "id": "It7A60Hrf4La"
      }
    },
    {
      "cell_type": "markdown",
      "source": [
        "### 1. Importing modules"
      ],
      "metadata": {
        "id": "0rvCbeQ0UdaW"
      }
    },
    {
      "cell_type": "code",
      "source": [
        "import numpy as np\n",
        "import pandas as pd\n",
        "import matplotlib.pyplot as plt\n",
        "import seaborn as sns\n",
        "\n",
        "%matplotlib inline\n",
        "sns.set(rc={'figure.figsize':[9,9]},font_scale=1.2)"
      ],
      "metadata": {
        "id": "bUqzCG2916GG"
      },
      "execution_count": 1,
      "outputs": []
    },
    {
      "cell_type": "markdown",
      "source": [
        "### 2. Reading dataset"
      ],
      "metadata": {
        "id": "xeqU669CUk0z"
      }
    },
    {
      "cell_type": "code",
      "source": [
        "df=pd.read_csv('/content/googleplaystore_raw.csv')\n",
        "df.head(3)"
      ],
      "metadata": {
        "colab": {
          "base_uri": "https://localhost:8080/",
          "height": 0
        },
        "id": "R_L-rhbq2VEw",
        "outputId": "f30491d0-b11e-403b-d761-30de924917f3"
      },
      "execution_count": 2,
      "outputs": [
        {
          "output_type": "execute_result",
          "data": {
            "text/plain": [
              "                                                 App        Category  Rating  \\\n",
              "0     Photo Editor & Candy Camera & Grid & ScrapBook  ART_AND_DESIGN     4.1   \n",
              "1                                Coloring book moana  ART_AND_DESIGN     3.9   \n",
              "2  U Launcher Lite – FREE Live Cool Themes, Hide ...  ART_AND_DESIGN     4.7   \n",
              "\n",
              "  Reviews  Size    Installs  Type Price Content Rating  \\\n",
              "0     159   19M     10,000+  Free     0       Everyone   \n",
              "1     967   14M    500,000+  Free     0       Everyone   \n",
              "2   87510  8.7M  5,000,000+  Free     0       Everyone   \n",
              "\n",
              "                      Genres      Last Updated Current Ver   Android Ver  \n",
              "0               Art & Design   January 7, 2018       1.0.0  4.0.3 and up  \n",
              "1  Art & Design;Pretend Play  January 15, 2018       2.0.0  4.0.3 and up  \n",
              "2               Art & Design    August 1, 2018       1.2.4  4.0.3 and up  "
            ],
            "text/html": [
              "\n",
              "  <div id=\"df-47874f7b-5dff-486a-bb37-c18e90ea9783\">\n",
              "    <div class=\"colab-df-container\">\n",
              "      <div>\n",
              "<style scoped>\n",
              "    .dataframe tbody tr th:only-of-type {\n",
              "        vertical-align: middle;\n",
              "    }\n",
              "\n",
              "    .dataframe tbody tr th {\n",
              "        vertical-align: top;\n",
              "    }\n",
              "\n",
              "    .dataframe thead th {\n",
              "        text-align: right;\n",
              "    }\n",
              "</style>\n",
              "<table border=\"1\" class=\"dataframe\">\n",
              "  <thead>\n",
              "    <tr style=\"text-align: right;\">\n",
              "      <th></th>\n",
              "      <th>App</th>\n",
              "      <th>Category</th>\n",
              "      <th>Rating</th>\n",
              "      <th>Reviews</th>\n",
              "      <th>Size</th>\n",
              "      <th>Installs</th>\n",
              "      <th>Type</th>\n",
              "      <th>Price</th>\n",
              "      <th>Content Rating</th>\n",
              "      <th>Genres</th>\n",
              "      <th>Last Updated</th>\n",
              "      <th>Current Ver</th>\n",
              "      <th>Android Ver</th>\n",
              "    </tr>\n",
              "  </thead>\n",
              "  <tbody>\n",
              "    <tr>\n",
              "      <th>0</th>\n",
              "      <td>Photo Editor &amp; Candy Camera &amp; Grid &amp; ScrapBook</td>\n",
              "      <td>ART_AND_DESIGN</td>\n",
              "      <td>4.1</td>\n",
              "      <td>159</td>\n",
              "      <td>19M</td>\n",
              "      <td>10,000+</td>\n",
              "      <td>Free</td>\n",
              "      <td>0</td>\n",
              "      <td>Everyone</td>\n",
              "      <td>Art &amp; Design</td>\n",
              "      <td>January 7, 2018</td>\n",
              "      <td>1.0.0</td>\n",
              "      <td>4.0.3 and up</td>\n",
              "    </tr>\n",
              "    <tr>\n",
              "      <th>1</th>\n",
              "      <td>Coloring book moana</td>\n",
              "      <td>ART_AND_DESIGN</td>\n",
              "      <td>3.9</td>\n",
              "      <td>967</td>\n",
              "      <td>14M</td>\n",
              "      <td>500,000+</td>\n",
              "      <td>Free</td>\n",
              "      <td>0</td>\n",
              "      <td>Everyone</td>\n",
              "      <td>Art &amp; Design;Pretend Play</td>\n",
              "      <td>January 15, 2018</td>\n",
              "      <td>2.0.0</td>\n",
              "      <td>4.0.3 and up</td>\n",
              "    </tr>\n",
              "    <tr>\n",
              "      <th>2</th>\n",
              "      <td>U Launcher Lite – FREE Live Cool Themes, Hide ...</td>\n",
              "      <td>ART_AND_DESIGN</td>\n",
              "      <td>4.7</td>\n",
              "      <td>87510</td>\n",
              "      <td>8.7M</td>\n",
              "      <td>5,000,000+</td>\n",
              "      <td>Free</td>\n",
              "      <td>0</td>\n",
              "      <td>Everyone</td>\n",
              "      <td>Art &amp; Design</td>\n",
              "      <td>August 1, 2018</td>\n",
              "      <td>1.2.4</td>\n",
              "      <td>4.0.3 and up</td>\n",
              "    </tr>\n",
              "  </tbody>\n",
              "</table>\n",
              "</div>\n",
              "      <button class=\"colab-df-convert\" onclick=\"convertToInteractive('df-47874f7b-5dff-486a-bb37-c18e90ea9783')\"\n",
              "              title=\"Convert this dataframe to an interactive table.\"\n",
              "              style=\"display:none;\">\n",
              "        \n",
              "  <svg xmlns=\"http://www.w3.org/2000/svg\" height=\"24px\"viewBox=\"0 0 24 24\"\n",
              "       width=\"24px\">\n",
              "    <path d=\"M0 0h24v24H0V0z\" fill=\"none\"/>\n",
              "    <path d=\"M18.56 5.44l.94 2.06.94-2.06 2.06-.94-2.06-.94-.94-2.06-.94 2.06-2.06.94zm-11 1L8.5 8.5l.94-2.06 2.06-.94-2.06-.94L8.5 2.5l-.94 2.06-2.06.94zm10 10l.94 2.06.94-2.06 2.06-.94-2.06-.94-.94-2.06-.94 2.06-2.06.94z\"/><path d=\"M17.41 7.96l-1.37-1.37c-.4-.4-.92-.59-1.43-.59-.52 0-1.04.2-1.43.59L10.3 9.45l-7.72 7.72c-.78.78-.78 2.05 0 2.83L4 21.41c.39.39.9.59 1.41.59.51 0 1.02-.2 1.41-.59l7.78-7.78 2.81-2.81c.8-.78.8-2.07 0-2.86zM5.41 20L4 18.59l7.72-7.72 1.47 1.35L5.41 20z\"/>\n",
              "  </svg>\n",
              "      </button>\n",
              "      \n",
              "  <style>\n",
              "    .colab-df-container {\n",
              "      display:flex;\n",
              "      flex-wrap:wrap;\n",
              "      gap: 12px;\n",
              "    }\n",
              "\n",
              "    .colab-df-convert {\n",
              "      background-color: #E8F0FE;\n",
              "      border: none;\n",
              "      border-radius: 50%;\n",
              "      cursor: pointer;\n",
              "      display: none;\n",
              "      fill: #1967D2;\n",
              "      height: 32px;\n",
              "      padding: 0 0 0 0;\n",
              "      width: 32px;\n",
              "    }\n",
              "\n",
              "    .colab-df-convert:hover {\n",
              "      background-color: #E2EBFA;\n",
              "      box-shadow: 0px 1px 2px rgba(60, 64, 67, 0.3), 0px 1px 3px 1px rgba(60, 64, 67, 0.15);\n",
              "      fill: #174EA6;\n",
              "    }\n",
              "\n",
              "    [theme=dark] .colab-df-convert {\n",
              "      background-color: #3B4455;\n",
              "      fill: #D2E3FC;\n",
              "    }\n",
              "\n",
              "    [theme=dark] .colab-df-convert:hover {\n",
              "      background-color: #434B5C;\n",
              "      box-shadow: 0px 1px 3px 1px rgba(0, 0, 0, 0.15);\n",
              "      filter: drop-shadow(0px 1px 2px rgba(0, 0, 0, 0.3));\n",
              "      fill: #FFFFFF;\n",
              "    }\n",
              "  </style>\n",
              "\n",
              "      <script>\n",
              "        const buttonEl =\n",
              "          document.querySelector('#df-47874f7b-5dff-486a-bb37-c18e90ea9783 button.colab-df-convert');\n",
              "        buttonEl.style.display =\n",
              "          google.colab.kernel.accessAllowed ? 'block' : 'none';\n",
              "\n",
              "        async function convertToInteractive(key) {\n",
              "          const element = document.querySelector('#df-47874f7b-5dff-486a-bb37-c18e90ea9783');\n",
              "          const dataTable =\n",
              "            await google.colab.kernel.invokeFunction('convertToInteractive',\n",
              "                                                     [key], {});\n",
              "          if (!dataTable) return;\n",
              "\n",
              "          const docLinkHtml = 'Like what you see? Visit the ' +\n",
              "            '<a target=\"_blank\" href=https://colab.research.google.com/notebooks/data_table.ipynb>data table notebook</a>'\n",
              "            + ' to learn more about interactive tables.';\n",
              "          element.innerHTML = '';\n",
              "          dataTable['output_type'] = 'display_data';\n",
              "          await google.colab.output.renderOutput(dataTable, element);\n",
              "          const docLink = document.createElement('div');\n",
              "          docLink.innerHTML = docLinkHtml;\n",
              "          element.appendChild(docLink);\n",
              "        }\n",
              "      </script>\n",
              "    </div>\n",
              "  </div>\n",
              "  "
            ]
          },
          "metadata": {},
          "execution_count": 2
        }
      ]
    },
    {
      "cell_type": "code",
      "source": [
        "df.shape"
      ],
      "metadata": {
        "colab": {
          "base_uri": "https://localhost:8080/"
        },
        "id": "fUJbpjP-QIJ7",
        "outputId": "58f60b44-f1bf-4cb2-c0d2-4b6c5e8ab076"
      },
      "execution_count": 3,
      "outputs": [
        {
          "output_type": "execute_result",
          "data": {
            "text/plain": [
              "(10841, 13)"
            ]
          },
          "metadata": {},
          "execution_count": 3
        }
      ]
    },
    {
      "cell_type": "code",
      "source": [
        "df.columns"
      ],
      "metadata": {
        "colab": {
          "base_uri": "https://localhost:8080/"
        },
        "id": "PuB7xzcoQKVA",
        "outputId": "dcaf0f07-37ba-412b-aff4-08f2e41e4dfc"
      },
      "execution_count": 4,
      "outputs": [
        {
          "output_type": "execute_result",
          "data": {
            "text/plain": [
              "Index(['App', 'Category', 'Rating', 'Reviews', 'Size', 'Installs', 'Type',\n",
              "       'Price', 'Content Rating', 'Genres', 'Last Updated', 'Current Ver',\n",
              "       'Android Ver'],\n",
              "      dtype='object')"
            ]
          },
          "metadata": {},
          "execution_count": 4
        }
      ]
    },
    {
      "cell_type": "code",
      "source": [
        "obj_col=df.select_dtypes(include=object)\n",
        "obj_col.columns"
      ],
      "metadata": {
        "colab": {
          "base_uri": "https://localhost:8080/"
        },
        "id": "ySZBnk07QNDQ",
        "outputId": "6448ba66-b335-4c69-af9c-b50e4fa856aa"
      },
      "execution_count": 5,
      "outputs": [
        {
          "output_type": "execute_result",
          "data": {
            "text/plain": [
              "Index(['App', 'Category', 'Reviews', 'Size', 'Installs', 'Type', 'Price',\n",
              "       'Content Rating', 'Genres', 'Last Updated', 'Current Ver',\n",
              "       'Android Ver'],\n",
              "      dtype='object')"
            ]
          },
          "metadata": {},
          "execution_count": 5
        }
      ]
    },
    {
      "cell_type": "code",
      "source": [
        "numeric_col=df.select_dtypes(exclude=object)\n",
        "numeric_col.columns"
      ],
      "metadata": {
        "colab": {
          "base_uri": "https://localhost:8080/"
        },
        "id": "mDngxB2KQl3R",
        "outputId": "2c9e7de6-ec81-439a-cfe8-63c4387ad690"
      },
      "execution_count": 6,
      "outputs": [
        {
          "output_type": "execute_result",
          "data": {
            "text/plain": [
              "Index(['Rating'], dtype='object')"
            ]
          },
          "metadata": {},
          "execution_count": 6
        }
      ]
    },
    {
      "cell_type": "code",
      "source": [
        "df.duplicated().sum()"
      ],
      "metadata": {
        "colab": {
          "base_uri": "https://localhost:8080/"
        },
        "id": "Td3irm1ZPO1C",
        "outputId": "adf08f88-29f7-4aa6-b688-d5100143d911"
      },
      "execution_count": 7,
      "outputs": [
        {
          "output_type": "execute_result",
          "data": {
            "text/plain": [
              "483"
            ]
          },
          "metadata": {},
          "execution_count": 7
        }
      ]
    },
    {
      "cell_type": "code",
      "source": [
        "df.isnull().sum()\n"
      ],
      "metadata": {
        "colab": {
          "base_uri": "https://localhost:8080/"
        },
        "id": "gMkmunPYPLsF",
        "outputId": "3648011a-d8bd-4146-b3ea-9cf0f43fd858"
      },
      "execution_count": 8,
      "outputs": [
        {
          "output_type": "execute_result",
          "data": {
            "text/plain": [
              "App                  0\n",
              "Category             0\n",
              "Rating            1474\n",
              "Reviews              0\n",
              "Size                 0\n",
              "Installs             0\n",
              "Type                 1\n",
              "Price                0\n",
              "Content Rating       1\n",
              "Genres               0\n",
              "Last Updated         0\n",
              "Current Ver          8\n",
              "Android Ver          3\n",
              "dtype: int64"
            ]
          },
          "metadata": {},
          "execution_count": 8
        }
      ]
    },
    {
      "cell_type": "code",
      "source": [
        "df.Rating.value_counts()"
      ],
      "metadata": {
        "colab": {
          "base_uri": "https://localhost:8080/"
        },
        "id": "z8x3k03xPj6F",
        "outputId": "6919040c-6d84-4ed4-f093-c312fb65a0e2"
      },
      "execution_count": 9,
      "outputs": [
        {
          "output_type": "execute_result",
          "data": {
            "text/plain": [
              "4.4     1109\n",
              "4.3     1076\n",
              "4.5     1038\n",
              "4.2      952\n",
              "4.6      823\n",
              "4.1      708\n",
              "4.0      568\n",
              "4.7      499\n",
              "3.9      386\n",
              "3.8      303\n",
              "5.0      274\n",
              "3.7      239\n",
              "4.8      234\n",
              "3.6      174\n",
              "3.5      163\n",
              "3.4      128\n",
              "3.3      102\n",
              "4.9       87\n",
              "3.0       83\n",
              "3.1       69\n",
              "3.2       64\n",
              "2.9       45\n",
              "2.8       42\n",
              "2.7       25\n",
              "2.6       25\n",
              "2.5       21\n",
              "2.3       20\n",
              "2.4       19\n",
              "1.0       16\n",
              "2.2       14\n",
              "1.9       13\n",
              "2.0       12\n",
              "1.7        8\n",
              "1.8        8\n",
              "2.1        8\n",
              "1.6        4\n",
              "1.4        3\n",
              "1.5        3\n",
              "1.2        1\n",
              "19.0       1\n",
              "Name: Rating, dtype: int64"
            ]
          },
          "metadata": {},
          "execution_count": 9
        }
      ]
    },
    {
      "cell_type": "markdown",
      "source": [
        "### 3. Drop duplicates"
      ],
      "metadata": {
        "id": "seRSYkQmZtyX"
      }
    },
    {
      "cell_type": "code",
      "source": [
        "df['App'].duplicated().sum()"
      ],
      "metadata": {
        "colab": {
          "base_uri": "https://localhost:8080/"
        },
        "id": "SX4dLis0Z1_2",
        "outputId": "1ba3f610-665d-4ec4-f3cf-32db718d6ef9"
      },
      "execution_count": 10,
      "outputs": [
        {
          "output_type": "execute_result",
          "data": {
            "text/plain": [
              "1181"
            ]
          },
          "metadata": {},
          "execution_count": 10
        }
      ]
    },
    {
      "cell_type": "code",
      "source": [
        "df['App'].nunique()"
      ],
      "metadata": {
        "colab": {
          "base_uri": "https://localhost:8080/"
        },
        "id": "UwawJUkFZ6Be",
        "outputId": "00b4998d-ff81-4e58-c88e-8384987ea8ad"
      },
      "execution_count": 11,
      "outputs": [
        {
          "output_type": "execute_result",
          "data": {
            "text/plain": [
              "9660"
            ]
          },
          "metadata": {},
          "execution_count": 11
        }
      ]
    },
    {
      "cell_type": "code",
      "source": [
        "df['App'].drop_duplicates().shape\n"
      ],
      "metadata": {
        "colab": {
          "base_uri": "https://localhost:8080/"
        },
        "id": "3I6-dmSkZ9yz",
        "outputId": "5519b05e-05d3-4baa-dddd-034d998dc4ee"
      },
      "execution_count": 12,
      "outputs": [
        {
          "output_type": "execute_result",
          "data": {
            "text/plain": [
              "(9660,)"
            ]
          },
          "metadata": {},
          "execution_count": 12
        }
      ]
    },
    {
      "cell_type": "code",
      "source": [
        "df.drop_duplicates(subset=['App'],keep='first',inplace=True)"
      ],
      "metadata": {
        "id": "x1nxFALuZwQF"
      },
      "execution_count": 13,
      "outputs": []
    },
    {
      "cell_type": "markdown",
      "source": [
        "### 4. Droping rows"
      ],
      "metadata": {
        "id": "Mc6umsIfHpp6"
      }
    },
    {
      "cell_type": "code",
      "source": [
        "df.drop(index=10472,inplace=True)"
      ],
      "metadata": {
        "id": "v9jPFdQGLdGh"
      },
      "execution_count": 14,
      "outputs": []
    },
    {
      "cell_type": "code",
      "source": [
        "np.where(df['Reviews']=='3.0M')"
      ],
      "metadata": {
        "colab": {
          "base_uri": "https://localhost:8080/"
        },
        "id": "O6DAQnP1MJEL",
        "outputId": "b68a8602-6801-4d36-ba7a-1eaccf4145a7"
      },
      "execution_count": 15,
      "outputs": [
        {
          "output_type": "execute_result",
          "data": {
            "text/plain": [
              "(array([], dtype=int64),)"
            ]
          },
          "metadata": {},
          "execution_count": 15
        }
      ]
    },
    {
      "cell_type": "markdown",
      "source": [
        "### 5. Outliers"
      ],
      "metadata": {
        "id": "NID26winPwkE"
      }
    },
    {
      "cell_type": "code",
      "source": [
        "#boxplot for outliers\n",
        "def box_plot(df,variable):\n",
        "  plt.figure(figsize = (18,5))\n",
        "\n",
        "  plt.subplot(1,3, 1)\n",
        "  figure=df.boxplot(column=variable)\n",
        "\n",
        "  plt.subplot(1,3, 2)\n",
        "  sns.distplot(df[variable])\n",
        "\n",
        "\n",
        "  plt.subplot(1,3, 3)\n",
        "  figure=df.plot.hist(variable,bins=50)\n",
        "  figure.set_title(variable)"
      ],
      "metadata": {
        "id": "thuK96fm8BYY"
      },
      "execution_count": 16,
      "outputs": []
    },
    {
      "cell_type": "code",
      "source": [
        "##### calculate the boundaries for A Gaussian Distribution which differentiates the outliers\n",
        "\n",
        "def gauss_dist(df,variable):\n",
        "  upper_bridge=df[variable].mean() + 3* df[variable].std()\n",
        "  lower_bridge=df[variable].mean() - 3* df[variable].std()\n",
        "  return lower_bridge,upper_bridge"
      ],
      "metadata": {
        "id": "3b8BJ1zNNDz0"
      },
      "execution_count": 17,
      "outputs": []
    },
    {
      "cell_type": "code",
      "source": [
        "#as the distribution is right skewed we use extreme imputation to modify outliers\n",
        "def ext_imp(df,variable,IQR_index):\n",
        "#### Lets compute the Interquantile range to calculate the boundaries\n",
        "  IQR=df[variable].quantile(0.75)-df[variable].quantile(0.25)\n",
        "\n",
        "  #### Extreme outliers\n",
        "  lower_bridge=df[variable].quantile(0.25)-(IQR*IQR_index)\n",
        "  upper_bridge=df[variable].quantile(0.75)+(IQR*IQR_index)\n",
        "\n",
        "  #print lower and upper boundaries\n",
        "  return lower_bridge,upper_bridge\n",
        "\n",
        " "
      ],
      "metadata": {
        "id": "BmFPqORlEcIo"
      },
      "execution_count": 18,
      "outputs": []
    },
    {
      "cell_type": "code",
      "source": [
        "#modifying the outlier values with the upper and lower values\n",
        "def fill_outliers(df,variable,lower_bridge,upper_bridge):\n",
        "  df.loc[df[variable]<=lower_bridge,variable]=lower_bridge\n",
        "  df.loc[df[variable]>=upper_bridge,variable]=upper_bridge\n",
        "  "
      ],
      "metadata": {
        "id": "20yoD889MBpH"
      },
      "execution_count": 19,
      "outputs": []
    },
    {
      "cell_type": "code",
      "source": [
        "box_plot(df,'Rating')"
      ],
      "metadata": {
        "colab": {
          "base_uri": "https://localhost:8080/",
          "height": 0
        },
        "id": "RnLOgYbyDBjg",
        "outputId": "3670cba8-0b1f-40ed-db5a-fcc61e727488"
      },
      "execution_count": 20,
      "outputs": [
        {
          "output_type": "stream",
          "name": "stderr",
          "text": [
            "/usr/local/lib/python3.7/dist-packages/seaborn/distributions.py:2619: FutureWarning: `distplot` is a deprecated function and will be removed in a future version. Please adapt your code to use either `displot` (a figure-level function with similar flexibility) or `histplot` (an axes-level function for histograms).\n",
            "  warnings.warn(msg, FutureWarning)\n"
          ]
        },
        {
          "output_type": "display_data",
          "data": {
            "text/plain": [
              "<Figure size 1296x360 with 3 Axes>"
            ],
            "image/png": "[encoded data removed]"
          },
          "metadata": {}
        },
        {
          "output_type": "display_data",
          "data": {
            "text/plain": [
              "<Figure size 648x648 with 1 Axes>"
            ],
            "image/png": "[encoded data removed]"
          },
          "metadata": {}
        }
      ]
    },
    {
      "cell_type": "code",
      "source": [
        "lower_bridge,upper_bridge=ext_imp(df,'Rating',3)\n",
        "print(lower_bridge,upper_bridge)"
      ],
      "metadata": {
        "colab": {
          "base_uri": "https://localhost:8080/"
        },
        "id": "sQ3Kz6PyK1Tr",
        "outputId": "87d19a79-beb0-4890-a70b-0fa8d44d9a10"
      },
      "execution_count": 21,
      "outputs": [
        {
          "output_type": "stream",
          "name": "stdout",
          "text": [
            "2.5 6.0\n"
          ]
        }
      ]
    },
    {
      "cell_type": "code",
      "source": [
        "lower_bridge,upper_bridge=gauss_dist(df,'Rating')\n",
        "print(lower_bridge,upper_bridge)"
      ],
      "metadata": {
        "colab": {
          "base_uri": "https://localhost:8080/"
        },
        "id": "Eg3DSR1EOPtU",
        "outputId": "ab20e2dd-77b2-4dd1-9f31-11050bbcd683"
      },
      "execution_count": 22,
      "outputs": [
        {
          "output_type": "stream",
          "name": "stdout",
          "text": [
            "2.5633688542256454 5.783117236550343\n"
          ]
        }
      ]
    },
    {
      "cell_type": "code",
      "source": [
        "fill_outliers(df,'Rating',1,5)"
      ],
      "metadata": {
        "id": "pR6dNlP6MVnB"
      },
      "execution_count": 23,
      "outputs": []
    },
    {
      "cell_type": "code",
      "source": [
        "box_plot(df,'Rating')"
      ],
      "metadata": {
        "colab": {
          "base_uri": "https://localhost:8080/",
          "height": 0
        },
        "id": "z492wjkQrCU3",
        "outputId": "a6d3947c-0cec-42a7-d221-a227112a9a76"
      },
      "execution_count": 24,
      "outputs": [
        {
          "output_type": "stream",
          "name": "stderr",
          "text": [
            "/usr/local/lib/python3.7/dist-packages/seaborn/distributions.py:2619: FutureWarning: `distplot` is a deprecated function and will be removed in a future version. Please adapt your code to use either `displot` (a figure-level function with similar flexibility) or `histplot` (an axes-level function for histograms).\n",
            "  warnings.warn(msg, FutureWarning)\n"
          ]
        },
        {
          "output_type": "display_data",
          "data": {
            "text/plain": [
              "<Figure size 1296x360 with 3 Axes>"
            ],
            "image/png": "[encoded data removed]"
          },
          "metadata": {}
        },
        {
          "output_type": "display_data",
          "data": {
            "text/plain": [
              "<Figure size 648x648 with 1 Axes>"
            ],
            "image/png": "[encoded data removed]"
          },
          "metadata": {}
        }
      ]
    },
    {
      "cell_type": "code",
      "source": [],
      "metadata": {
        "id": "C_5cb7B7WFYH"
      },
      "execution_count": 24,
      "outputs": []
    },
    {
      "cell_type": "markdown",
      "source": [
        "### 7. Replace values"
      ],
      "metadata": {
        "id": "7pK9qWHEOydh"
      }
    },
    {
      "cell_type": "code",
      "source": [
        "#to replace and change dtype from string to numeric  \n",
        "def si_change_dtype(df,variable,old,new):\n",
        "  df[variable]=df[variable].str.replace(old,new)"
      ],
      "metadata": {
        "id": "HvnEHdgJBYxR"
      },
      "execution_count": 25,
      "outputs": []
    },
    {
      "cell_type": "code",
      "source": [
        "si_change_dtype(df,'Content Rating','+','')"
      ],
      "metadata": {
        "colab": {
          "base_uri": "https://localhost:8080/"
        },
        "id": "QU21q1CA5zLJ",
        "outputId": "8fdfe5dc-1e24-48a5-bcbc-41407b4a0c77"
      },
      "execution_count": 26,
      "outputs": [
        {
          "output_type": "stream",
          "name": "stderr",
          "text": [
            "/usr/local/lib/python3.7/dist-packages/ipykernel_launcher.py:3: FutureWarning: The default value of regex will change from True to False in a future version. In addition, single character regular expressions will *not* be treated as literal strings when regex=True.\n",
            "  This is separate from the ipykernel package so we can avoid doing imports until\n"
          ]
        }
      ]
    },
    {
      "cell_type": "code",
      "source": [
        "si_change_dtype(df,'Installs','+','')"
      ],
      "metadata": {
        "colab": {
          "base_uri": "https://localhost:8080/"
        },
        "outputId": "090efaf3-e90b-4bef-f5eb-e6997c241a33",
        "id": "u0K8AXBYKNwG"
      },
      "execution_count": 27,
      "outputs": [
        {
          "output_type": "stream",
          "name": "stderr",
          "text": [
            "/usr/local/lib/python3.7/dist-packages/ipykernel_launcher.py:3: FutureWarning: The default value of regex will change from True to False in a future version. In addition, single character regular expressions will *not* be treated as literal strings when regex=True.\n",
            "  This is separate from the ipykernel package so we can avoid doing imports until\n"
          ]
        }
      ]
    },
    {
      "cell_type": "code",
      "source": [
        "si_change_dtype(df,'Installs',',','')\n"
      ],
      "metadata": {
        "id": "Abb5CB14KUxZ"
      },
      "execution_count": 28,
      "outputs": []
    },
    {
      "cell_type": "code",
      "source": [
        "si_change_dtype(df,'Android Ver','W','')"
      ],
      "metadata": {
        "id": "RYSeFcT0UwjI"
      },
      "execution_count": 29,
      "outputs": []
    },
    {
      "cell_type": "code",
      "source": [
        "si_change_dtype(df,'Price','$','')"
      ],
      "metadata": {
        "colab": {
          "base_uri": "https://localhost:8080/"
        },
        "id": "SpaoiZ9Ug26P",
        "outputId": "1f73f357-10d8-403f-f6c0-ef4df6736350"
      },
      "execution_count": 30,
      "outputs": [
        {
          "output_type": "stream",
          "name": "stderr",
          "text": [
            "/usr/local/lib/python3.7/dist-packages/ipykernel_launcher.py:3: FutureWarning: The default value of regex will change from True to False in a future version. In addition, single character regular expressions will *not* be treated as literal strings when regex=True.\n",
            "  This is separate from the ipykernel package so we can avoid doing imports until\n"
          ]
        }
      ]
    },
    {
      "cell_type": "code",
      "source": [
        "si_change_dtype(df,'Content Rating','Mature 17','Adults')"
      ],
      "metadata": {
        "id": "70XQQwcwhmtM"
      },
      "execution_count": 31,
      "outputs": []
    },
    {
      "cell_type": "code",
      "source": [
        "si_change_dtype(df,'Content Rating','Everyone 10','Everyone')"
      ],
      "metadata": {
        "id": "1ce9D-HTiAk7"
      },
      "execution_count": 32,
      "outputs": []
    },
    {
      "cell_type": "code",
      "source": [
        "si_change_dtype(df,'Content Rating','Adults only 18','Adults')"
      ],
      "metadata": {
        "id": "922IncUEhnIW"
      },
      "execution_count": 33,
      "outputs": []
    },
    {
      "cell_type": "code",
      "source": [
        "si_change_dtype(df,'Category','_',' ')"
      ],
      "metadata": {
        "id": "lqVtMLdqZpx2"
      },
      "execution_count": 34,
      "outputs": []
    },
    {
      "cell_type": "code",
      "source": [
        "df['Price'].unique()"
      ],
      "metadata": {
        "colab": {
          "base_uri": "https://localhost:8080/"
        },
        "id": "YvsySNUYKkie",
        "outputId": "1b1ebe36-c37e-4230-c10d-7696241c3c70"
      },
      "execution_count": 35,
      "outputs": [
        {
          "output_type": "execute_result",
          "data": {
            "text/plain": [
              "array(['0', '4.99', '3.99', '6.99', '1.49', '2.99', '7.99', '5.99',\n",
              "       '3.49', '1.99', '9.99', '7.49', '0.99', '9.00', '5.49', '10.00',\n",
              "       '24.99', '11.99', '79.99', '16.99', '14.99', '1.00', '29.99',\n",
              "       '12.99', '2.49', '10.99', '1.50', '19.99', '15.99', '33.99',\n",
              "       '74.99', '39.99', '3.95', '4.49', '1.70', '8.99', '2.00', '3.88',\n",
              "       '25.99', '399.99', '17.99', '400.00', '3.02', '1.76', '4.84',\n",
              "       '4.77', '1.61', '2.50', '1.59', '6.49', '1.29', '5.00', '13.99',\n",
              "       '299.99', '379.99', '37.99', '18.99', '389.99', '19.90', '8.49',\n",
              "       '1.75', '14.00', '4.85', '46.99', '109.99', '154.99', '3.08',\n",
              "       '2.59', '4.80', '1.96', '19.40', '3.90', '4.59', '15.46', '3.04',\n",
              "       '4.29', '2.60', '3.28', '4.60', '28.99', '2.95', '2.90', '1.97',\n",
              "       '200.00', '89.99', '2.56', '30.99', '3.61', '394.99', '1.26',\n",
              "       '1.20', '1.04'], dtype=object)"
            ]
          },
          "metadata": {},
          "execution_count": 35
        }
      ]
    },
    {
      "cell_type": "code",
      "source": [
        "df.head(3)"
      ],
      "metadata": {
        "id": "iNrPuN-5CpeG",
        "colab": {
          "base_uri": "https://localhost:8080/",
          "height": 0
        },
        "outputId": "517eb6ad-b205-429e-e175-3a52db437d34"
      },
      "execution_count": 36,
      "outputs": [
        {
          "output_type": "execute_result",
          "data": {
            "text/plain": [
              "                                                 App        Category  Rating  \\\n",
              "0     Photo Editor & Candy Camera & Grid & ScrapBook  ART AND DESIGN     4.1   \n",
              "1                                Coloring book moana  ART AND DESIGN     3.9   \n",
              "2  U Launcher Lite – FREE Live Cool Themes, Hide ...  ART AND DESIGN     4.7   \n",
              "\n",
              "  Reviews  Size Installs  Type Price Content Rating  \\\n",
              "0     159   19M    10000  Free     0       Everyone   \n",
              "1     967   14M   500000  Free     0       Everyone   \n",
              "2   87510  8.7M  5000000  Free     0       Everyone   \n",
              "\n",
              "                      Genres      Last Updated Current Ver   Android Ver  \n",
              "0               Art & Design   January 7, 2018       1.0.0  4.0.3 and up  \n",
              "1  Art & Design;Pretend Play  January 15, 2018       2.0.0  4.0.3 and up  \n",
              "2               Art & Design    August 1, 2018       1.2.4  4.0.3 and up  "
            ],
            "text/html": [
              "\n",
              "  <div id=\"df-80ca93aa-69e4-4671-92f7-a32c4e040cd4\">\n",
              "    <div class=\"colab-df-container\">\n",
              "      <div>\n",
              "<style scoped>\n",
              "    .dataframe tbody tr th:only-of-type {\n",
              "        vertical-align: middle;\n",
              "    }\n",
              "\n",
              "    .dataframe tbody tr th {\n",
              "        vertical-align: top;\n",
              "    }\n",
              "\n",
              "    .dataframe thead th {\n",
              "        text-align: right;\n",
              "    }\n",
              "</style>\n",
              "<table border=\"1\" class=\"dataframe\">\n",
              "  <thead>\n",
              "    <tr style=\"text-align: right;\">\n",
              "      <th></th>\n",
              "      <th>App</th>\n",
              "      <th>Category</th>\n",
              "      <th>Rating</th>\n",
              "      <th>Reviews</th>\n",
              "      <th>Size</th>\n",
              "      <th>Installs</th>\n",
              "      <th>Type</th>\n",
              "      <th>Price</th>\n",
              "      <th>Content Rating</th>\n",
              "      <th>Genres</th>\n",
              "      <th>Last Updated</th>\n",
              "      <th>Current Ver</th>\n",
              "      <th>Android Ver</th>\n",
              "    </tr>\n",
              "  </thead>\n",
              "  <tbody>\n",
              "    <tr>\n",
              "      <th>0</th>\n",
              "      <td>Photo Editor &amp; Candy Camera &amp; Grid &amp; ScrapBook</td>\n",
              "      <td>ART AND DESIGN</td>\n",
              "      <td>4.1</td>\n",
              "      <td>159</td>\n",
              "      <td>19M</td>\n",
              "      <td>10000</td>\n",
              "      <td>Free</td>\n",
              "      <td>0</td>\n",
              "      <td>Everyone</td>\n",
              "      <td>Art &amp; Design</td>\n",
              "      <td>January 7, 2018</td>\n",
              "      <td>1.0.0</td>\n",
              "      <td>4.0.3 and up</td>\n",
              "    </tr>\n",
              "    <tr>\n",
              "      <th>1</th>\n",
              "      <td>Coloring book moana</td>\n",
              "      <td>ART AND DESIGN</td>\n",
              "      <td>3.9</td>\n",
              "      <td>967</td>\n",
              "      <td>14M</td>\n",
              "      <td>500000</td>\n",
              "      <td>Free</td>\n",
              "      <td>0</td>\n",
              "      <td>Everyone</td>\n",
              "      <td>Art &amp; Design;Pretend Play</td>\n",
              "      <td>January 15, 2018</td>\n",
              "      <td>2.0.0</td>\n",
              "      <td>4.0.3 and up</td>\n",
              "    </tr>\n",
              "    <tr>\n",
              "      <th>2</th>\n",
              "      <td>U Launcher Lite – FREE Live Cool Themes, Hide ...</td>\n",
              "      <td>ART AND DESIGN</td>\n",
              "      <td>4.7</td>\n",
              "      <td>87510</td>\n",
              "      <td>8.7M</td>\n",
              "      <td>5000000</td>\n",
              "      <td>Free</td>\n",
              "      <td>0</td>\n",
              "      <td>Everyone</td>\n",
              "      <td>Art &amp; Design</td>\n",
              "      <td>August 1, 2018</td>\n",
              "      <td>1.2.4</td>\n",
              "      <td>4.0.3 and up</td>\n",
              "    </tr>\n",
              "  </tbody>\n",
              "</table>\n",
              "</div>\n",
              "      <button class=\"colab-df-convert\" onclick=\"convertToInteractive('df-80ca93aa-69e4-4671-92f7-a32c4e040cd4')\"\n",
              "              title=\"Convert this dataframe to an interactive table.\"\n",
              "              style=\"display:none;\">\n",
              "        \n",
              "  <svg xmlns=\"http://www.w3.org/2000/svg\" height=\"24px\"viewBox=\"0 0 24 24\"\n",
              "       width=\"24px\">\n",
              "    <path d=\"M0 0h24v24H0V0z\" fill=\"none\"/>\n",
              "    <path d=\"M18.56 5.44l.94 2.06.94-2.06 2.06-.94-2.06-.94-.94-2.06-.94 2.06-2.06.94zm-11 1L8.5 8.5l.94-2.06 2.06-.94-2.06-.94L8.5 2.5l-.94 2.06-2.06.94zm10 10l.94 2.06.94-2.06 2.06-.94-2.06-.94-.94-2.06-.94 2.06-2.06.94z\"/><path d=\"M17.41 7.96l-1.37-1.37c-.4-.4-.92-.59-1.43-.59-.52 0-1.04.2-1.43.59L10.3 9.45l-7.72 7.72c-.78.78-.78 2.05 0 2.83L4 21.41c.39.39.9.59 1.41.59.51 0 1.02-.2 1.41-.59l7.78-7.78 2.81-2.81c.8-.78.8-2.07 0-2.86zM5.41 20L4 18.59l7.72-7.72 1.47 1.35L5.41 20z\"/>\n",
              "  </svg>\n",
              "      </button>\n",
              "      \n",
              "  <style>\n",
              "    .colab-df-container {\n",
              "      display:flex;\n",
              "      flex-wrap:wrap;\n",
              "      gap: 12px;\n",
              "    }\n",
              "\n",
              "    .colab-df-convert {\n",
              "      background-color: #E8F0FE;\n",
              "      border: none;\n",
              "      border-radius: 50%;\n",
              "      cursor: pointer;\n",
              "      display: none;\n",
              "      fill: #1967D2;\n",
              "      height: 32px;\n",
              "      padding: 0 0 0 0;\n",
              "      width: 32px;\n",
              "    }\n",
              "\n",
              "    .colab-df-convert:hover {\n",
              "      background-color: #E2EBFA;\n",
              "      box-shadow: 0px 1px 2px rgba(60, 64, 67, 0.3), 0px 1px 3px 1px rgba(60, 64, 67, 0.15);\n",
              "      fill: #174EA6;\n",
              "    }\n",
              "\n",
              "    [theme=dark] .colab-df-convert {\n",
              "      background-color: #3B4455;\n",
              "      fill: #D2E3FC;\n",
              "    }\n",
              "\n",
              "    [theme=dark] .colab-df-convert:hover {\n",
              "      background-color: #434B5C;\n",
              "      box-shadow: 0px 1px 3px 1px rgba(0, 0, 0, 0.15);\n",
              "      filter: drop-shadow(0px 1px 2px rgba(0, 0, 0, 0.3));\n",
              "      fill: #FFFFFF;\n",
              "    }\n",
              "  </style>\n",
              "\n",
              "      <script>\n",
              "        const buttonEl =\n",
              "          document.querySelector('#df-80ca93aa-69e4-4671-92f7-a32c4e040cd4 button.colab-df-convert');\n",
              "        buttonEl.style.display =\n",
              "          google.colab.kernel.accessAllowed ? 'block' : 'none';\n",
              "\n",
              "        async function convertToInteractive(key) {\n",
              "          const element = document.querySelector('#df-80ca93aa-69e4-4671-92f7-a32c4e040cd4');\n",
              "          const dataTable =\n",
              "            await google.colab.kernel.invokeFunction('convertToInteractive',\n",
              "                                                     [key], {});\n",
              "          if (!dataTable) return;\n",
              "\n",
              "          const docLinkHtml = 'Like what you see? Visit the ' +\n",
              "            '<a target=\"_blank\" href=https://colab.research.google.com/notebooks/data_table.ipynb>data table notebook</a>'\n",
              "            + ' to learn more about interactive tables.';\n",
              "          element.innerHTML = '';\n",
              "          dataTable['output_type'] = 'display_data';\n",
              "          await google.colab.output.renderOutput(dataTable, element);\n",
              "          const docLink = document.createElement('div');\n",
              "          docLink.innerHTML = docLinkHtml;\n",
              "          element.appendChild(docLink);\n",
              "        }\n",
              "      </script>\n",
              "    </div>\n",
              "  </div>\n",
              "  "
            ]
          },
          "metadata": {},
          "execution_count": 36
        }
      ]
    },
    {
      "cell_type": "markdown",
      "source": [
        "### 8. Replacing method 2"
      ],
      "metadata": {
        "id": "-vsvr6qeAZmY"
      }
    },
    {
      "cell_type": "code",
      "source": [
        "cleared_data_for_size=[]\n",
        "\n",
        "for i in df['Size']:\n",
        "    if i[-1]=='k':\n",
        "        cleared_data_for_size.append(float(i[:-1])/1024)\n",
        "    elif i[-1]=='M':\n",
        "        cleared_data_for_size.append(float(i[:-1]))\n",
        "    else:\n",
        "        cleared_data_for_size.append(float(0.0))  \n",
        "\n",
        "#Counter(cleared_data_for_size)\n",
        "df.Size=pd.Series(cleared_data_for_size)"
      ],
      "metadata": {
        "id": "xRQA8EdzDPdV"
      },
      "execution_count": 37,
      "outputs": []
    },
    {
      "cell_type": "code",
      "source": [
        "df['Android Ver'].unique()"
      ],
      "metadata": {
        "colab": {
          "base_uri": "https://localhost:8080/"
        },
        "id": "M9l_Q4yOUAxz",
        "outputId": "b40e3fe8-341f-470e-ac6d-40fe76b448ca"
      },
      "execution_count": 38,
      "outputs": [
        {
          "output_type": "execute_result",
          "data": {
            "text/plain": [
              "array(['4.0.3 and up', '4.2 and up', '4.4 and up', '2.3 and up',\n",
              "       '3.0 and up', '4.1 and up', '4.0 and up', '2.3.3 and up',\n",
              "       'Varies with device', '2.2 and up', '5.0 and up', '6.0 and up',\n",
              "       '1.6 and up', '1.5 and up', '2.1 and up', '7.0 and up',\n",
              "       '5.1 and up', '4.3 and up', '4.0.3 - 7.1.1', '2.0 and up',\n",
              "       '3.2 and up', '7.1 and up', '7.0 - 7.1.1', '8.0 and up',\n",
              "       '5.0 - 8.0', '3.1 and up', '2.0.1 and up', '4.1 - 7.1.1', nan,\n",
              "       '5.0 - 6.0', '1.0 and up', '2.2 - 7.1.1', '5.0 - 7.1.1'],\n",
              "      dtype=object)"
            ]
          },
          "metadata": {},
          "execution_count": 38
        }
      ]
    },
    {
      "cell_type": "code",
      "source": [
        "#replacing unknown values with stats\n",
        "df['Android Ver'].fillna(str(df['Android Ver'].mode().values[0]),inplace=True)\n",
        "df['Current Ver'].fillna(str(df['Current Ver'].mode().values[0]),inplace=True)\n",
        "df['Type'].fillna(str(df['Type'].mode().values[0]),inplace=True)"
      ],
      "metadata": {
        "id": "ztVufYYqUIGj"
      },
      "execution_count": 39,
      "outputs": []
    },
    {
      "cell_type": "code",
      "source": [
        "df.isnull().sum()"
      ],
      "metadata": {
        "colab": {
          "base_uri": "https://localhost:8080/"
        },
        "id": "IYvZW8JIYFt0",
        "outputId": "fc2de9e4-54a7-4a23-a0bd-1d9571f4468c"
      },
      "execution_count": 40,
      "outputs": [
        {
          "output_type": "execute_result",
          "data": {
            "text/plain": [
              "App                  0\n",
              "Category             0\n",
              "Rating            1463\n",
              "Reviews              0\n",
              "Size              1139\n",
              "Installs             0\n",
              "Type                 0\n",
              "Price                0\n",
              "Content Rating       0\n",
              "Genres               0\n",
              "Last Updated         0\n",
              "Current Ver          0\n",
              "Android Ver          0\n",
              "dtype: int64"
            ]
          },
          "metadata": {},
          "execution_count": 40
        }
      ]
    },
    {
      "cell_type": "code",
      "source": [
        "df['Category']=df['Category'].str.title()"
      ],
      "metadata": {
        "id": "iZos8idOVt_T"
      },
      "execution_count": 41,
      "outputs": []
    },
    {
      "cell_type": "markdown",
      "source": [
        "### 6. Missing values"
      ],
      "metadata": {
        "id": "OwG3UfH0RH6K"
      }
    },
    {
      "cell_type": "markdown",
      "source": [
        "#### **missing values functions**\n",
        "stats(df,variable)\n",
        "\n",
        "impute_nan(df,variable,mean,median)\n",
        "\n",
        "nv_plot(df,variable)\n",
        "\n",
        "impute_nanc(df,variable,mode)\n",
        "\n",
        "change_col(df,col1,col2)\n",
        "\n",
        "drop_col(df,col_lst)\n",
        "\n",
        "rename_col(df,col_dict)"
      ],
      "metadata": {
        "id": "dwhjvgqknB0h"
      }
    },
    {
      "cell_type": "code",
      "source": [
        "def stats(df,variable):\n",
        "  \n",
        "  #to check unique values\n",
        "  ulst=df[variable].unique()\n",
        "\n",
        "\n",
        "  #mean of the column\n",
        "  mean=df[variable].mean()\n",
        "\n",
        "  #median of the column\n",
        "  median=df[variable].median()\n",
        "  \n",
        "  return ulst,mean,median\n",
        " "
      ],
      "metadata": {
        "id": "NO7TMLwgRLYr"
      },
      "execution_count": 42,
      "outputs": []
    },
    {
      "cell_type": "code",
      "source": [
        "ulst,mean,median=stats(df,'Rating')\n",
        "print('unique values:',ulst,'\\nmean:',mean,'\\nmedian:',median)"
      ],
      "metadata": {
        "colab": {
          "base_uri": "https://localhost:8080/"
        },
        "id": "SVdwJedtrW1F",
        "outputId": "e70d498d-087f-4167-c81c-f834b1aa7c26"
      },
      "execution_count": 43,
      "outputs": [
        {
          "output_type": "stream",
          "name": "stdout",
          "text": [
            "unique values: [4.1 3.9 4.7 4.5 4.3 4.4 3.8 4.2 4.6 3.2 4.  nan 4.8 4.9 3.6 3.7 3.3 3.4\n",
            " 3.5 3.1 5.  2.6 3.  1.9 2.5 2.8 2.7 1.  2.9 2.3 2.2 1.7 2.  1.8 2.4 1.6\n",
            " 2.1 1.4 1.5 1.2] \n",
            "mean: 4.173243045387994 \n",
            "median: 4.3\n"
          ]
        }
      ]
    },
    {
      "cell_type": "code",
      "source": [
        "#new col for random sample\n",
        "def impute_nan(df,variable,mean,median):\n",
        "  df[variable+\"_mean\"]=df[variable].fillna(mean)\n",
        "  df[variable+\"_median\"]=df[variable].fillna(median)\n",
        "  df[variable+\"_random\"]=df[variable]\n",
        "  ##It will have the random sample to fill the na\n",
        "  random_sample=df[variable].dropna().sample(df[variable].isnull().sum(),random_state=0)\n",
        "  ##pandas need to have same index in order to merge the dataset\n",
        "  random_sample.index=df[df[variable].isnull()].index\n",
        "  df.loc[df[variable].isnull(),variable+'_random']=random_sample\n"
      ],
      "metadata": {
        "id": "HQxga0yRR8SB"
      },
      "execution_count": 44,
      "outputs": []
    },
    {
      "cell_type": "code",
      "source": [
        "impute_nan(df,'Rating',mean,median)"
      ],
      "metadata": {
        "id": "q5FVpJGytL9Q"
      },
      "execution_count": 45,
      "outputs": []
    },
    {
      "cell_type": "code",
      "source": [
        "# impute_nan(df,'Size',mean,median)"
      ],
      "metadata": {
        "id": "_mnKKwsucKdV"
      },
      "execution_count": 46,
      "outputs": []
    },
    {
      "cell_type": "code",
      "source": [
        "#plot between 3 methods \n",
        "def nv_plot(df,variable):\n",
        "  fig = plt.figure()\n",
        "  ax = fig.add_subplot(111)\n",
        "  df[variable].plot(kind='kde', ax=ax)\n",
        "  df[variable+'_mean'].plot(kind='kde', ax=ax, color='pink')\n",
        "  df[variable+'_median'].plot(kind='kde', ax=ax, color='red')\n",
        "  df[variable+'_random'].plot(kind='kde', ax=ax, color='green')\n",
        "  lines, labels = ax.get_legend_handles_labels()\n",
        "  ax.legend(lines, labels, loc='best')"
      ],
      "metadata": {
        "id": "8tCC1UMtSCZG"
      },
      "execution_count": 47,
      "outputs": []
    },
    {
      "cell_type": "code",
      "source": [
        "nv_plot(df,'Rating')"
      ],
      "metadata": {
        "colab": {
          "base_uri": "https://localhost:8080/",
          "height": 0
        },
        "id": "LT40c7ZItVHj",
        "outputId": "a02769eb-9e01-4f74-e765-cac80b3278b6"
      },
      "execution_count": 48,
      "outputs": [
        {
          "output_type": "display_data",
          "data": {
            "text/plain": [
              "<Figure size 648x648 with 1 Axes>"
            ],
            "image/png": "[encoded data removed]"
          },
          "metadata": {}
        }
      ]
    },
    {
      "cell_type": "code",
      "source": [
        "sulst,smean,smedian=stats(df,'Size')\n",
        "print('unique values:',sulst,'\\nmean:',smean,'\\nmedian:',smedian)"
      ],
      "metadata": {
        "colab": {
          "base_uri": "https://localhost:8080/"
        },
        "id": "av_nV4q2Jqui",
        "outputId": "44e76dbb-7367-49a7-da40-efa7de2b3602"
      },
      "execution_count": 49,
      "outputs": [
        {
          "output_type": "stream",
          "name": "stdout",
          "text": [
            "unique values: [1.90000000e+01 1.40000000e+01 8.70000000e+00 2.50000000e+01\n",
            " 2.80000000e+00 5.60000000e+00 2.90000000e+01 3.30000000e+01\n",
            " 3.10000000e+00 2.80000000e+01 1.20000000e+01 2.00000000e+01\n",
            " 2.10000000e+01 3.70000000e+01 2.70000000e+00 5.50000000e+00\n",
            " 1.70000000e+01 3.90000000e+01 3.10000000e+01 4.20000000e+00\n",
            " 7.00000000e+00 2.30000000e+01 6.00000000e+00 6.10000000e+00\n",
            " 4.60000000e+00 9.20000000e+00 5.20000000e+00 1.10000000e+01\n",
            " 2.40000000e+01 0.00000000e+00 9.40000000e+00 1.50000000e+01\n",
            " 1.00000000e+01 1.20000000e+00 2.60000000e+01 8.00000000e+00\n",
            " 7.90000000e+00 5.60000000e+01 5.70000000e+01 3.50000000e+01\n",
            " 5.40000000e+01 1.96289062e-01 3.60000000e+00 5.70000000e+00\n",
            " 8.60000000e+00 2.40000000e+00 2.70000000e+01 2.50000000e+00\n",
            " 1.60000000e+01 3.40000000e+00 8.90000000e+00 3.90000000e+00\n",
            " 2.90000000e+00 3.80000000e+01 3.20000000e+01 5.40000000e+00\n",
            " 1.80000000e+01 1.10000000e+00 2.20000000e+00 4.50000000e+00\n",
            " 9.80000000e+00 5.20000000e+01 9.00000000e+00 6.70000000e+00\n",
            " 3.00000000e+01 2.60000000e+00 7.10000000e+00 3.70000000e+00\n",
            " 2.20000000e+01 7.40000000e+00 6.40000000e+00 3.20000000e+00\n",
            " 8.20000000e+00 9.90000000e+00 4.90000000e+00 9.50000000e+00\n",
            " 5.00000000e+00 5.90000000e+00 1.30000000e+01 7.30000000e+01\n",
            " 6.80000000e+00 3.50000000e+00 4.00000000e+00 2.30000000e+00\n",
            " 7.20000000e+00 2.10000000e+00 4.20000000e+01 7.30000000e+00\n",
            " 9.10000000e+00 5.50000000e+01 2.24609375e-02 6.50000000e+00\n",
            " 1.50000000e+00 7.50000000e+00 4.10000000e+01 4.80000000e+01\n",
            " 8.50000000e+00 4.60000000e+01 7.80000000e+00 8.80000000e+00\n",
            " 6.60000000e+00 5.10000000e+00 3.30000000e+00 4.00000000e+01\n",
            " 6.10000000e+01 6.60000000e+01 7.71484375e-02 8.30000000e+00\n",
            " 8.40000000e+00 4.30000000e+00 4.70000000e+00 4.40000000e+01\n",
            " 6.78710938e-01 1.60000000e+00 6.20000000e+00 1.75781250e-02\n",
            " 5.30000000e+01 1.40000000e+00 5.80000000e+00 3.80000000e+00\n",
            " 9.60000000e+00 6.30000000e+01 4.90000000e+01 7.70000000e+01\n",
            " 4.40000000e+00 4.80000000e+00 7.00000000e+01 6.90000000e+00\n",
            " 9.30000000e+00 3.60000000e+01 8.10000000e+00 5.10000000e+01\n",
            " 3.00000000e+00 8.40000000e+01 9.70000000e+01 2.00000000e+00\n",
            " 1.90000000e+00 1.80000000e+00 5.30000000e+00 4.70000000e+01\n",
            " 5.42968750e-01 5.13671875e-01 7.60000000e+01 7.60000000e+00\n",
            " 9.70000000e+00 7.80000000e+01 7.20000000e+01 6.30000000e+00\n",
            " 3.26171875e-01 6.50000000e+01 7.90000000e+01 1.00000000e+02\n",
            " 5.80000000e+01 6.80000000e+01 3.40000000e+01 6.70000000e+01\n",
            " 5.90000000e+01 9.30000000e+01 6.00000000e+01 4.30000000e+01\n",
            " 4.50000000e+01 9.40000000e+01 7.70000000e+00 2.26562500e-01\n",
            " 9.90000000e+01 6.09375000e-01 9.50000000e+01 8.30078125e-03\n",
            " 5.00000000e+01 4.00390625e-02 2.85156250e-01 1.07421875e-02\n",
            " 8.00000000e+01 1.70000000e+00 7.40000000e+01 6.20000000e+01\n",
            " 6.90000000e+01 7.50000000e+01 8.20000000e+01 8.50000000e+01\n",
            " 7.10000000e+01 9.80000000e+01 8.60000000e+01 8.70000000e+01\n",
            " 9.10000000e+01 8.10000000e+01 9.60000000e+01 9.20000000e+01\n",
            " 8.80000000e+01 8.30000000e+01 6.40000000e+01 6.87500000e-01\n",
            " 8.77929688e-01 3.69140625e-01 2.59765625e-01 3.66210938e-01\n",
            " 4.10000000e+00 8.90000000e+01 1.30000000e+00 8.98437500e-01\n",
            " 7.60742188e-01 8.33007812e-01 6.96289062e-01 7.53906250e-01\n",
            " 3.10546875e-01 5.66406250e-02 2.35351562e-01 1.91406250e-01\n",
            " 8.36914062e-01 4.98046875e-02 9.30664062e-01 2.45117188e-01\n",
            " 9.08203125e-01 3.05664062e-01 7.28515625e-01 1.98242188e-01\n",
            " 2.53906250e-02 3.06640625e-01 1.15234375e-01 7.12890625e-01\n",
            " 7.38281250e-01 8.88671875e-02 2.86132812e-01 1.66015625e-02\n",
            " 7.22656250e-02 3.09570312e-01 9.02343750e-01 7.98828125e-01\n",
            " 7.91015625e-02 9.16992188e-01 1.65039062e-01 4.39453125e-02\n",
            " 9.42382812e-01 9.00000000e+01 5.32226562e-01 5.95703125e-02\n",
            " 2.76367188e-01 6.39648438e-01 6.97265625e-01 9.08203125e-02\n",
            " 8.51562500e-01 1.18164062e-01 3.14453125e-01 1.00000000e+00\n",
            " 9.53125000e-01 1.67968750e-01 2.32421875e-01 5.36132812e-01\n",
            " 2.01171875e-01 9.31640625e-01 4.33593750e-01 7.00195312e-01\n",
            " 2.05078125e-01 5.94726562e-01 3.00781250e-01 6.88476562e-01\n",
            " 2.98828125e-01 8.82812500e-01 4.61914062e-01 1.70898438e-01\n",
            " 3.41796875e-01 4.43359375e-01 4.11132812e-01 6.83593750e-02\n",
            " 7.92968750e-01 4.31640625e-01 8.22265625e-01 4.07226562e-01\n",
            " 4.02343750e-01 4.48242188e-01 4.66796875e-01 3.27148438e-01\n",
            " 7.63671875e-01 7.04101562e-01 4.19921875e-01 1.87500000e-01\n",
            " 1.95312500e-01 4.49218750e-01 7.10937500e-01 4.84375000e-01\n",
            " 7.96875000e-01 4.04296875e-01 4.94140625e-01 8.66210938e-01\n",
            " 5.98632812e-01 2.37304688e-01 5.55664062e-01 7.59765625e-01\n",
            " 6.66992188e-01 5.78125000e-01 3.11523438e-01 8.20312500e-01\n",
            " 6.31835938e-01 1.86523438e-01 3.64257812e-01 4.26757812e-01\n",
            " 5.83984375e-01 6.99218750e-01 5.71289062e-01 9.58984375e-01\n",
            " 2.16796875e-01 2.13867188e-01 5.37109375e-02 9.25781250e-01\n",
            " 3.15429688e-01 6.74804688e-01 4.99023438e-01 9.28710938e-01\n",
            " 9.40429688e-01 2.44140625e-02 5.41015625e-01 3.42773438e-01\n",
            " 2.63671875e-02 8.00781250e-02 2.03125000e-01 8.91601562e-01\n",
            " 5.01953125e-01 5.38085938e-01 2.83203125e-02 1.00585938e-01\n",
            " 8.76953125e-01 7.25585938e-01 1.13281250e-01 1.49414062e-01\n",
            " 2.04101562e-01 3.44726562e-01 4.87304688e-01 1.68945312e-01\n",
            " 5.83007812e-01 7.90039062e-01 1.19140625e-01 4.01367188e-01\n",
            " 3.90625000e-01 7.82226562e-01 2.31445312e-01 4.88281250e-02\n",
            " 6.27929688e-01 9.62890625e-01 9.47265625e-02 5.03906250e-01\n",
            " 8.17382812e-01 7.61718750e-01 9.38476562e-01 2.62695312e-01\n",
            " 1.95312500e-02 4.86328125e-01 5.85937500e-01 7.31445312e-01\n",
            " 6.26953125e-01 8.60351562e-01 7.03125000e-02 6.40625000e-01\n",
            " 5.86914062e-01 2.15820312e-01 2.22656250e-01 1.05468750e-01\n",
            " 9.17968750e-01 1.71875000e-01 3.22265625e-02 6.47460938e-01\n",
            " 3.32031250e-02 9.19921875e-01 2.52929688e-01 1.60156250e-01\n",
            " 4.47265625e-01 2.39257812e-01 6.14257812e-01 2.73437500e-02\n",
            " 2.81250000e-01 7.56835938e-01 6.21093750e-01 8.94531250e-01\n",
            " 9.70703125e-01 3.01757812e-01 4.73632812e-01 8.92578125e-01\n",
            " 8.81835938e-01 5.93750000e-01 4.88281250e-01 5.27343750e-02\n",
            " 5.48828125e-01 8.27148438e-01 9.34570312e-01 6.71875000e-01\n",
            " 7.91992188e-01 2.63671875e-01 4.68750000e-02 3.21289062e-01\n",
            " 5.10742188e-01 8.99414062e-01 8.53515625e-01 9.58007812e-01\n",
            " 7.65625000e-01 2.73437500e-01 2.34375000e-02 5.05859375e-01\n",
            " 7.36328125e-01 8.71093750e-01 1.50390625e-01 8.39843750e-01\n",
            " 3.55468750e-01 3.77929688e-01 6.11328125e-01 1.57226562e-01\n",
            " 8.58398438e-01 9.47265625e-01 1.66015625e-01 1.37695312e-01\n",
            " 1.56250000e-01 1.40625000e-01 1.39648438e-01 1.85546875e-01\n",
            " 3.67187500e-01 1.88476562e-01 2.40234375e-01 7.12890625e-02\n",
            " 6.42578125e-01 9.68750000e-01 2.47070312e-01 4.10156250e-01\n",
            " 3.94531250e-01 4.58984375e-01 2.20703125e-01 2.34375000e-01\n",
            " 8.69140625e-02 2.28515625e-01 2.50976562e-01 8.40820312e-01\n",
            " 4.56054688e-01 1.53320312e-01 4.29687500e-02 6.54296875e-02\n",
            " 5.39062500e-01 8.64257812e-01 9.96093750e-01 5.68359375e-01\n",
            " 6.04492188e-01            nan] \n",
            "mean: 17.755712787466994 \n",
            "median: 9.1\n"
          ]
        }
      ]
    },
    {
      "cell_type": "code",
      "source": [
        "impute_nan(df,'Size',smean,smedian)"
      ],
      "metadata": {
        "id": "hwBMCSdgJvNI"
      },
      "execution_count": 50,
      "outputs": []
    },
    {
      "cell_type": "code",
      "source": [
        "nv_plot(df,'Size')"
      ],
      "metadata": {
        "id": "BcTwSKCecXUT",
        "colab": {
          "base_uri": "https://localhost:8080/",
          "height": 0
        },
        "outputId": "601e45ba-cc1f-4761-e0e8-36157d31e4de"
      },
      "execution_count": 51,
      "outputs": [
        {
          "output_type": "display_data",
          "data": {
            "text/plain": [
              "<Figure size 648x648 with 1 Axes>"
            ],
            "image/png": "[encoded data removed]"
          },
          "metadata": {}
        }
      ]
    },
    {
      "cell_type": "code",
      "source": [
        "df.head(20)"
      ],
      "metadata": {
        "colab": {
          "base_uri": "https://localhost:8080/",
          "height": 0
        },
        "id": "pc2FcuuAL703",
        "outputId": "287e27bb-6032-4bbb-e149-6064447eab94"
      },
      "execution_count": 52,
      "outputs": [
        {
          "output_type": "execute_result",
          "data": {
            "text/plain": [
              "                                                  App        Category  Rating  \\\n",
              "0      Photo Editor & Candy Camera & Grid & ScrapBook  Art And Design     4.1   \n",
              "1                                 Coloring book moana  Art And Design     3.9   \n",
              "2   U Launcher Lite – FREE Live Cool Themes, Hide ...  Art And Design     4.7   \n",
              "3                               Sketch - Draw & Paint  Art And Design     4.5   \n",
              "4               Pixel Draw - Number Art Coloring Book  Art And Design     4.3   \n",
              "5                          Paper flowers instructions  Art And Design     4.4   \n",
              "6             Smoke Effect Photo Maker - Smoke Editor  Art And Design     3.8   \n",
              "7                                    Infinite Painter  Art And Design     4.1   \n",
              "8                                Garden Coloring Book  Art And Design     4.4   \n",
              "9                       Kids Paint Free - Drawing Fun  Art And Design     4.7   \n",
              "10                            Text on Photo - Fonteee  Art And Design     4.4   \n",
              "11            Name Art Photo Editor - Focus n Filters  Art And Design     4.4   \n",
              "12                     Tattoo Name On My Photo Editor  Art And Design     4.2   \n",
              "13                              Mandala Coloring Book  Art And Design     4.6   \n",
              "14    3D Color Pixel by Number - Sandbox Art Coloring  Art And Design     4.4   \n",
              "15                    Learn To Draw Kawaii Characters  Art And Design     3.2   \n",
              "16       Photo Designer - Write your name with shapes  Art And Design     4.7   \n",
              "17                           350 Diy Room Decor Ideas  Art And Design     4.5   \n",
              "18                      FlipaClip - Cartoon animation  Art And Design     4.3   \n",
              "19                                       ibis Paint X  Art And Design     4.6   \n",
              "\n",
              "   Reviews  Size  Installs  Type Price Content Rating  \\\n",
              "0      159  19.0     10000  Free     0       Everyone   \n",
              "1      967  14.0    500000  Free     0       Everyone   \n",
              "2    87510   8.7   5000000  Free     0       Everyone   \n",
              "3   215644  25.0  50000000  Free     0           Teen   \n",
              "4      967   2.8    100000  Free     0       Everyone   \n",
              "5      167   5.6     50000  Free     0       Everyone   \n",
              "6      178  19.0     50000  Free     0       Everyone   \n",
              "7    36815  29.0   1000000  Free     0       Everyone   \n",
              "8    13791  33.0   1000000  Free     0       Everyone   \n",
              "9      121   3.1     10000  Free     0       Everyone   \n",
              "10   13880  28.0   1000000  Free     0       Everyone   \n",
              "11    8788  12.0   1000000  Free     0       Everyone   \n",
              "12   44829  20.0  10000000  Free     0           Teen   \n",
              "13    4326  21.0    100000  Free     0       Everyone   \n",
              "14    1518  37.0    100000  Free     0       Everyone   \n",
              "15      55   2.7      5000  Free     0       Everyone   \n",
              "16    3632   5.5    500000  Free     0       Everyone   \n",
              "17      27  17.0     10000  Free     0       Everyone   \n",
              "18  194216  39.0   5000000  Free     0       Everyone   \n",
              "19  224399  31.0  10000000  Free     0       Everyone   \n",
              "\n",
              "                       Genres        Last Updated         Current Ver  \\\n",
              "0                Art & Design     January 7, 2018               1.0.0   \n",
              "1   Art & Design;Pretend Play    January 15, 2018               2.0.0   \n",
              "2                Art & Design      August 1, 2018               1.2.4   \n",
              "3                Art & Design        June 8, 2018  Varies with device   \n",
              "4     Art & Design;Creativity       June 20, 2018                 1.1   \n",
              "5                Art & Design      March 26, 2017                 1.0   \n",
              "6                Art & Design      April 26, 2018                 1.1   \n",
              "7                Art & Design       June 14, 2018            6.1.61.1   \n",
              "8                Art & Design  September 20, 2017               2.9.2   \n",
              "9     Art & Design;Creativity        July 3, 2018                 2.8   \n",
              "10               Art & Design    October 27, 2017               1.0.4   \n",
              "11               Art & Design       July 31, 2018              1.0.15   \n",
              "12               Art & Design       April 2, 2018                 3.8   \n",
              "13               Art & Design       June 26, 2018               1.0.4   \n",
              "14               Art & Design      August 3, 2018               1.2.3   \n",
              "15               Art & Design        June 6, 2018  Varies with device   \n",
              "16               Art & Design       July 31, 2018                 3.1   \n",
              "17               Art & Design    November 7, 2017                 1.0   \n",
              "18               Art & Design      August 3, 2018               2.2.5   \n",
              "19               Art & Design       July 30, 2018               5.5.4   \n",
              "\n",
              "     Android Ver  Rating_mean  Rating_median  Rating_random  Size_mean  \\\n",
              "0   4.0.3 and up          4.1            4.1            4.1       19.0   \n",
              "1   4.0.3 and up          3.9            3.9            3.9       14.0   \n",
              "2   4.0.3 and up          4.7            4.7            4.7        8.7   \n",
              "3     4.2 and up          4.5            4.5            4.5       25.0   \n",
              "4     4.4 and up          4.3            4.3            4.3        2.8   \n",
              "5     2.3 and up          4.4            4.4            4.4        5.6   \n",
              "6   4.0.3 and up          3.8            3.8            3.8       19.0   \n",
              "7     4.2 and up          4.1            4.1            4.1       29.0   \n",
              "8     3.0 and up          4.4            4.4            4.4       33.0   \n",
              "9   4.0.3 and up          4.7            4.7            4.7        3.1   \n",
              "10    4.1 and up          4.4            4.4            4.4       28.0   \n",
              "11    4.0 and up          4.4            4.4            4.4       12.0   \n",
              "12    4.1 and up          4.2            4.2            4.2       20.0   \n",
              "13    4.4 and up          4.6            4.6            4.6       21.0   \n",
              "14    2.3 and up          4.4            4.4            4.4       37.0   \n",
              "15    4.2 and up          3.2            3.2            3.2        2.7   \n",
              "16    4.1 and up          4.7            4.7            4.7        5.5   \n",
              "17    2.3 and up          4.5            4.5            4.5       17.0   \n",
              "18  4.0.3 and up          4.3            4.3            4.3       39.0   \n",
              "19    4.1 and up          4.6            4.6            4.6       31.0   \n",
              "\n",
              "    Size_median  Size_random  \n",
              "0          19.0         19.0  \n",
              "1          14.0         14.0  \n",
              "2           8.7          8.7  \n",
              "3          25.0         25.0  \n",
              "4           2.8          2.8  \n",
              "5           5.6          5.6  \n",
              "6          19.0         19.0  \n",
              "7          29.0         29.0  \n",
              "8          33.0         33.0  \n",
              "9           3.1          3.1  \n",
              "10         28.0         28.0  \n",
              "11         12.0         12.0  \n",
              "12         20.0         20.0  \n",
              "13         21.0         21.0  \n",
              "14         37.0         37.0  \n",
              "15          2.7          2.7  \n",
              "16          5.5          5.5  \n",
              "17         17.0         17.0  \n",
              "18         39.0         39.0  \n",
              "19         31.0         31.0  "
            ],
            "text/html": [
              "\n",
              "  <div id=\"df-7ccb5764-f7aa-46c2-9275-e227ee03b6aa\">\n",
              "    <div class=\"colab-df-container\">\n",
              "      <div>\n",
              "<style scoped>\n",
              "    .dataframe tbody tr th:only-of-type {\n",
              "        vertical-align: middle;\n",
              "    }\n",
              "\n",
              "    .dataframe tbody tr th {\n",
              "        vertical-align: top;\n",
              "    }\n",
              "\n",
              "    .dataframe thead th {\n",
              "        text-align: right;\n",
              "    }\n",
              "</style>\n",
              "<table border=\"1\" class=\"dataframe\">\n",
              "  <thead>\n",
              "    <tr style=\"text-align: right;\">\n",
              "      <th></th>\n",
              "      <th>App</th>\n",
              "      <th>Category</th>\n",
              "      <th>Rating</th>\n",
              "      <th>Reviews</th>\n",
              "      <th>Size</th>\n",
              "      <th>Installs</th>\n",
              "      <th>Type</th>\n",
              "      <th>Price</th>\n",
              "      <th>Content Rating</th>\n",
              "      <th>Genres</th>\n",
              "      <th>Last Updated</th>\n",
              "      <th>Current Ver</th>\n",
              "      <th>Android Ver</th>\n",
              "      <th>Rating_mean</th>\n",
              "      <th>Rating_median</th>\n",
              "      <th>Rating_random</th>\n",
              "      <th>Size_mean</th>\n",
              "      <th>Size_median</th>\n",
              "      <th>Size_random</th>\n",
              "    </tr>\n",
              "  </thead>\n",
              "  <tbody>\n",
              "    <tr>\n",
              "      <th>0</th>\n",
              "      <td>Photo Editor &amp; Candy Camera &amp; Grid &amp; ScrapBook</td>\n",
              "      <td>Art And Design</td>\n",
              "      <td>4.1</td>\n",
              "      <td>159</td>\n",
              "      <td>19.0</td>\n",
              "      <td>10000</td>\n",
              "      <td>Free</td>\n",
              "      <td>0</td>\n",
              "      <td>Everyone</td>\n",
              "      <td>Art &amp; Design</td>\n",
              "      <td>January 7, 2018</td>\n",
              "      <td>1.0.0</td>\n",
              "      <td>4.0.3 and up</td>\n",
              "      <td>4.1</td>\n",
              "      <td>4.1</td>\n",
              "      <td>4.1</td>\n",
              "      <td>19.0</td>\n",
              "      <td>19.0</td>\n",
              "      <td>19.0</td>\n",
              "    </tr>\n",
              "    <tr>\n",
              "      <th>1</th>\n",
              "      <td>Coloring book moana</td>\n",
              "      <td>Art And Design</td>\n",
              "      <td>3.9</td>\n",
              "      <td>967</td>\n",
              "      <td>14.0</td>\n",
              "      <td>500000</td>\n",
              "      <td>Free</td>\n",
              "      <td>0</td>\n",
              "      <td>Everyone</td>\n",
              "      <td>Art &amp; Design;Pretend Play</td>\n",
              "      <td>January 15, 2018</td>\n",
              "      <td>2.0.0</td>\n",
              "      <td>4.0.3 and up</td>\n",
              "      <td>3.9</td>\n",
              "      <td>3.9</td>\n",
              "      <td>3.9</td>\n",
              "      <td>14.0</td>\n",
              "      <td>14.0</td>\n",
              "      <td>14.0</td>\n",
              "    </tr>\n",
              "    <tr>\n",
              "      <th>2</th>\n",
              "      <td>U Launcher Lite – FREE Live Cool Themes, Hide ...</td>\n",
              "      <td>Art And Design</td>\n",
              "      <td>4.7</td>\n",
              "      <td>87510</td>\n",
              "      <td>8.7</td>\n",
              "      <td>5000000</td>\n",
              "      <td>Free</td>\n",
              "      <td>0</td>\n",
              "      <td>Everyone</td>\n",
              "      <td>Art &amp; Design</td>\n",
              "      <td>August 1, 2018</td>\n",
              "      <td>1.2.4</td>\n",
              "      <td>4.0.3 and up</td>\n",
              "      <td>4.7</td>\n",
              "      <td>4.7</td>\n",
              "      <td>4.7</td>\n",
              "      <td>8.7</td>\n",
              "      <td>8.7</td>\n",
              "      <td>8.7</td>\n",
              "    </tr>\n",
              "    <tr>\n",
              "      <th>3</th>\n",
              "      <td>Sketch - Draw &amp; Paint</td>\n",
              "      <td>Art And Design</td>\n",
              "      <td>4.5</td>\n",
              "      <td>215644</td>\n",
              "      <td>25.0</td>\n",
              "      <td>50000000</td>\n",
              "      <td>Free</td>\n",
              "      <td>0</td>\n",
              "      <td>Teen</td>\n",
              "      <td>Art &amp; Design</td>\n",
              "      <td>June 8, 2018</td>\n",
              "      <td>Varies with device</td>\n",
              "      <td>4.2 and up</td>\n",
              "      <td>4.5</td>\n",
              "      <td>4.5</td>\n",
              "      <td>4.5</td>\n",
              "      <td>25.0</td>\n",
              "      <td>25.0</td>\n",
              "      <td>25.0</td>\n",
              "    </tr>\n",
              "    <tr>\n",
              "      <th>4</th>\n",
              "      <td>Pixel Draw - Number Art Coloring Book</td>\n",
              "      <td>Art And Design</td>\n",
              "      <td>4.3</td>\n",
              "      <td>967</td>\n",
              "      <td>2.8</td>\n",
              "      <td>100000</td>\n",
              "      <td>Free</td>\n",
              "      <td>0</td>\n",
              "      <td>Everyone</td>\n",
              "      <td>Art &amp; Design;Creativity</td>\n",
              "      <td>June 20, 2018</td>\n",
              "      <td>1.1</td>\n",
              "      <td>4.4 and up</td>\n",
              "      <td>4.3</td>\n",
              "      <td>4.3</td>\n",
              "      <td>4.3</td>\n",
              "      <td>2.8</td>\n",
              "      <td>2.8</td>\n",
              "      <td>2.8</td>\n",
              "    </tr>\n",
              "    <tr>\n",
              "      <th>5</th>\n",
              "      <td>Paper flowers instructions</td>\n",
              "      <td>Art And Design</td>\n",
              "      <td>4.4</td>\n",
              "      <td>167</td>\n",
              "      <td>5.6</td>\n",
              "      <td>50000</td>\n",
              "      <td>Free</td>\n",
              "      <td>0</td>\n",
              "      <td>Everyone</td>\n",
              "      <td>Art &amp; Design</td>\n",
              "      <td>March 26, 2017</td>\n",
              "      <td>1.0</td>\n",
              "      <td>2.3 and up</td>\n",
              "      <td>4.4</td>\n",
              "      <td>4.4</td>\n",
              "      <td>4.4</td>\n",
              "      <td>5.6</td>\n",
              "      <td>5.6</td>\n",
              "      <td>5.6</td>\n",
              "    </tr>\n",
              "    <tr>\n",
              "      <th>6</th>\n",
              "      <td>Smoke Effect Photo Maker - Smoke Editor</td>\n",
              "      <td>Art And Design</td>\n",
              "      <td>3.8</td>\n",
              "      <td>178</td>\n",
              "      <td>19.0</td>\n",
              "      <td>50000</td>\n",
              "      <td>Free</td>\n",
              "      <td>0</td>\n",
              "      <td>Everyone</td>\n",
              "      <td>Art &amp; Design</td>\n",
              "      <td>April 26, 2018</td>\n",
              "      <td>1.1</td>\n",
              "      <td>4.0.3 and up</td>\n",
              "      <td>3.8</td>\n",
              "      <td>3.8</td>\n",
              "      <td>3.8</td>\n",
              "      <td>19.0</td>\n",
              "      <td>19.0</td>\n",
              "      <td>19.0</td>\n",
              "    </tr>\n",
              "    <tr>\n",
              "      <th>7</th>\n",
              "      <td>Infinite Painter</td>\n",
              "      <td>Art And Design</td>\n",
              "      <td>4.1</td>\n",
              "      <td>36815</td>\n",
              "      <td>29.0</td>\n",
              "      <td>1000000</td>\n",
              "      <td>Free</td>\n",
              "      <td>0</td>\n",
              "      <td>Everyone</td>\n",
              "      <td>Art &amp; Design</td>\n",
              "      <td>June 14, 2018</td>\n",
              "      <td>6.1.61.1</td>\n",
              "      <td>4.2 and up</td>\n",
              "      <td>4.1</td>\n",
              "      <td>4.1</td>\n",
              "      <td>4.1</td>\n",
              "      <td>29.0</td>\n",
              "      <td>29.0</td>\n",
              "      <td>29.0</td>\n",
              "    </tr>\n",
              "    <tr>\n",
              "      <th>8</th>\n",
              "      <td>Garden Coloring Book</td>\n",
              "      <td>Art And Design</td>\n",
              "      <td>4.4</td>\n",
              "      <td>13791</td>\n",
              "      <td>33.0</td>\n",
              "      <td>1000000</td>\n",
              "      <td>Free</td>\n",
              "      <td>0</td>\n",
              "      <td>Everyone</td>\n",
              "      <td>Art &amp; Design</td>\n",
              "      <td>September 20, 2017</td>\n",
              "      <td>2.9.2</td>\n",
              "      <td>3.0 and up</td>\n",
              "      <td>4.4</td>\n",
              "      <td>4.4</td>\n",
              "      <td>4.4</td>\n",
              "      <td>33.0</td>\n",
              "      <td>33.0</td>\n",
              "      <td>33.0</td>\n",
              "    </tr>\n",
              "    <tr>\n",
              "      <th>9</th>\n",
              "      <td>Kids Paint Free - Drawing Fun</td>\n",
              "      <td>Art And Design</td>\n",
              "      <td>4.7</td>\n",
              "      <td>121</td>\n",
              "      <td>3.1</td>\n",
              "      <td>10000</td>\n",
              "      <td>Free</td>\n",
              "      <td>0</td>\n",
              "      <td>Everyone</td>\n",
              "      <td>Art &amp; Design;Creativity</td>\n",
              "      <td>July 3, 2018</td>\n",
              "      <td>2.8</td>\n",
              "      <td>4.0.3 and up</td>\n",
              "      <td>4.7</td>\n",
              "      <td>4.7</td>\n",
              "      <td>4.7</td>\n",
              "      <td>3.1</td>\n",
              "      <td>3.1</td>\n",
              "      <td>3.1</td>\n",
              "    </tr>\n",
              "    <tr>\n",
              "      <th>10</th>\n",
              "      <td>Text on Photo - Fonteee</td>\n",
              "      <td>Art And Design</td>\n",
              "      <td>4.4</td>\n",
              "      <td>13880</td>\n",
              "      <td>28.0</td>\n",
              "      <td>1000000</td>\n",
              "      <td>Free</td>\n",
              "      <td>0</td>\n",
              "      <td>Everyone</td>\n",
              "      <td>Art &amp; Design</td>\n",
              "      <td>October 27, 2017</td>\n",
              "      <td>1.0.4</td>\n",
              "      <td>4.1 and up</td>\n",
              "      <td>4.4</td>\n",
              "      <td>4.4</td>\n",
              "      <td>4.4</td>\n",
              "      <td>28.0</td>\n",
              "      <td>28.0</td>\n",
              "      <td>28.0</td>\n",
              "    </tr>\n",
              "    <tr>\n",
              "      <th>11</th>\n",
              "      <td>Name Art Photo Editor - Focus n Filters</td>\n",
              "      <td>Art And Design</td>\n",
              "      <td>4.4</td>\n",
              "      <td>8788</td>\n",
              "      <td>12.0</td>\n",
              "      <td>1000000</td>\n",
              "      <td>Free</td>\n",
              "      <td>0</td>\n",
              "      <td>Everyone</td>\n",
              "      <td>Art &amp; Design</td>\n",
              "      <td>July 31, 2018</td>\n",
              "      <td>1.0.15</td>\n",
              "      <td>4.0 and up</td>\n",
              "      <td>4.4</td>\n",
              "      <td>4.4</td>\n",
              "      <td>4.4</td>\n",
              "      <td>12.0</td>\n",
              "      <td>12.0</td>\n",
              "      <td>12.0</td>\n",
              "    </tr>\n",
              "    <tr>\n",
              "      <th>12</th>\n",
              "      <td>Tattoo Name On My Photo Editor</td>\n",
              "      <td>Art And Design</td>\n",
              "      <td>4.2</td>\n",
              "      <td>44829</td>\n",
              "      <td>20.0</td>\n",
              "      <td>10000000</td>\n",
              "      <td>Free</td>\n",
              "      <td>0</td>\n",
              "      <td>Teen</td>\n",
              "      <td>Art &amp; Design</td>\n",
              "      <td>April 2, 2018</td>\n",
              "      <td>3.8</td>\n",
              "      <td>4.1 and up</td>\n",
              "      <td>4.2</td>\n",
              "      <td>4.2</td>\n",
              "      <td>4.2</td>\n",
              "      <td>20.0</td>\n",
              "      <td>20.0</td>\n",
              "      <td>20.0</td>\n",
              "    </tr>\n",
              "    <tr>\n",
              "      <th>13</th>\n",
              "      <td>Mandala Coloring Book</td>\n",
              "      <td>Art And Design</td>\n",
              "      <td>4.6</td>\n",
              "      <td>4326</td>\n",
              "      <td>21.0</td>\n",
              "      <td>100000</td>\n",
              "      <td>Free</td>\n",
              "      <td>0</td>\n",
              "      <td>Everyone</td>\n",
              "      <td>Art &amp; Design</td>\n",
              "      <td>June 26, 2018</td>\n",
              "      <td>1.0.4</td>\n",
              "      <td>4.4 and up</td>\n",
              "      <td>4.6</td>\n",
              "      <td>4.6</td>\n",
              "      <td>4.6</td>\n",
              "      <td>21.0</td>\n",
              "      <td>21.0</td>\n",
              "      <td>21.0</td>\n",
              "    </tr>\n",
              "    <tr>\n",
              "      <th>14</th>\n",
              "      <td>3D Color Pixel by Number - Sandbox Art Coloring</td>\n",
              "      <td>Art And Design</td>\n",
              "      <td>4.4</td>\n",
              "      <td>1518</td>\n",
              "      <td>37.0</td>\n",
              "      <td>100000</td>\n",
              "      <td>Free</td>\n",
              "      <td>0</td>\n",
              "      <td>Everyone</td>\n",
              "      <td>Art &amp; Design</td>\n",
              "      <td>August 3, 2018</td>\n",
              "      <td>1.2.3</td>\n",
              "      <td>2.3 and up</td>\n",
              "      <td>4.4</td>\n",
              "      <td>4.4</td>\n",
              "      <td>4.4</td>\n",
              "      <td>37.0</td>\n",
              "      <td>37.0</td>\n",
              "      <td>37.0</td>\n",
              "    </tr>\n",
              "    <tr>\n",
              "      <th>15</th>\n",
              "      <td>Learn To Draw Kawaii Characters</td>\n",
              "      <td>Art And Design</td>\n",
              "      <td>3.2</td>\n",
              "      <td>55</td>\n",
              "      <td>2.7</td>\n",
              "      <td>5000</td>\n",
              "      <td>Free</td>\n",
              "      <td>0</td>\n",
              "      <td>Everyone</td>\n",
              "      <td>Art &amp; Design</td>\n",
              "      <td>June 6, 2018</td>\n",
              "      <td>Varies with device</td>\n",
              "      <td>4.2 and up</td>\n",
              "      <td>3.2</td>\n",
              "      <td>3.2</td>\n",
              "      <td>3.2</td>\n",
              "      <td>2.7</td>\n",
              "      <td>2.7</td>\n",
              "      <td>2.7</td>\n",
              "    </tr>\n",
              "    <tr>\n",
              "      <th>16</th>\n",
              "      <td>Photo Designer - Write your name with shapes</td>\n",
              "      <td>Art And Design</td>\n",
              "      <td>4.7</td>\n",
              "      <td>3632</td>\n",
              "      <td>5.5</td>\n",
              "      <td>500000</td>\n",
              "      <td>Free</td>\n",
              "      <td>0</td>\n",
              "      <td>Everyone</td>\n",
              "      <td>Art &amp; Design</td>\n",
              "      <td>July 31, 2018</td>\n",
              "      <td>3.1</td>\n",
              "      <td>4.1 and up</td>\n",
              "      <td>4.7</td>\n",
              "      <td>4.7</td>\n",
              "      <td>4.7</td>\n",
              "      <td>5.5</td>\n",
              "      <td>5.5</td>\n",
              "      <td>5.5</td>\n",
              "    </tr>\n",
              "    <tr>\n",
              "      <th>17</th>\n",
              "      <td>350 Diy Room Decor Ideas</td>\n",
              "      <td>Art And Design</td>\n",
              "      <td>4.5</td>\n",
              "      <td>27</td>\n",
              "      <td>17.0</td>\n",
              "      <td>10000</td>\n",
              "      <td>Free</td>\n",
              "      <td>0</td>\n",
              "      <td>Everyone</td>\n",
              "      <td>Art &amp; Design</td>\n",
              "      <td>November 7, 2017</td>\n",
              "      <td>1.0</td>\n",
              "      <td>2.3 and up</td>\n",
              "      <td>4.5</td>\n",
              "      <td>4.5</td>\n",
              "      <td>4.5</td>\n",
              "      <td>17.0</td>\n",
              "      <td>17.0</td>\n",
              "      <td>17.0</td>\n",
              "    </tr>\n",
              "    <tr>\n",
              "      <th>18</th>\n",
              "      <td>FlipaClip - Cartoon animation</td>\n",
              "      <td>Art And Design</td>\n",
              "      <td>4.3</td>\n",
              "      <td>194216</td>\n",
              "      <td>39.0</td>\n",
              "      <td>5000000</td>\n",
              "      <td>Free</td>\n",
              "      <td>0</td>\n",
              "      <td>Everyone</td>\n",
              "      <td>Art &amp; Design</td>\n",
              "      <td>August 3, 2018</td>\n",
              "      <td>2.2.5</td>\n",
              "      <td>4.0.3 and up</td>\n",
              "      <td>4.3</td>\n",
              "      <td>4.3</td>\n",
              "      <td>4.3</td>\n",
              "      <td>39.0</td>\n",
              "      <td>39.0</td>\n",
              "      <td>39.0</td>\n",
              "    </tr>\n",
              "    <tr>\n",
              "      <th>19</th>\n",
              "      <td>ibis Paint X</td>\n",
              "      <td>Art And Design</td>\n",
              "      <td>4.6</td>\n",
              "      <td>224399</td>\n",
              "      <td>31.0</td>\n",
              "      <td>10000000</td>\n",
              "      <td>Free</td>\n",
              "      <td>0</td>\n",
              "      <td>Everyone</td>\n",
              "      <td>Art &amp; Design</td>\n",
              "      <td>July 30, 2018</td>\n",
              "      <td>5.5.4</td>\n",
              "      <td>4.1 and up</td>\n",
              "      <td>4.6</td>\n",
              "      <td>4.6</td>\n",
              "      <td>4.6</td>\n",
              "      <td>31.0</td>\n",
              "      <td>31.0</td>\n",
              "      <td>31.0</td>\n",
              "    </tr>\n",
              "  </tbody>\n",
              "</table>\n",
              "</div>\n",
              "      <button class=\"colab-df-convert\" onclick=\"convertToInteractive('df-7ccb5764-f7aa-46c2-9275-e227ee03b6aa')\"\n",
              "              title=\"Convert this dataframe to an interactive table.\"\n",
              "              style=\"display:none;\">\n",
              "        \n",
              "  <svg xmlns=\"http://www.w3.org/2000/svg\" height=\"24px\"viewBox=\"0 0 24 24\"\n",
              "       width=\"24px\">\n",
              "    <path d=\"M0 0h24v24H0V0z\" fill=\"none\"/>\n",
              "    <path d=\"M18.56 5.44l.94 2.06.94-2.06 2.06-.94-2.06-.94-.94-2.06-.94 2.06-2.06.94zm-11 1L8.5 8.5l.94-2.06 2.06-.94-2.06-.94L8.5 2.5l-.94 2.06-2.06.94zm10 10l.94 2.06.94-2.06 2.06-.94-2.06-.94-.94-2.06-.94 2.06-2.06.94z\"/><path d=\"M17.41 7.96l-1.37-1.37c-.4-.4-.92-.59-1.43-.59-.52 0-1.04.2-1.43.59L10.3 9.45l-7.72 7.72c-.78.78-.78 2.05 0 2.83L4 21.41c.39.39.9.59 1.41.59.51 0 1.02-.2 1.41-.59l7.78-7.78 2.81-2.81c.8-.78.8-2.07 0-2.86zM5.41 20L4 18.59l7.72-7.72 1.47 1.35L5.41 20z\"/>\n",
              "  </svg>\n",
              "      </button>\n",
              "      \n",
              "  <style>\n",
              "    .colab-df-container {\n",
              "      display:flex;\n",
              "      flex-wrap:wrap;\n",
              "      gap: 12px;\n",
              "    }\n",
              "\n",
              "    .colab-df-convert {\n",
              "      background-color: #E8F0FE;\n",
              "      border: none;\n",
              "      border-radius: 50%;\n",
              "      cursor: pointer;\n",
              "      display: none;\n",
              "      fill: #1967D2;\n",
              "      height: 32px;\n",
              "      padding: 0 0 0 0;\n",
              "      width: 32px;\n",
              "    }\n",
              "\n",
              "    .colab-df-convert:hover {\n",
              "      background-color: #E2EBFA;\n",
              "      box-shadow: 0px 1px 2px rgba(60, 64, 67, 0.3), 0px 1px 3px 1px rgba(60, 64, 67, 0.15);\n",
              "      fill: #174EA6;\n",
              "    }\n",
              "\n",
              "    [theme=dark] .colab-df-convert {\n",
              "      background-color: #3B4455;\n",
              "      fill: #D2E3FC;\n",
              "    }\n",
              "\n",
              "    [theme=dark] .colab-df-convert:hover {\n",
              "      background-color: #434B5C;\n",
              "      box-shadow: 0px 1px 3px 1px rgba(0, 0, 0, 0.15);\n",
              "      filter: drop-shadow(0px 1px 2px rgba(0, 0, 0, 0.3));\n",
              "      fill: #FFFFFF;\n",
              "    }\n",
              "  </style>\n",
              "\n",
              "      <script>\n",
              "        const buttonEl =\n",
              "          document.querySelector('#df-7ccb5764-f7aa-46c2-9275-e227ee03b6aa button.colab-df-convert');\n",
              "        buttonEl.style.display =\n",
              "          google.colab.kernel.accessAllowed ? 'block' : 'none';\n",
              "\n",
              "        async function convertToInteractive(key) {\n",
              "          const element = document.querySelector('#df-7ccb5764-f7aa-46c2-9275-e227ee03b6aa');\n",
              "          const dataTable =\n",
              "            await google.colab.kernel.invokeFunction('convertToInteractive',\n",
              "                                                     [key], {});\n",
              "          if (!dataTable) return;\n",
              "\n",
              "          const docLinkHtml = 'Like what you see? Visit the ' +\n",
              "            '<a target=\"_blank\" href=https://colab.research.google.com/notebooks/data_table.ipynb>data table notebook</a>'\n",
              "            + ' to learn more about interactive tables.';\n",
              "          element.innerHTML = '';\n",
              "          dataTable['output_type'] = 'display_data';\n",
              "          await google.colab.output.renderOutput(dataTable, element);\n",
              "          const docLink = document.createElement('div');\n",
              "          docLink.innerHTML = docLinkHtml;\n",
              "          element.appendChild(docLink);\n",
              "        }\n",
              "      </script>\n",
              "    </div>\n",
              "  </div>\n",
              "  "
            ]
          },
          "metadata": {},
          "execution_count": 52
        }
      ]
    },
    {
      "cell_type": "code",
      "source": [
        "df.info()"
      ],
      "metadata": {
        "colab": {
          "base_uri": "https://localhost:8080/"
        },
        "id": "hES96Bb0QWtd",
        "outputId": "760b203d-4488-4bbb-ffde-62a25334c348"
      },
      "execution_count": 53,
      "outputs": [
        {
          "output_type": "stream",
          "name": "stdout",
          "text": [
            "<class 'pandas.core.frame.DataFrame'>\n",
            "Int64Index: 9659 entries, 0 to 10840\n",
            "Data columns (total 19 columns):\n",
            " #   Column          Non-Null Count  Dtype  \n",
            "---  ------          --------------  -----  \n",
            " 0   App             9659 non-null   object \n",
            " 1   Category        9659 non-null   object \n",
            " 2   Rating          8196 non-null   float64\n",
            " 3   Reviews         9659 non-null   object \n",
            " 4   Size            8520 non-null   float64\n",
            " 5   Installs        9659 non-null   object \n",
            " 6   Type            9659 non-null   object \n",
            " 7   Price           9659 non-null   object \n",
            " 8   Content Rating  9659 non-null   object \n",
            " 9   Genres          9659 non-null   object \n",
            " 10  Last Updated    9659 non-null   object \n",
            " 11  Current Ver     9659 non-null   object \n",
            " 12  Android Ver     9659 non-null   object \n",
            " 13  Rating_mean     9659 non-null   float64\n",
            " 14  Rating_median   9659 non-null   float64\n",
            " 15  Rating_random   9659 non-null   float64\n",
            " 16  Size_mean       9659 non-null   float64\n",
            " 17  Size_median     9659 non-null   float64\n",
            " 18  Size_random     9659 non-null   float64\n",
            "dtypes: float64(8), object(11)\n",
            "memory usage: 1.5+ MB\n"
          ]
        }
      ]
    },
    {
      "cell_type": "code",
      "source": [],
      "metadata": {
        "id": "6CknrKVIVbRw"
      },
      "execution_count": 53,
      "outputs": []
    },
    {
      "cell_type": "code",
      "source": [
        "df['Size_median']=df['Size_median'].replace(0.0,df['Size'].median())"
      ],
      "metadata": {
        "id": "DRslwR6dPS0v"
      },
      "execution_count": 54,
      "outputs": []
    },
    {
      "cell_type": "code",
      "source": [
        "#filling null values for categorical variable\n",
        "def impute_nanc(df,variable,mode):\n",
        "  df[variable]=df[variable].fillna(mode)"
      ],
      "metadata": {
        "id": "89MfptJZTjjP"
      },
      "execution_count": 55,
      "outputs": []
    },
    {
      "cell_type": "code",
      "source": [
        "# impute_nanc(df,variable,mode)"
      ],
      "metadata": {
        "id": "Gg86KnYftozw"
      },
      "execution_count": 56,
      "outputs": []
    },
    {
      "cell_type": "code",
      "source": [
        "df.isnull().sum()"
      ],
      "metadata": {
        "colab": {
          "base_uri": "https://localhost:8080/"
        },
        "id": "oZuXSSCOWi4n",
        "outputId": "2fe4f780-4467-412a-988c-5bd07f30283f"
      },
      "execution_count": 57,
      "outputs": [
        {
          "output_type": "execute_result",
          "data": {
            "text/plain": [
              "App                  0\n",
              "Category             0\n",
              "Rating            1463\n",
              "Reviews              0\n",
              "Size              1139\n",
              "Installs             0\n",
              "Type                 0\n",
              "Price                0\n",
              "Content Rating       0\n",
              "Genres               0\n",
              "Last Updated         0\n",
              "Current Ver          0\n",
              "Android Ver          0\n",
              "Rating_mean          0\n",
              "Rating_median        0\n",
              "Rating_random        0\n",
              "Size_mean            0\n",
              "Size_median          0\n",
              "Size_random          0\n",
              "dtype: int64"
            ]
          },
          "metadata": {},
          "execution_count": 57
        }
      ]
    },
    {
      "cell_type": "markdown",
      "source": [
        "### 9. Splitting columns"
      ],
      "metadata": {
        "id": "CF5WXaIkTnMi"
      }
    },
    {
      "cell_type": "code",
      "source": [
        "df[['Android Ver','android']]=df['Android Ver'].str.split(' ',expand=True,n=1)"
      ],
      "metadata": {
        "id": "DUQc9O-0TMmb"
      },
      "execution_count": 58,
      "outputs": []
    },
    {
      "cell_type": "code",
      "source": [],
      "metadata": {
        "id": "RqzKfUwfRywl"
      },
      "execution_count": 58,
      "outputs": []
    },
    {
      "cell_type": "markdown",
      "source": [
        "### 10. Changing data type of columns"
      ],
      "metadata": {
        "id": "lW88n4zi5ZzT"
      }
    },
    {
      "cell_type": "code",
      "source": [
        "df.head(3)"
      ],
      "metadata": {
        "colab": {
          "base_uri": "https://localhost:8080/",
          "height": 0
        },
        "id": "J0nhuUOjCkyb",
        "outputId": "81b62ccd-cef9-4ed9-98ea-f785887e6b17"
      },
      "execution_count": 59,
      "outputs": [
        {
          "output_type": "execute_result",
          "data": {
            "text/plain": [
              "                                                 App        Category  Rating  \\\n",
              "0     Photo Editor & Candy Camera & Grid & ScrapBook  Art And Design     4.1   \n",
              "1                                Coloring book moana  Art And Design     3.9   \n",
              "2  U Launcher Lite – FREE Live Cool Themes, Hide ...  Art And Design     4.7   \n",
              "\n",
              "  Reviews  Size Installs  Type Price Content Rating  \\\n",
              "0     159  19.0    10000  Free     0       Everyone   \n",
              "1     967  14.0   500000  Free     0       Everyone   \n",
              "2   87510   8.7  5000000  Free     0       Everyone   \n",
              "\n",
              "                      Genres      Last Updated Current Ver Android Ver  \\\n",
              "0               Art & Design   January 7, 2018       1.0.0       4.0.3   \n",
              "1  Art & Design;Pretend Play  January 15, 2018       2.0.0       4.0.3   \n",
              "2               Art & Design    August 1, 2018       1.2.4       4.0.3   \n",
              "\n",
              "   Rating_mean  Rating_median  Rating_random  Size_mean  Size_median  \\\n",
              "0          4.1            4.1            4.1       19.0         19.0   \n",
              "1          3.9            3.9            3.9       14.0         14.0   \n",
              "2          4.7            4.7            4.7        8.7          8.7   \n",
              "\n",
              "   Size_random android  \n",
              "0         19.0  and up  \n",
              "1         14.0  and up  \n",
              "2          8.7  and up  "
            ],
            "text/html": [
              "\n",
              "  <div id=\"df-2c0e2085-56e8-4b1e-9a62-cf9aa9d3c335\">\n",
              "    <div class=\"colab-df-container\">\n",
              "      <div>\n",
              "<style scoped>\n",
              "    .dataframe tbody tr th:only-of-type {\n",
              "        vertical-align: middle;\n",
              "    }\n",
              "\n",
              "    .dataframe tbody tr th {\n",
              "        vertical-align: top;\n",
              "    }\n",
              "\n",
              "    .dataframe thead th {\n",
              "        text-align: right;\n",
              "    }\n",
              "</style>\n",
              "<table border=\"1\" class=\"dataframe\">\n",
              "  <thead>\n",
              "    <tr style=\"text-align: right;\">\n",
              "      <th></th>\n",
              "      <th>App</th>\n",
              "      <th>Category</th>\n",
              "      <th>Rating</th>\n",
              "      <th>Reviews</th>\n",
              "      <th>Size</th>\n",
              "      <th>Installs</th>\n",
              "      <th>Type</th>\n",
              "      <th>Price</th>\n",
              "      <th>Content Rating</th>\n",
              "      <th>Genres</th>\n",
              "      <th>Last Updated</th>\n",
              "      <th>Current Ver</th>\n",
              "      <th>Android Ver</th>\n",
              "      <th>Rating_mean</th>\n",
              "      <th>Rating_median</th>\n",
              "      <th>Rating_random</th>\n",
              "      <th>Size_mean</th>\n",
              "      <th>Size_median</th>\n",
              "      <th>Size_random</th>\n",
              "      <th>android</th>\n",
              "    </tr>\n",
              "  </thead>\n",
              "  <tbody>\n",
              "    <tr>\n",
              "      <th>0</th>\n",
              "      <td>Photo Editor &amp; Candy Camera &amp; Grid &amp; ScrapBook</td>\n",
              "      <td>Art And Design</td>\n",
              "      <td>4.1</td>\n",
              "      <td>159</td>\n",
              "      <td>19.0</td>\n",
              "      <td>10000</td>\n",
              "      <td>Free</td>\n",
              "      <td>0</td>\n",
              "      <td>Everyone</td>\n",
              "      <td>Art &amp; Design</td>\n",
              "      <td>January 7, 2018</td>\n",
              "      <td>1.0.0</td>\n",
              "      <td>4.0.3</td>\n",
              "      <td>4.1</td>\n",
              "      <td>4.1</td>\n",
              "      <td>4.1</td>\n",
              "      <td>19.0</td>\n",
              "      <td>19.0</td>\n",
              "      <td>19.0</td>\n",
              "      <td>and up</td>\n",
              "    </tr>\n",
              "    <tr>\n",
              "      <th>1</th>\n",
              "      <td>Coloring book moana</td>\n",
              "      <td>Art And Design</td>\n",
              "      <td>3.9</td>\n",
              "      <td>967</td>\n",
              "      <td>14.0</td>\n",
              "      <td>500000</td>\n",
              "      <td>Free</td>\n",
              "      <td>0</td>\n",
              "      <td>Everyone</td>\n",
              "      <td>Art &amp; Design;Pretend Play</td>\n",
              "      <td>January 15, 2018</td>\n",
              "      <td>2.0.0</td>\n",
              "      <td>4.0.3</td>\n",
              "      <td>3.9</td>\n",
              "      <td>3.9</td>\n",
              "      <td>3.9</td>\n",
              "      <td>14.0</td>\n",
              "      <td>14.0</td>\n",
              "      <td>14.0</td>\n",
              "      <td>and up</td>\n",
              "    </tr>\n",
              "    <tr>\n",
              "      <th>2</th>\n",
              "      <td>U Launcher Lite – FREE Live Cool Themes, Hide ...</td>\n",
              "      <td>Art And Design</td>\n",
              "      <td>4.7</td>\n",
              "      <td>87510</td>\n",
              "      <td>8.7</td>\n",
              "      <td>5000000</td>\n",
              "      <td>Free</td>\n",
              "      <td>0</td>\n",
              "      <td>Everyone</td>\n",
              "      <td>Art &amp; Design</td>\n",
              "      <td>August 1, 2018</td>\n",
              "      <td>1.2.4</td>\n",
              "      <td>4.0.3</td>\n",
              "      <td>4.7</td>\n",
              "      <td>4.7</td>\n",
              "      <td>4.7</td>\n",
              "      <td>8.7</td>\n",
              "      <td>8.7</td>\n",
              "      <td>8.7</td>\n",
              "      <td>and up</td>\n",
              "    </tr>\n",
              "  </tbody>\n",
              "</table>\n",
              "</div>\n",
              "      <button class=\"colab-df-convert\" onclick=\"convertToInteractive('df-2c0e2085-56e8-4b1e-9a62-cf9aa9d3c335')\"\n",
              "              title=\"Convert this dataframe to an interactive table.\"\n",
              "              style=\"display:none;\">\n",
              "        \n",
              "  <svg xmlns=\"http://www.w3.org/2000/svg\" height=\"24px\"viewBox=\"0 0 24 24\"\n",
              "       width=\"24px\">\n",
              "    <path d=\"M0 0h24v24H0V0z\" fill=\"none\"/>\n",
              "    <path d=\"M18.56 5.44l.94 2.06.94-2.06 2.06-.94-2.06-.94-.94-2.06-.94 2.06-2.06.94zm-11 1L8.5 8.5l.94-2.06 2.06-.94-2.06-.94L8.5 2.5l-.94 2.06-2.06.94zm10 10l.94 2.06.94-2.06 2.06-.94-2.06-.94-.94-2.06-.94 2.06-2.06.94z\"/><path d=\"M17.41 7.96l-1.37-1.37c-.4-.4-.92-.59-1.43-.59-.52 0-1.04.2-1.43.59L10.3 9.45l-7.72 7.72c-.78.78-.78 2.05 0 2.83L4 21.41c.39.39.9.59 1.41.59.51 0 1.02-.2 1.41-.59l7.78-7.78 2.81-2.81c.8-.78.8-2.07 0-2.86zM5.41 20L4 18.59l7.72-7.72 1.47 1.35L5.41 20z\"/>\n",
              "  </svg>\n",
              "      </button>\n",
              "      \n",
              "  <style>\n",
              "    .colab-df-container {\n",
              "      display:flex;\n",
              "      flex-wrap:wrap;\n",
              "      gap: 12px;\n",
              "    }\n",
              "\n",
              "    .colab-df-convert {\n",
              "      background-color: #E8F0FE;\n",
              "      border: none;\n",
              "      border-radius: 50%;\n",
              "      cursor: pointer;\n",
              "      display: none;\n",
              "      fill: #1967D2;\n",
              "      height: 32px;\n",
              "      padding: 0 0 0 0;\n",
              "      width: 32px;\n",
              "    }\n",
              "\n",
              "    .colab-df-convert:hover {\n",
              "      background-color: #E2EBFA;\n",
              "      box-shadow: 0px 1px 2px rgba(60, 64, 67, 0.3), 0px 1px 3px 1px rgba(60, 64, 67, 0.15);\n",
              "      fill: #174EA6;\n",
              "    }\n",
              "\n",
              "    [theme=dark] .colab-df-convert {\n",
              "      background-color: #3B4455;\n",
              "      fill: #D2E3FC;\n",
              "    }\n",
              "\n",
              "    [theme=dark] .colab-df-convert:hover {\n",
              "      background-color: #434B5C;\n",
              "      box-shadow: 0px 1px 3px 1px rgba(0, 0, 0, 0.15);\n",
              "      filter: drop-shadow(0px 1px 2px rgba(0, 0, 0, 0.3));\n",
              "      fill: #FFFFFF;\n",
              "    }\n",
              "  </style>\n",
              "\n",
              "      <script>\n",
              "        const buttonEl =\n",
              "          document.querySelector('#df-2c0e2085-56e8-4b1e-9a62-cf9aa9d3c335 button.colab-df-convert');\n",
              "        buttonEl.style.display =\n",
              "          google.colab.kernel.accessAllowed ? 'block' : 'none';\n",
              "\n",
              "        async function convertToInteractive(key) {\n",
              "          const element = document.querySelector('#df-2c0e2085-56e8-4b1e-9a62-cf9aa9d3c335');\n",
              "          const dataTable =\n",
              "            await google.colab.kernel.invokeFunction('convertToInteractive',\n",
              "                                                     [key], {});\n",
              "          if (!dataTable) return;\n",
              "\n",
              "          const docLinkHtml = 'Like what you see? Visit the ' +\n",
              "            '<a target=\"_blank\" href=https://colab.research.google.com/notebooks/data_table.ipynb>data table notebook</a>'\n",
              "            + ' to learn more about interactive tables.';\n",
              "          element.innerHTML = '';\n",
              "          dataTable['output_type'] = 'display_data';\n",
              "          await google.colab.output.renderOutput(dataTable, element);\n",
              "          const docLink = document.createElement('div');\n",
              "          docLink.innerHTML = docLinkHtml;\n",
              "          element.appendChild(docLink);\n",
              "        }\n",
              "      </script>\n",
              "    </div>\n",
              "  </div>\n",
              "  "
            ]
          },
          "metadata": {},
          "execution_count": 59
        }
      ]
    },
    {
      "cell_type": "code",
      "source": [
        "df.dtypes"
      ],
      "metadata": {
        "colab": {
          "base_uri": "https://localhost:8080/"
        },
        "id": "84PZHUwGCvl3",
        "outputId": "3e72011b-a223-446e-9a15-aeba85d006e8"
      },
      "execution_count": 60,
      "outputs": [
        {
          "output_type": "execute_result",
          "data": {
            "text/plain": [
              "App                object\n",
              "Category           object\n",
              "Rating            float64\n",
              "Reviews            object\n",
              "Size              float64\n",
              "Installs           object\n",
              "Type               object\n",
              "Price              object\n",
              "Content Rating     object\n",
              "Genres             object\n",
              "Last Updated       object\n",
              "Current Ver        object\n",
              "Android Ver        object\n",
              "Rating_mean       float64\n",
              "Rating_median     float64\n",
              "Rating_random     float64\n",
              "Size_mean         float64\n",
              "Size_median       float64\n",
              "Size_random       float64\n",
              "android            object\n",
              "dtype: object"
            ]
          },
          "metadata": {},
          "execution_count": 60
        }
      ]
    },
    {
      "cell_type": "code",
      "source": [
        "df['Size'].unique()"
      ],
      "metadata": {
        "colab": {
          "base_uri": "https://localhost:8080/"
        },
        "id": "_BFWT-gED_jk",
        "outputId": "5251056a-e95e-4742-f9c4-a93c71bb7826"
      },
      "execution_count": 61,
      "outputs": [
        {
          "output_type": "execute_result",
          "data": {
            "text/plain": [
              "array([1.90000000e+01, 1.40000000e+01, 8.70000000e+00, 2.50000000e+01,\n",
              "       2.80000000e+00, 5.60000000e+00, 2.90000000e+01, 3.30000000e+01,\n",
              "       3.10000000e+00, 2.80000000e+01, 1.20000000e+01, 2.00000000e+01,\n",
              "       2.10000000e+01, 3.70000000e+01, 2.70000000e+00, 5.50000000e+00,\n",
              "       1.70000000e+01, 3.90000000e+01, 3.10000000e+01, 4.20000000e+00,\n",
              "       7.00000000e+00, 2.30000000e+01, 6.00000000e+00, 6.10000000e+00,\n",
              "       4.60000000e+00, 9.20000000e+00, 5.20000000e+00, 1.10000000e+01,\n",
              "       2.40000000e+01, 0.00000000e+00, 9.40000000e+00, 1.50000000e+01,\n",
              "       1.00000000e+01, 1.20000000e+00, 2.60000000e+01, 8.00000000e+00,\n",
              "       7.90000000e+00, 5.60000000e+01, 5.70000000e+01, 3.50000000e+01,\n",
              "       5.40000000e+01, 1.96289062e-01, 3.60000000e+00, 5.70000000e+00,\n",
              "       8.60000000e+00, 2.40000000e+00, 2.70000000e+01, 2.50000000e+00,\n",
              "       1.60000000e+01, 3.40000000e+00, 8.90000000e+00, 3.90000000e+00,\n",
              "       2.90000000e+00, 3.80000000e+01, 3.20000000e+01, 5.40000000e+00,\n",
              "       1.80000000e+01, 1.10000000e+00, 2.20000000e+00, 4.50000000e+00,\n",
              "       9.80000000e+00, 5.20000000e+01, 9.00000000e+00, 6.70000000e+00,\n",
              "       3.00000000e+01, 2.60000000e+00, 7.10000000e+00, 3.70000000e+00,\n",
              "       2.20000000e+01, 7.40000000e+00, 6.40000000e+00, 3.20000000e+00,\n",
              "       8.20000000e+00, 9.90000000e+00, 4.90000000e+00, 9.50000000e+00,\n",
              "       5.00000000e+00, 5.90000000e+00, 1.30000000e+01, 7.30000000e+01,\n",
              "       6.80000000e+00, 3.50000000e+00, 4.00000000e+00, 2.30000000e+00,\n",
              "       7.20000000e+00, 2.10000000e+00, 4.20000000e+01, 7.30000000e+00,\n",
              "       9.10000000e+00, 5.50000000e+01, 2.24609375e-02, 6.50000000e+00,\n",
              "       1.50000000e+00, 7.50000000e+00, 4.10000000e+01, 4.80000000e+01,\n",
              "       8.50000000e+00, 4.60000000e+01, 7.80000000e+00, 8.80000000e+00,\n",
              "       6.60000000e+00, 5.10000000e+00, 3.30000000e+00, 4.00000000e+01,\n",
              "       6.10000000e+01, 6.60000000e+01, 7.71484375e-02, 8.30000000e+00,\n",
              "       8.40000000e+00, 4.30000000e+00, 4.70000000e+00, 4.40000000e+01,\n",
              "       6.78710938e-01, 1.60000000e+00, 6.20000000e+00, 1.75781250e-02,\n",
              "       5.30000000e+01, 1.40000000e+00, 5.80000000e+00, 3.80000000e+00,\n",
              "       9.60000000e+00, 6.30000000e+01, 4.90000000e+01, 7.70000000e+01,\n",
              "       4.40000000e+00, 4.80000000e+00, 7.00000000e+01, 6.90000000e+00,\n",
              "       9.30000000e+00, 3.60000000e+01, 8.10000000e+00, 5.10000000e+01,\n",
              "       3.00000000e+00, 8.40000000e+01, 9.70000000e+01, 2.00000000e+00,\n",
              "       1.90000000e+00, 1.80000000e+00, 5.30000000e+00, 4.70000000e+01,\n",
              "       5.42968750e-01, 5.13671875e-01, 7.60000000e+01, 7.60000000e+00,\n",
              "       9.70000000e+00, 7.80000000e+01, 7.20000000e+01, 6.30000000e+00,\n",
              "       3.26171875e-01, 6.50000000e+01, 7.90000000e+01, 1.00000000e+02,\n",
              "       5.80000000e+01, 6.80000000e+01, 3.40000000e+01, 6.70000000e+01,\n",
              "       5.90000000e+01, 9.30000000e+01, 6.00000000e+01, 4.30000000e+01,\n",
              "       4.50000000e+01, 9.40000000e+01, 7.70000000e+00, 2.26562500e-01,\n",
              "       9.90000000e+01, 6.09375000e-01, 9.50000000e+01, 8.30078125e-03,\n",
              "       5.00000000e+01, 4.00390625e-02, 2.85156250e-01, 1.07421875e-02,\n",
              "       8.00000000e+01, 1.70000000e+00, 7.40000000e+01, 6.20000000e+01,\n",
              "       6.90000000e+01, 7.50000000e+01, 8.20000000e+01, 8.50000000e+01,\n",
              "       7.10000000e+01, 9.80000000e+01, 8.60000000e+01, 8.70000000e+01,\n",
              "       9.10000000e+01, 8.10000000e+01, 9.60000000e+01, 9.20000000e+01,\n",
              "       8.80000000e+01, 8.30000000e+01, 6.40000000e+01, 6.87500000e-01,\n",
              "       8.77929688e-01, 3.69140625e-01, 2.59765625e-01, 3.66210938e-01,\n",
              "       4.10000000e+00, 8.90000000e+01, 1.30000000e+00, 8.98437500e-01,\n",
              "       7.60742188e-01, 8.33007812e-01, 6.96289062e-01, 7.53906250e-01,\n",
              "       3.10546875e-01, 5.66406250e-02, 2.35351562e-01, 1.91406250e-01,\n",
              "       8.36914062e-01, 4.98046875e-02, 9.30664062e-01, 2.45117188e-01,\n",
              "       9.08203125e-01, 3.05664062e-01, 7.28515625e-01, 1.98242188e-01,\n",
              "       2.53906250e-02, 3.06640625e-01, 1.15234375e-01, 7.12890625e-01,\n",
              "       7.38281250e-01, 8.88671875e-02, 2.86132812e-01, 1.66015625e-02,\n",
              "       7.22656250e-02, 3.09570312e-01, 9.02343750e-01, 7.98828125e-01,\n",
              "       7.91015625e-02, 9.16992188e-01, 1.65039062e-01, 4.39453125e-02,\n",
              "       9.42382812e-01, 9.00000000e+01, 5.32226562e-01, 5.95703125e-02,\n",
              "       2.76367188e-01, 6.39648438e-01, 6.97265625e-01, 9.08203125e-02,\n",
              "       8.51562500e-01, 1.18164062e-01, 3.14453125e-01, 1.00000000e+00,\n",
              "       9.53125000e-01, 1.67968750e-01, 2.32421875e-01, 5.36132812e-01,\n",
              "       2.01171875e-01, 9.31640625e-01, 4.33593750e-01, 7.00195312e-01,\n",
              "       2.05078125e-01, 5.94726562e-01, 3.00781250e-01, 6.88476562e-01,\n",
              "       2.98828125e-01, 8.82812500e-01, 4.61914062e-01, 1.70898438e-01,\n",
              "       3.41796875e-01, 4.43359375e-01, 4.11132812e-01, 6.83593750e-02,\n",
              "       7.92968750e-01, 4.31640625e-01, 8.22265625e-01, 4.07226562e-01,\n",
              "       4.02343750e-01, 4.48242188e-01, 4.66796875e-01, 3.27148438e-01,\n",
              "       7.63671875e-01, 7.04101562e-01, 4.19921875e-01, 1.87500000e-01,\n",
              "       1.95312500e-01, 4.49218750e-01, 7.10937500e-01, 4.84375000e-01,\n",
              "       7.96875000e-01, 4.04296875e-01, 4.94140625e-01, 8.66210938e-01,\n",
              "       5.98632812e-01, 2.37304688e-01, 5.55664062e-01, 7.59765625e-01,\n",
              "       6.66992188e-01, 5.78125000e-01, 3.11523438e-01, 8.20312500e-01,\n",
              "       6.31835938e-01, 1.86523438e-01, 3.64257812e-01, 4.26757812e-01,\n",
              "       5.83984375e-01, 6.99218750e-01, 5.71289062e-01, 9.58984375e-01,\n",
              "       2.16796875e-01, 2.13867188e-01, 5.37109375e-02, 9.25781250e-01,\n",
              "       3.15429688e-01, 6.74804688e-01, 4.99023438e-01, 9.28710938e-01,\n",
              "       9.40429688e-01, 2.44140625e-02, 5.41015625e-01, 3.42773438e-01,\n",
              "       2.63671875e-02, 8.00781250e-02, 2.03125000e-01, 8.91601562e-01,\n",
              "       5.01953125e-01, 5.38085938e-01, 2.83203125e-02, 1.00585938e-01,\n",
              "       8.76953125e-01, 7.25585938e-01, 1.13281250e-01, 1.49414062e-01,\n",
              "       2.04101562e-01, 3.44726562e-01, 4.87304688e-01, 1.68945312e-01,\n",
              "       5.83007812e-01, 7.90039062e-01, 1.19140625e-01, 4.01367188e-01,\n",
              "       3.90625000e-01, 7.82226562e-01, 2.31445312e-01, 4.88281250e-02,\n",
              "       6.27929688e-01, 9.62890625e-01, 9.47265625e-02, 5.03906250e-01,\n",
              "       8.17382812e-01, 7.61718750e-01, 9.38476562e-01, 2.62695312e-01,\n",
              "       1.95312500e-02, 4.86328125e-01, 5.85937500e-01, 7.31445312e-01,\n",
              "       6.26953125e-01, 8.60351562e-01, 7.03125000e-02, 6.40625000e-01,\n",
              "       5.86914062e-01, 2.15820312e-01, 2.22656250e-01, 1.05468750e-01,\n",
              "       9.17968750e-01, 1.71875000e-01, 3.22265625e-02, 6.47460938e-01,\n",
              "       3.32031250e-02, 9.19921875e-01, 2.52929688e-01, 1.60156250e-01,\n",
              "       4.47265625e-01, 2.39257812e-01, 6.14257812e-01, 2.73437500e-02,\n",
              "       2.81250000e-01, 7.56835938e-01, 6.21093750e-01, 8.94531250e-01,\n",
              "       9.70703125e-01, 3.01757812e-01, 4.73632812e-01, 8.92578125e-01,\n",
              "       8.81835938e-01, 5.93750000e-01, 4.88281250e-01, 5.27343750e-02,\n",
              "       5.48828125e-01, 8.27148438e-01, 9.34570312e-01, 6.71875000e-01,\n",
              "       7.91992188e-01, 2.63671875e-01, 4.68750000e-02, 3.21289062e-01,\n",
              "       5.10742188e-01, 8.99414062e-01, 8.53515625e-01, 9.58007812e-01,\n",
              "       7.65625000e-01, 2.73437500e-01, 2.34375000e-02, 5.05859375e-01,\n",
              "       7.36328125e-01, 8.71093750e-01, 1.50390625e-01, 8.39843750e-01,\n",
              "       3.55468750e-01, 3.77929688e-01, 6.11328125e-01, 1.57226562e-01,\n",
              "       8.58398438e-01, 9.47265625e-01, 1.66015625e-01, 1.37695312e-01,\n",
              "       1.56250000e-01, 1.40625000e-01, 1.39648438e-01, 1.85546875e-01,\n",
              "       3.67187500e-01, 1.88476562e-01, 2.40234375e-01, 7.12890625e-02,\n",
              "       6.42578125e-01, 9.68750000e-01, 2.47070312e-01, 4.10156250e-01,\n",
              "       3.94531250e-01, 4.58984375e-01, 2.20703125e-01, 2.34375000e-01,\n",
              "       8.69140625e-02, 2.28515625e-01, 2.50976562e-01, 8.40820312e-01,\n",
              "       4.56054688e-01, 1.53320312e-01, 4.29687500e-02, 6.54296875e-02,\n",
              "       5.39062500e-01, 8.64257812e-01, 9.96093750e-01, 5.68359375e-01,\n",
              "       6.04492188e-01,            nan])"
            ]
          },
          "metadata": {},
          "execution_count": 61
        }
      ]
    },
    {
      "cell_type": "code",
      "source": [
        "df['Last Updated']=pd.to_datetime(df['Last Updated'])"
      ],
      "metadata": {
        "id": "33prewbJUfFA"
      },
      "execution_count": 62,
      "outputs": []
    },
    {
      "cell_type": "code",
      "source": [
        "#change dtype from numberic to string\n",
        "def is_change_dtype(df,variable,datatype):\n",
        "  df[variable]=df[variable].astype(datatype)"
      ],
      "metadata": {
        "id": "yH4q-CzB5eom"
      },
      "execution_count": 63,
      "outputs": []
    },
    {
      "cell_type": "code",
      "source": [
        "is_change_dtype(df,'Content Rating','object')"
      ],
      "metadata": {
        "id": "h_CsUqtPCUdw"
      },
      "execution_count": 64,
      "outputs": []
    },
    {
      "cell_type": "code",
      "source": [
        "is_change_dtype(df,'Reviews','int')"
      ],
      "metadata": {
        "id": "MYjpTKQFgH_A"
      },
      "execution_count": 65,
      "outputs": []
    },
    {
      "cell_type": "code",
      "source": [
        "is_change_dtype(df,'Installs','int')"
      ],
      "metadata": {
        "id": "psYWz3u_gIkN"
      },
      "execution_count": 66,
      "outputs": []
    },
    {
      "cell_type": "code",
      "source": [
        "is_change_dtype(df,'Price','float')"
      ],
      "metadata": {
        "id": "ODcKZWmRhBoB"
      },
      "execution_count": 67,
      "outputs": []
    },
    {
      "cell_type": "markdown",
      "source": [
        "### 11. Changing column indices"
      ],
      "metadata": {
        "id": "l6oFPdIJU5eB"
      }
    },
    {
      "cell_type": "code",
      "source": [
        "#changing column indexing\n",
        "# def change_col(df,col1,col2):\n",
        "#   titles=list(df.columns)\n",
        "#   titles[col2],titles[col1]=titles[col1],titles[col2]\n",
        "#   df=df[titles]\n",
        "\n",
        "\n"
      ],
      "metadata": {
        "id": "3VtJ5P6EU35w"
      },
      "execution_count": 68,
      "outputs": []
    },
    {
      "cell_type": "markdown",
      "source": [
        "### 12. Removing columns"
      ],
      "metadata": {
        "id": "S4LpD3_VVfyE"
      }
    },
    {
      "cell_type": "code",
      "source": [
        "# #removing other columns\n",
        "def drop_col(df,col_lst):\n",
        "  df.drop(columns=col_lst,inplace=True,axis=1)"
      ],
      "metadata": {
        "id": "8qGxPJrjVZAU"
      },
      "execution_count": 69,
      "outputs": []
    },
    {
      "cell_type": "code",
      "source": [
        "drop_col(df,['Rating','Size','Rating_mean','Rating_median','android','Genres','Last Updated','Current Ver','Size_mean','Size_random'])"
      ],
      "metadata": {
        "id": "YgGn3oehYFIe"
      },
      "execution_count": 70,
      "outputs": []
    },
    {
      "cell_type": "markdown",
      "source": [
        "### 13. Renaming columns"
      ],
      "metadata": {
        "id": "nlCwLs8iVjaU"
      }
    },
    {
      "cell_type": "code",
      "source": [
        "df=df.rename(columns=({'Rating_random':'Rating'}))\n",
        "df=df.rename(columns=({'Size_median':'Size'}))"
      ],
      "metadata": {
        "id": "iR41NVVkb6EZ"
      },
      "execution_count": 71,
      "outputs": []
    },
    {
      "cell_type": "code",
      "source": [
        "df.head(3)"
      ],
      "metadata": {
        "colab": {
          "base_uri": "https://localhost:8080/",
          "height": 0
        },
        "id": "T4OJlmP6azEs",
        "outputId": "3a5181ae-1d68-4d10-d654-8a7b4b19e9bb"
      },
      "execution_count": 72,
      "outputs": [
        {
          "output_type": "execute_result",
          "data": {
            "text/plain": [
              "                                                 App        Category  Reviews  \\\n",
              "0     Photo Editor & Candy Camera & Grid & ScrapBook  Art And Design      159   \n",
              "1                                Coloring book moana  Art And Design      967   \n",
              "2  U Launcher Lite – FREE Live Cool Themes, Hide ...  Art And Design    87510   \n",
              "\n",
              "   Installs  Type  Price Content Rating Android Ver  Rating  Size  \n",
              "0     10000  Free    0.0       Everyone       4.0.3     4.1  19.0  \n",
              "1    500000  Free    0.0       Everyone       4.0.3     3.9  14.0  \n",
              "2   5000000  Free    0.0       Everyone       4.0.3     4.7   8.7  "
            ],
            "text/html": [
              "\n",
              "  <div id=\"df-108b681f-ea06-4c3c-b227-9f3ed5f80f59\">\n",
              "    <div class=\"colab-df-container\">\n",
              "      <div>\n",
              "<style scoped>\n",
              "    .dataframe tbody tr th:only-of-type {\n",
              "        vertical-align: middle;\n",
              "    }\n",
              "\n",
              "    .dataframe tbody tr th {\n",
              "        vertical-align: top;\n",
              "    }\n",
              "\n",
              "    .dataframe thead th {\n",
              "        text-align: right;\n",
              "    }\n",
              "</style>\n",
              "<table border=\"1\" class=\"dataframe\">\n",
              "  <thead>\n",
              "    <tr style=\"text-align: right;\">\n",
              "      <th></th>\n",
              "      <th>App</th>\n",
              "      <th>Category</th>\n",
              "      <th>Reviews</th>\n",
              "      <th>Installs</th>\n",
              "      <th>Type</th>\n",
              "      <th>Price</th>\n",
              "      <th>Content Rating</th>\n",
              "      <th>Android Ver</th>\n",
              "      <th>Rating</th>\n",
              "      <th>Size</th>\n",
              "    </tr>\n",
              "  </thead>\n",
              "  <tbody>\n",
              "    <tr>\n",
              "      <th>0</th>\n",
              "      <td>Photo Editor &amp; Candy Camera &amp; Grid &amp; ScrapBook</td>\n",
              "      <td>Art And Design</td>\n",
              "      <td>159</td>\n",
              "      <td>10000</td>\n",
              "      <td>Free</td>\n",
              "      <td>0.0</td>\n",
              "      <td>Everyone</td>\n",
              "      <td>4.0.3</td>\n",
              "      <td>4.1</td>\n",
              "      <td>19.0</td>\n",
              "    </tr>\n",
              "    <tr>\n",
              "      <th>1</th>\n",
              "      <td>Coloring book moana</td>\n",
              "      <td>Art And Design</td>\n",
              "      <td>967</td>\n",
              "      <td>500000</td>\n",
              "      <td>Free</td>\n",
              "      <td>0.0</td>\n",
              "      <td>Everyone</td>\n",
              "      <td>4.0.3</td>\n",
              "      <td>3.9</td>\n",
              "      <td>14.0</td>\n",
              "    </tr>\n",
              "    <tr>\n",
              "      <th>2</th>\n",
              "      <td>U Launcher Lite – FREE Live Cool Themes, Hide ...</td>\n",
              "      <td>Art And Design</td>\n",
              "      <td>87510</td>\n",
              "      <td>5000000</td>\n",
              "      <td>Free</td>\n",
              "      <td>0.0</td>\n",
              "      <td>Everyone</td>\n",
              "      <td>4.0.3</td>\n",
              "      <td>4.7</td>\n",
              "      <td>8.7</td>\n",
              "    </tr>\n",
              "  </tbody>\n",
              "</table>\n",
              "</div>\n",
              "      <button class=\"colab-df-convert\" onclick=\"convertToInteractive('df-108b681f-ea06-4c3c-b227-9f3ed5f80f59')\"\n",
              "              title=\"Convert this dataframe to an interactive table.\"\n",
              "              style=\"display:none;\">\n",
              "        \n",
              "  <svg xmlns=\"http://www.w3.org/2000/svg\" height=\"24px\"viewBox=\"0 0 24 24\"\n",
              "       width=\"24px\">\n",
              "    <path d=\"M0 0h24v24H0V0z\" fill=\"none\"/>\n",
              "    <path d=\"M18.56 5.44l.94 2.06.94-2.06 2.06-.94-2.06-.94-.94-2.06-.94 2.06-2.06.94zm-11 1L8.5 8.5l.94-2.06 2.06-.94-2.06-.94L8.5 2.5l-.94 2.06-2.06.94zm10 10l.94 2.06.94-2.06 2.06-.94-2.06-.94-.94-2.06-.94 2.06-2.06.94z\"/><path d=\"M17.41 7.96l-1.37-1.37c-.4-.4-.92-.59-1.43-.59-.52 0-1.04.2-1.43.59L10.3 9.45l-7.72 7.72c-.78.78-.78 2.05 0 2.83L4 21.41c.39.39.9.59 1.41.59.51 0 1.02-.2 1.41-.59l7.78-7.78 2.81-2.81c.8-.78.8-2.07 0-2.86zM5.41 20L4 18.59l7.72-7.72 1.47 1.35L5.41 20z\"/>\n",
              "  </svg>\n",
              "      </button>\n",
              "      \n",
              "  <style>\n",
              "    .colab-df-container {\n",
              "      display:flex;\n",
              "      flex-wrap:wrap;\n",
              "      gap: 12px;\n",
              "    }\n",
              "\n",
              "    .colab-df-convert {\n",
              "      background-color: #E8F0FE;\n",
              "      border: none;\n",
              "      border-radius: 50%;\n",
              "      cursor: pointer;\n",
              "      display: none;\n",
              "      fill: #1967D2;\n",
              "      height: 32px;\n",
              "      padding: 0 0 0 0;\n",
              "      width: 32px;\n",
              "    }\n",
              "\n",
              "    .colab-df-convert:hover {\n",
              "      background-color: #E2EBFA;\n",
              "      box-shadow: 0px 1px 2px rgba(60, 64, 67, 0.3), 0px 1px 3px 1px rgba(60, 64, 67, 0.15);\n",
              "      fill: #174EA6;\n",
              "    }\n",
              "\n",
              "    [theme=dark] .colab-df-convert {\n",
              "      background-color: #3B4455;\n",
              "      fill: #D2E3FC;\n",
              "    }\n",
              "\n",
              "    [theme=dark] .colab-df-convert:hover {\n",
              "      background-color: #434B5C;\n",
              "      box-shadow: 0px 1px 3px 1px rgba(0, 0, 0, 0.15);\n",
              "      filter: drop-shadow(0px 1px 2px rgba(0, 0, 0, 0.3));\n",
              "      fill: #FFFFFF;\n",
              "    }\n",
              "  </style>\n",
              "\n",
              "      <script>\n",
              "        const buttonEl =\n",
              "          document.querySelector('#df-108b681f-ea06-4c3c-b227-9f3ed5f80f59 button.colab-df-convert');\n",
              "        buttonEl.style.display =\n",
              "          google.colab.kernel.accessAllowed ? 'block' : 'none';\n",
              "\n",
              "        async function convertToInteractive(key) {\n",
              "          const element = document.querySelector('#df-108b681f-ea06-4c3c-b227-9f3ed5f80f59');\n",
              "          const dataTable =\n",
              "            await google.colab.kernel.invokeFunction('convertToInteractive',\n",
              "                                                     [key], {});\n",
              "          if (!dataTable) return;\n",
              "\n",
              "          const docLinkHtml = 'Like what you see? Visit the ' +\n",
              "            '<a target=\"_blank\" href=https://colab.research.google.com/notebooks/data_table.ipynb>data table notebook</a>'\n",
              "            + ' to learn more about interactive tables.';\n",
              "          element.innerHTML = '';\n",
              "          dataTable['output_type'] = 'display_data';\n",
              "          await google.colab.output.renderOutput(dataTable, element);\n",
              "          const docLink = document.createElement('div');\n",
              "          docLink.innerHTML = docLinkHtml;\n",
              "          element.appendChild(docLink);\n",
              "        }\n",
              "      </script>\n",
              "    </div>\n",
              "  </div>\n",
              "  "
            ]
          },
          "metadata": {},
          "execution_count": 72
        }
      ]
    },
    {
      "cell_type": "markdown",
      "source": [
        "### 14. EDA"
      ],
      "metadata": {
        "id": "tzv3sj8Igx5-"
      }
    },
    {
      "cell_type": "code",
      "source": [
        "#what is the most expensive app on the store\n",
        "df[df['Price']==df['Price'].max()]"
      ],
      "metadata": {
        "colab": {
          "base_uri": "https://localhost:8080/",
          "height": 0
        },
        "id": "K58_SiBBg45D",
        "outputId": "9e097446-1765-434c-bdf0-090eba3404d7"
      },
      "execution_count": 73,
      "outputs": [
        {
          "output_type": "execute_result",
          "data": {
            "text/plain": [
              "                           App   Category  Reviews  Installs  Type  Price  \\\n",
              "4367  I'm Rich - Trump Edition  Lifestyle      275     10000  Paid  400.0   \n",
              "\n",
              "     Content Rating Android Ver  Rating  Size  \n",
              "4367       Everyone         4.1     3.6   9.1  "
            ],
            "text/html": [
              "\n",
              "  <div id=\"df-fbf7f440-6ed2-43f4-a85c-8bbbd49a3b6a\">\n",
              "    <div class=\"colab-df-container\">\n",
              "      <div>\n",
              "<style scoped>\n",
              "    .dataframe tbody tr th:only-of-type {\n",
              "        vertical-align: middle;\n",
              "    }\n",
              "\n",
              "    .dataframe tbody tr th {\n",
              "        vertical-align: top;\n",
              "    }\n",
              "\n",
              "    .dataframe thead th {\n",
              "        text-align: right;\n",
              "    }\n",
              "</style>\n",
              "<table border=\"1\" class=\"dataframe\">\n",
              "  <thead>\n",
              "    <tr style=\"text-align: right;\">\n",
              "      <th></th>\n",
              "      <th>App</th>\n",
              "      <th>Category</th>\n",
              "      <th>Reviews</th>\n",
              "      <th>Installs</th>\n",
              "      <th>Type</th>\n",
              "      <th>Price</th>\n",
              "      <th>Content Rating</th>\n",
              "      <th>Android Ver</th>\n",
              "      <th>Rating</th>\n",
              "      <th>Size</th>\n",
              "    </tr>\n",
              "  </thead>\n",
              "  <tbody>\n",
              "    <tr>\n",
              "      <th>4367</th>\n",
              "      <td>I'm Rich - Trump Edition</td>\n",
              "      <td>Lifestyle</td>\n",
              "      <td>275</td>\n",
              "      <td>10000</td>\n",
              "      <td>Paid</td>\n",
              "      <td>400.0</td>\n",
              "      <td>Everyone</td>\n",
              "      <td>4.1</td>\n",
              "      <td>3.6</td>\n",
              "      <td>9.1</td>\n",
              "    </tr>\n",
              "  </tbody>\n",
              "</table>\n",
              "</div>\n",
              "      <button class=\"colab-df-convert\" onclick=\"convertToInteractive('df-fbf7f440-6ed2-43f4-a85c-8bbbd49a3b6a')\"\n",
              "              title=\"Convert this dataframe to an interactive table.\"\n",
              "              style=\"display:none;\">\n",
              "        \n",
              "  <svg xmlns=\"http://www.w3.org/2000/svg\" height=\"24px\"viewBox=\"0 0 24 24\"\n",
              "       width=\"24px\">\n",
              "    <path d=\"M0 0h24v24H0V0z\" fill=\"none\"/>\n",
              "    <path d=\"M18.56 5.44l.94 2.06.94-2.06 2.06-.94-2.06-.94-.94-2.06-.94 2.06-2.06.94zm-11 1L8.5 8.5l.94-2.06 2.06-.94-2.06-.94L8.5 2.5l-.94 2.06-2.06.94zm10 10l.94 2.06.94-2.06 2.06-.94-2.06-.94-.94-2.06-.94 2.06-2.06.94z\"/><path d=\"M17.41 7.96l-1.37-1.37c-.4-.4-.92-.59-1.43-.59-.52 0-1.04.2-1.43.59L10.3 9.45l-7.72 7.72c-.78.78-.78 2.05 0 2.83L4 21.41c.39.39.9.59 1.41.59.51 0 1.02-.2 1.41-.59l7.78-7.78 2.81-2.81c.8-.78.8-2.07 0-2.86zM5.41 20L4 18.59l7.72-7.72 1.47 1.35L5.41 20z\"/>\n",
              "  </svg>\n",
              "      </button>\n",
              "      \n",
              "  <style>\n",
              "    .colab-df-container {\n",
              "      display:flex;\n",
              "      flex-wrap:wrap;\n",
              "      gap: 12px;\n",
              "    }\n",
              "\n",
              "    .colab-df-convert {\n",
              "      background-color: #E8F0FE;\n",
              "      border: none;\n",
              "      border-radius: 50%;\n",
              "      cursor: pointer;\n",
              "      display: none;\n",
              "      fill: #1967D2;\n",
              "      height: 32px;\n",
              "      padding: 0 0 0 0;\n",
              "      width: 32px;\n",
              "    }\n",
              "\n",
              "    .colab-df-convert:hover {\n",
              "      background-color: #E2EBFA;\n",
              "      box-shadow: 0px 1px 2px rgba(60, 64, 67, 0.3), 0px 1px 3px 1px rgba(60, 64, 67, 0.15);\n",
              "      fill: #174EA6;\n",
              "    }\n",
              "\n",
              "    [theme=dark] .colab-df-convert {\n",
              "      background-color: #3B4455;\n",
              "      fill: #D2E3FC;\n",
              "    }\n",
              "\n",
              "    [theme=dark] .colab-df-convert:hover {\n",
              "      background-color: #434B5C;\n",
              "      box-shadow: 0px 1px 3px 1px rgba(0, 0, 0, 0.15);\n",
              "      filter: drop-shadow(0px 1px 2px rgba(0, 0, 0, 0.3));\n",
              "      fill: #FFFFFF;\n",
              "    }\n",
              "  </style>\n",
              "\n",
              "      <script>\n",
              "        const buttonEl =\n",
              "          document.querySelector('#df-fbf7f440-6ed2-43f4-a85c-8bbbd49a3b6a button.colab-df-convert');\n",
              "        buttonEl.style.display =\n",
              "          google.colab.kernel.accessAllowed ? 'block' : 'none';\n",
              "\n",
              "        async function convertToInteractive(key) {\n",
              "          const element = document.querySelector('#df-fbf7f440-6ed2-43f4-a85c-8bbbd49a3b6a');\n",
              "          const dataTable =\n",
              "            await google.colab.kernel.invokeFunction('convertToInteractive',\n",
              "                                                     [key], {});\n",
              "          if (!dataTable) return;\n",
              "\n",
              "          const docLinkHtml = 'Like what you see? Visit the ' +\n",
              "            '<a target=\"_blank\" href=https://colab.research.google.com/notebooks/data_table.ipynb>data table notebook</a>'\n",
              "            + ' to learn more about interactive tables.';\n",
              "          element.innerHTML = '';\n",
              "          dataTable['output_type'] = 'display_data';\n",
              "          await google.colab.output.renderOutput(dataTable, element);\n",
              "          const docLink = document.createElement('div');\n",
              "          docLink.innerHTML = docLinkHtml;\n",
              "          element.appendChild(docLink);\n",
              "        }\n",
              "      </script>\n",
              "    </div>\n",
              "  </div>\n",
              "  "
            ]
          },
          "metadata": {},
          "execution_count": 73
        }
      ]
    },
    {
      "cell_type": "code",
      "source": [
        "#which genre has more apps\n",
        "df['Category'].value_counts()"
      ],
      "metadata": {
        "colab": {
          "base_uri": "https://localhost:8080/"
        },
        "id": "IZgo3ChnhaER",
        "outputId": "6b26a50a-c6a9-4379-a61f-c48996b3161e"
      },
      "execution_count": 74,
      "outputs": [
        {
          "output_type": "execute_result",
          "data": {
            "text/plain": [
              "Family                 1832\n",
              "Game                    959\n",
              "Tools                   827\n",
              "Business                420\n",
              "Medical                 395\n",
              "Personalization         376\n",
              "Productivity            374\n",
              "Lifestyle               369\n",
              "Finance                 345\n",
              "Sports                  325\n",
              "Communication           315\n",
              "Health And Fitness      288\n",
              "Photography             281\n",
              "News And Magazines      254\n",
              "Social                  239\n",
              "Books And Reference     222\n",
              "Travel And Local        219\n",
              "Shopping                202\n",
              "Dating                  171\n",
              "Video Players           163\n",
              "Maps And Navigation     131\n",
              "Education               119\n",
              "Food And Drink          112\n",
              "Entertainment           102\n",
              "Auto And Vehicles        85\n",
              "Libraries And Demo       84\n",
              "Weather                  79\n",
              "House And Home           74\n",
              "Events                   64\n",
              "Art And Design           64\n",
              "Parenting                60\n",
              "Comics                   56\n",
              "Beauty                   53\n",
              "Name: Category, dtype: int64"
            ]
          },
          "metadata": {},
          "execution_count": 74
        }
      ]
    },
    {
      "cell_type": "code",
      "source": [
        "sns.countplot(x='Category',data=df)"
      ],
      "metadata": {
        "colab": {
          "base_uri": "https://localhost:8080/",
          "height": 0
        },
        "id": "NNEiMWTsiDxN",
        "outputId": "4ea788bc-d9dd-44e1-93f6-4acbd6e0802f"
      },
      "execution_count": 75,
      "outputs": [
        {
          "output_type": "execute_result",
          "data": {
            "text/plain": [
              "<matplotlib.axes._subplots.AxesSubplot at 0x7f77fce20e50>"
            ]
          },
          "metadata": {},
          "execution_count": 75
        },
        {
          "output_type": "display_data",
          "data": {
            "text/plain": [
              "<Figure size 648x648 with 1 Axes>"
            ],
            "image/png": "[encoded data removed]"
          },
          "metadata": {}
        }
      ]
    },
    {
      "cell_type": "code",
      "source": [],
      "metadata": {
        "id": "k8KAgk1w3FdR"
      },
      "execution_count": 75,
      "outputs": []
    },
    {
      "cell_type": "code",
      "source": [
        "#what is the average size of the free apps and paid apps\n",
        "df.groupby('Type').mean()['Size']"
      ],
      "metadata": {
        "colab": {
          "base_uri": "https://localhost:8080/"
        },
        "id": "UtCSzyQRh2Hn",
        "outputId": "610c5db9-6d38-467e-9d0c-e4a9faaedf6a"
      },
      "execution_count": 76,
      "outputs": [
        {
          "output_type": "execute_result",
          "data": {
            "text/plain": [
              "Type\n",
              "Free    17.667060\n",
              "Paid    18.108915\n",
              "Name: Size, dtype: float64"
            ]
          },
          "metadata": {},
          "execution_count": 76
        }
      ]
    },
    {
      "cell_type": "code",
      "source": [
        "sns.barplot(x='Type',y='Size',estimator=np.mean,data=df)"
      ],
      "metadata": {
        "colab": {
          "base_uri": "https://localhost:8080/",
          "height": 0
        },
        "id": "INTZtSf3lgRw",
        "outputId": "61f6171c-8d6a-4446-b320-fda3719db7f9"
      },
      "execution_count": 77,
      "outputs": [
        {
          "output_type": "execute_result",
          "data": {
            "text/plain": [
              "<matplotlib.axes._subplots.AxesSubplot at 0x7f77fce8da50>"
            ]
          },
          "metadata": {},
          "execution_count": 77
        },
        {
          "output_type": "display_data",
          "data": {
            "text/plain": [
              "<Figure size 648x648 with 1 Axes>"
            ],
            "image/png": "[encoded data removed]"
          },
          "metadata": {}
        }
      ]
    },
    {
      "cell_type": "code",
      "source": [
        "#what are the 5 top expensive apps that has rate of 5\n",
        "df[df['Rating']==5].sort_values(by='Price',ascending=False).head(5)"
      ],
      "metadata": {
        "colab": {
          "base_uri": "https://localhost:8080/",
          "height": 0
        },
        "id": "7qOBia7nj5Yt",
        "outputId": "3bdd5005-4d1d-4c88-9373-969e20183f21"
      },
      "execution_count": 78,
      "outputs": [
        {
          "output_type": "execute_result",
          "data": {
            "text/plain": [
              "                                App           Category  Reviews  Installs  \\\n",
              "5489      AP Art History Flashcards             Family        1        10   \n",
              "7477     USMLE Step 2 CK Flashcards             Family        1        10   \n",
              "4697  FORD V SERIES CALC - NO LIMIT  Auto And Vehicles        2        50   \n",
              "8616                     MC.Fitting       Productivity      130      1000   \n",
              "5482     meStudying: AP English Lit             Family        1        10   \n",
              "\n",
              "      Type  Price Content Rating Android Ver  Rating  Size  \n",
              "5489  Paid  29.99         Adults         4.0     5.0   8.6  \n",
              "7477  Paid  19.99       Everyone         2.2     5.0   1.7  \n",
              "4697  Paid   9.99       Everyone         4.0     5.0  25.0  \n",
              "8616  Paid   8.49       Everyone         1.6     5.0  92.0  \n",
              "5482  Paid   4.99       Everyone       2.0.1     5.0  10.0  "
            ],
            "text/html": [
              "\n",
              "  <div id=\"df-d59c46e0-9b85-47a5-92d5-dd9f13da4113\">\n",
              "    <div class=\"colab-df-container\">\n",
              "      <div>\n",
              "<style scoped>\n",
              "    .dataframe tbody tr th:only-of-type {\n",
              "        vertical-align: middle;\n",
              "    }\n",
              "\n",
              "    .dataframe tbody tr th {\n",
              "        vertical-align: top;\n",
              "    }\n",
              "\n",
              "    .dataframe thead th {\n",
              "        text-align: right;\n",
              "    }\n",
              "</style>\n",
              "<table border=\"1\" class=\"dataframe\">\n",
              "  <thead>\n",
              "    <tr style=\"text-align: right;\">\n",
              "      <th></th>\n",
              "      <th>App</th>\n",
              "      <th>Category</th>\n",
              "      <th>Reviews</th>\n",
              "      <th>Installs</th>\n",
              "      <th>Type</th>\n",
              "      <th>Price</th>\n",
              "      <th>Content Rating</th>\n",
              "      <th>Android Ver</th>\n",
              "      <th>Rating</th>\n",
              "      <th>Size</th>\n",
              "    </tr>\n",
              "  </thead>\n",
              "  <tbody>\n",
              "    <tr>\n",
              "      <th>5489</th>\n",
              "      <td>AP Art History Flashcards</td>\n",
              "      <td>Family</td>\n",
              "      <td>1</td>\n",
              "      <td>10</td>\n",
              "      <td>Paid</td>\n",
              "      <td>29.99</td>\n",
              "      <td>Adults</td>\n",
              "      <td>4.0</td>\n",
              "      <td>5.0</td>\n",
              "      <td>8.6</td>\n",
              "    </tr>\n",
              "    <tr>\n",
              "      <th>7477</th>\n",
              "      <td>USMLE Step 2 CK Flashcards</td>\n",
              "      <td>Family</td>\n",
              "      <td>1</td>\n",
              "      <td>10</td>\n",
              "      <td>Paid</td>\n",
              "      <td>19.99</td>\n",
              "      <td>Everyone</td>\n",
              "      <td>2.2</td>\n",
              "      <td>5.0</td>\n",
              "      <td>1.7</td>\n",
              "    </tr>\n",
              "    <tr>\n",
              "      <th>4697</th>\n",
              "      <td>FORD V SERIES CALC - NO LIMIT</td>\n",
              "      <td>Auto And Vehicles</td>\n",
              "      <td>2</td>\n",
              "      <td>50</td>\n",
              "      <td>Paid</td>\n",
              "      <td>9.99</td>\n",
              "      <td>Everyone</td>\n",
              "      <td>4.0</td>\n",
              "      <td>5.0</td>\n",
              "      <td>25.0</td>\n",
              "    </tr>\n",
              "    <tr>\n",
              "      <th>8616</th>\n",
              "      <td>MC.Fitting</td>\n",
              "      <td>Productivity</td>\n",
              "      <td>130</td>\n",
              "      <td>1000</td>\n",
              "      <td>Paid</td>\n",
              "      <td>8.49</td>\n",
              "      <td>Everyone</td>\n",
              "      <td>1.6</td>\n",
              "      <td>5.0</td>\n",
              "      <td>92.0</td>\n",
              "    </tr>\n",
              "    <tr>\n",
              "      <th>5482</th>\n",
              "      <td>meStudying: AP English Lit</td>\n",
              "      <td>Family</td>\n",
              "      <td>1</td>\n",
              "      <td>10</td>\n",
              "      <td>Paid</td>\n",
              "      <td>4.99</td>\n",
              "      <td>Everyone</td>\n",
              "      <td>2.0.1</td>\n",
              "      <td>5.0</td>\n",
              "      <td>10.0</td>\n",
              "    </tr>\n",
              "  </tbody>\n",
              "</table>\n",
              "</div>\n",
              "      <button class=\"colab-df-convert\" onclick=\"convertToInteractive('df-d59c46e0-9b85-47a5-92d5-dd9f13da4113')\"\n",
              "              title=\"Convert this dataframe to an interactive table.\"\n",
              "              style=\"display:none;\">\n",
              "        \n",
              "  <svg xmlns=\"http://www.w3.org/2000/svg\" height=\"24px\"viewBox=\"0 0 24 24\"\n",
              "       width=\"24px\">\n",
              "    <path d=\"M0 0h24v24H0V0z\" fill=\"none\"/>\n",
              "    <path d=\"M18.56 5.44l.94 2.06.94-2.06 2.06-.94-2.06-.94-.94-2.06-.94 2.06-2.06.94zm-11 1L8.5 8.5l.94-2.06 2.06-.94-2.06-.94L8.5 2.5l-.94 2.06-2.06.94zm10 10l.94 2.06.94-2.06 2.06-.94-2.06-.94-.94-2.06-.94 2.06-2.06.94z\"/><path d=\"M17.41 7.96l-1.37-1.37c-.4-.4-.92-.59-1.43-.59-.52 0-1.04.2-1.43.59L10.3 9.45l-7.72 7.72c-.78.78-.78 2.05 0 2.83L4 21.41c.39.39.9.59 1.41.59.51 0 1.02-.2 1.41-.59l7.78-7.78 2.81-2.81c.8-.78.8-2.07 0-2.86zM5.41 20L4 18.59l7.72-7.72 1.47 1.35L5.41 20z\"/>\n",
              "  </svg>\n",
              "      </button>\n",
              "      \n",
              "  <style>\n",
              "    .colab-df-container {\n",
              "      display:flex;\n",
              "      flex-wrap:wrap;\n",
              "      gap: 12px;\n",
              "    }\n",
              "\n",
              "    .colab-df-convert {\n",
              "      background-color: #E8F0FE;\n",
              "      border: none;\n",
              "      border-radius: 50%;\n",
              "      cursor: pointer;\n",
              "      display: none;\n",
              "      fill: #1967D2;\n",
              "      height: 32px;\n",
              "      padding: 0 0 0 0;\n",
              "      width: 32px;\n",
              "    }\n",
              "\n",
              "    .colab-df-convert:hover {\n",
              "      background-color: #E2EBFA;\n",
              "      box-shadow: 0px 1px 2px rgba(60, 64, 67, 0.3), 0px 1px 3px 1px rgba(60, 64, 67, 0.15);\n",
              "      fill: #174EA6;\n",
              "    }\n",
              "\n",
              "    [theme=dark] .colab-df-convert {\n",
              "      background-color: #3B4455;\n",
              "      fill: #D2E3FC;\n",
              "    }\n",
              "\n",
              "    [theme=dark] .colab-df-convert:hover {\n",
              "      background-color: #434B5C;\n",
              "      box-shadow: 0px 1px 3px 1px rgba(0, 0, 0, 0.15);\n",
              "      filter: drop-shadow(0px 1px 2px rgba(0, 0, 0, 0.3));\n",
              "      fill: #FFFFFF;\n",
              "    }\n",
              "  </style>\n",
              "\n",
              "      <script>\n",
              "        const buttonEl =\n",
              "          document.querySelector('#df-d59c46e0-9b85-47a5-92d5-dd9f13da4113 button.colab-df-convert');\n",
              "        buttonEl.style.display =\n",
              "          google.colab.kernel.accessAllowed ? 'block' : 'none';\n",
              "\n",
              "        async function convertToInteractive(key) {\n",
              "          const element = document.querySelector('#df-d59c46e0-9b85-47a5-92d5-dd9f13da4113');\n",
              "          const dataTable =\n",
              "            await google.colab.kernel.invokeFunction('convertToInteractive',\n",
              "                                                     [key], {});\n",
              "          if (!dataTable) return;\n",
              "\n",
              "          const docLinkHtml = 'Like what you see? Visit the ' +\n",
              "            '<a target=\"_blank\" href=https://colab.research.google.com/notebooks/data_table.ipynb>data table notebook</a>'\n",
              "            + ' to learn more about interactive tables.';\n",
              "          element.innerHTML = '';\n",
              "          dataTable['output_type'] = 'display_data';\n",
              "          await google.colab.output.renderOutput(dataTable, element);\n",
              "          const docLink = document.createElement('div');\n",
              "          docLink.innerHTML = docLinkHtml;\n",
              "          element.appendChild(docLink);\n",
              "        }\n",
              "      </script>\n",
              "    </div>\n",
              "  </div>\n",
              "  "
            ]
          },
          "metadata": {},
          "execution_count": 78
        }
      ]
    },
    {
      "cell_type": "code",
      "source": [
        "#how many apps that has more than 50k reviews\n",
        "df[df['Reviews']>5000].sort_values(by='Reviews',ascending=False)"
      ],
      "metadata": {
        "colab": {
          "base_uri": "https://localhost:8080/",
          "height": 0
        },
        "id": "UO_g8EjrkzaY",
        "outputId": "ab969913-0995-4af2-c1e9-9a8af0850775"
      },
      "execution_count": 79,
      "outputs": [
        {
          "output_type": "execute_result",
          "data": {
            "text/plain": [
              "                                            App            Category   Reviews  \\\n",
              "2544                                   Facebook              Social  78158306   \n",
              "336                          WhatsApp Messenger       Communication  69119316   \n",
              "2545                                  Instagram              Social  66577313   \n",
              "335    Messenger – Text and Video Chat for Free       Communication  56642847   \n",
              "1670                             Clash of Clans                Game  44891723   \n",
              "...                                         ...                 ...       ...   \n",
              "1433               Brain Waves - Binaural Beats  Health And Fitness      5038   \n",
              "32                    Anime Manga Coloring Book      Art And Design      5035   \n",
              "7508    DAILY: Free Classifieds App for Android           Lifestyle      5025   \n",
              "10275                                 Mobile FC              Sports      5015   \n",
              "6628                                BQ Services               Tools      5004   \n",
              "\n",
              "         Installs  Type  Price Content Rating Android Ver  Rating  Size  \n",
              "2544   1000000000  Free    0.0           Teen      Varies     4.1   9.1  \n",
              "336    1000000000  Free    0.0       Everyone      Varies     4.4   9.1  \n",
              "2545   1000000000  Free    0.0           Teen      Varies     4.5   9.1  \n",
              "335    1000000000  Free    0.0       Everyone      Varies     4.0   9.1  \n",
              "1670    100000000  Free    0.0       Everyone         4.1     4.6  36.0  \n",
              "...           ...   ...    ...            ...         ...     ...   ...  \n",
              "1433       500000  Free    0.0       Everyone         4.4     4.4  38.0  \n",
              "32         100000  Free    0.0       Everyone         4.0     4.5  11.0  \n",
              "7508       500000  Free    0.0         Adults      Varies     4.1   5.9  \n",
              "10275      100000  Free    0.0       Everyone       4.0.3     4.1   9.1  \n",
              "6628      1000000  Free    0.0       Everyone      Varies     3.7   7.0  \n",
              "\n",
              "[3744 rows x 10 columns]"
            ],
            "text/html": [
              "\n",
              "  <div id=\"df-67144730-ad66-4783-a493-44c9608c02fa\">\n",
              "    <div class=\"colab-df-container\">\n",
              "      <div>\n",
              "<style scoped>\n",
              "    .dataframe tbody tr th:only-of-type {\n",
              "        vertical-align: middle;\n",
              "    }\n",
              "\n",
              "    .dataframe tbody tr th {\n",
              "        vertical-align: top;\n",
              "    }\n",
              "\n",
              "    .dataframe thead th {\n",
              "        text-align: right;\n",
              "    }\n",
              "</style>\n",
              "<table border=\"1\" class=\"dataframe\">\n",
              "  <thead>\n",
              "    <tr style=\"text-align: right;\">\n",
              "      <th></th>\n",
              "      <th>App</th>\n",
              "      <th>Category</th>\n",
              "      <th>Reviews</th>\n",
              "      <th>Installs</th>\n",
              "      <th>Type</th>\n",
              "      <th>Price</th>\n",
              "      <th>Content Rating</th>\n",
              "      <th>Android Ver</th>\n",
              "      <th>Rating</th>\n",
              "      <th>Size</th>\n",
              "    </tr>\n",
              "  </thead>\n",
              "  <tbody>\n",
              "    <tr>\n",
              "      <th>2544</th>\n",
              "      <td>Facebook</td>\n",
              "      <td>Social</td>\n",
              "      <td>78158306</td>\n",
              "      <td>1000000000</td>\n",
              "      <td>Free</td>\n",
              "      <td>0.0</td>\n",
              "      <td>Teen</td>\n",
              "      <td>Varies</td>\n",
              "      <td>4.1</td>\n",
              "      <td>9.1</td>\n",
              "    </tr>\n",
              "    <tr>\n",
              "      <th>336</th>\n",
              "      <td>WhatsApp Messenger</td>\n",
              "      <td>Communication</td>\n",
              "      <td>69119316</td>\n",
              "      <td>1000000000</td>\n",
              "      <td>Free</td>\n",
              "      <td>0.0</td>\n",
              "      <td>Everyone</td>\n",
              "      <td>Varies</td>\n",
              "      <td>4.4</td>\n",
              "      <td>9.1</td>\n",
              "    </tr>\n",
              "    <tr>\n",
              "      <th>2545</th>\n",
              "      <td>Instagram</td>\n",
              "      <td>Social</td>\n",
              "      <td>66577313</td>\n",
              "      <td>1000000000</td>\n",
              "      <td>Free</td>\n",
              "      <td>0.0</td>\n",
              "      <td>Teen</td>\n",
              "      <td>Varies</td>\n",
              "      <td>4.5</td>\n",
              "      <td>9.1</td>\n",
              "    </tr>\n",
              "    <tr>\n",
              "      <th>335</th>\n",
              "      <td>Messenger – Text and Video Chat for Free</td>\n",
              "      <td>Communication</td>\n",
              "      <td>56642847</td>\n",
              "      <td>1000000000</td>\n",
              "      <td>Free</td>\n",
              "      <td>0.0</td>\n",
              "      <td>Everyone</td>\n",
              "      <td>Varies</td>\n",
              "      <td>4.0</td>\n",
              "      <td>9.1</td>\n",
              "    </tr>\n",
              "    <tr>\n",
              "      <th>1670</th>\n",
              "      <td>Clash of Clans</td>\n",
              "      <td>Game</td>\n",
              "      <td>44891723</td>\n",
              "      <td>100000000</td>\n",
              "      <td>Free</td>\n",
              "      <td>0.0</td>\n",
              "      <td>Everyone</td>\n",
              "      <td>4.1</td>\n",
              "      <td>4.6</td>\n",
              "      <td>36.0</td>\n",
              "    </tr>\n",
              "    <tr>\n",
              "      <th>...</th>\n",
              "      <td>...</td>\n",
              "      <td>...</td>\n",
              "      <td>...</td>\n",
              "      <td>...</td>\n",
              "      <td>...</td>\n",
              "      <td>...</td>\n",
              "      <td>...</td>\n",
              "      <td>...</td>\n",
              "      <td>...</td>\n",
              "      <td>...</td>\n",
              "    </tr>\n",
              "    <tr>\n",
              "      <th>1433</th>\n",
              "      <td>Brain Waves - Binaural Beats</td>\n",
              "      <td>Health And Fitness</td>\n",
              "      <td>5038</td>\n",
              "      <td>500000</td>\n",
              "      <td>Free</td>\n",
              "      <td>0.0</td>\n",
              "      <td>Everyone</td>\n",
              "      <td>4.4</td>\n",
              "      <td>4.4</td>\n",
              "      <td>38.0</td>\n",
              "    </tr>\n",
              "    <tr>\n",
              "      <th>32</th>\n",
              "      <td>Anime Manga Coloring Book</td>\n",
              "      <td>Art And Design</td>\n",
              "      <td>5035</td>\n",
              "      <td>100000</td>\n",
              "      <td>Free</td>\n",
              "      <td>0.0</td>\n",
              "      <td>Everyone</td>\n",
              "      <td>4.0</td>\n",
              "      <td>4.5</td>\n",
              "      <td>11.0</td>\n",
              "    </tr>\n",
              "    <tr>\n",
              "      <th>7508</th>\n",
              "      <td>DAILY: Free Classifieds App for Android</td>\n",
              "      <td>Lifestyle</td>\n",
              "      <td>5025</td>\n",
              "      <td>500000</td>\n",
              "      <td>Free</td>\n",
              "      <td>0.0</td>\n",
              "      <td>Adults</td>\n",
              "      <td>Varies</td>\n",
              "      <td>4.1</td>\n",
              "      <td>5.9</td>\n",
              "    </tr>\n",
              "    <tr>\n",
              "      <th>10275</th>\n",
              "      <td>Mobile FC</td>\n",
              "      <td>Sports</td>\n",
              "      <td>5015</td>\n",
              "      <td>100000</td>\n",
              "      <td>Free</td>\n",
              "      <td>0.0</td>\n",
              "      <td>Everyone</td>\n",
              "      <td>4.0.3</td>\n",
              "      <td>4.1</td>\n",
              "      <td>9.1</td>\n",
              "    </tr>\n",
              "    <tr>\n",
              "      <th>6628</th>\n",
              "      <td>BQ Services</td>\n",
              "      <td>Tools</td>\n",
              "      <td>5004</td>\n",
              "      <td>1000000</td>\n",
              "      <td>Free</td>\n",
              "      <td>0.0</td>\n",
              "      <td>Everyone</td>\n",
              "      <td>Varies</td>\n",
              "      <td>3.7</td>\n",
              "      <td>7.0</td>\n",
              "    </tr>\n",
              "  </tbody>\n",
              "</table>\n",
              "<p>3744 rows × 10 columns</p>\n",
              "</div>\n",
              "      <button class=\"colab-df-convert\" onclick=\"convertToInteractive('df-67144730-ad66-4783-a493-44c9608c02fa')\"\n",
              "              title=\"Convert this dataframe to an interactive table.\"\n",
              "              style=\"display:none;\">\n",
              "        \n",
              "  <svg xmlns=\"http://www.w3.org/2000/svg\" height=\"24px\"viewBox=\"0 0 24 24\"\n",
              "       width=\"24px\">\n",
              "    <path d=\"M0 0h24v24H0V0z\" fill=\"none\"/>\n",
              "    <path d=\"M18.56 5.44l.94 2.06.94-2.06 2.06-.94-2.06-.94-.94-2.06-.94 2.06-2.06.94zm-11 1L8.5 8.5l.94-2.06 2.06-.94-2.06-.94L8.5 2.5l-.94 2.06-2.06.94zm10 10l.94 2.06.94-2.06 2.06-.94-2.06-.94-.94-2.06-.94 2.06-2.06.94z\"/><path d=\"M17.41 7.96l-1.37-1.37c-.4-.4-.92-.59-1.43-.59-.52 0-1.04.2-1.43.59L10.3 9.45l-7.72 7.72c-.78.78-.78 2.05 0 2.83L4 21.41c.39.39.9.59 1.41.59.51 0 1.02-.2 1.41-.59l7.78-7.78 2.81-2.81c.8-.78.8-2.07 0-2.86zM5.41 20L4 18.59l7.72-7.72 1.47 1.35L5.41 20z\"/>\n",
              "  </svg>\n",
              "      </button>\n",
              "      \n",
              "  <style>\n",
              "    .colab-df-container {\n",
              "      display:flex;\n",
              "      flex-wrap:wrap;\n",
              "      gap: 12px;\n",
              "    }\n",
              "\n",
              "    .colab-df-convert {\n",
              "      background-color: #E8F0FE;\n",
              "      border: none;\n",
              "      border-radius: 50%;\n",
              "      cursor: pointer;\n",
              "      display: none;\n",
              "      fill: #1967D2;\n",
              "      height: 32px;\n",
              "      padding: 0 0 0 0;\n",
              "      width: 32px;\n",
              "    }\n",
              "\n",
              "    .colab-df-convert:hover {\n",
              "      background-color: #E2EBFA;\n",
              "      box-shadow: 0px 1px 2px rgba(60, 64, 67, 0.3), 0px 1px 3px 1px rgba(60, 64, 67, 0.15);\n",
              "      fill: #174EA6;\n",
              "    }\n",
              "\n",
              "    [theme=dark] .colab-df-convert {\n",
              "      background-color: #3B4455;\n",
              "      fill: #D2E3FC;\n",
              "    }\n",
              "\n",
              "    [theme=dark] .colab-df-convert:hover {\n",
              "      background-color: #434B5C;\n",
              "      box-shadow: 0px 1px 3px 1px rgba(0, 0, 0, 0.15);\n",
              "      filter: drop-shadow(0px 1px 2px rgba(0, 0, 0, 0.3));\n",
              "      fill: #FFFFFF;\n",
              "    }\n",
              "  </style>\n",
              "\n",
              "      <script>\n",
              "        const buttonEl =\n",
              "          document.querySelector('#df-67144730-ad66-4783-a493-44c9608c02fa button.colab-df-convert');\n",
              "        buttonEl.style.display =\n",
              "          google.colab.kernel.accessAllowed ? 'block' : 'none';\n",
              "\n",
              "        async function convertToInteractive(key) {\n",
              "          const element = document.querySelector('#df-67144730-ad66-4783-a493-44c9608c02fa');\n",
              "          const dataTable =\n",
              "            await google.colab.kernel.invokeFunction('convertToInteractive',\n",
              "                                                     [key], {});\n",
              "          if (!dataTable) return;\n",
              "\n",
              "          const docLinkHtml = 'Like what you see? Visit the ' +\n",
              "            '<a target=\"_blank\" href=https://colab.research.google.com/notebooks/data_table.ipynb>data table notebook</a>'\n",
              "            + ' to learn more about interactive tables.';\n",
              "          element.innerHTML = '';\n",
              "          dataTable['output_type'] = 'display_data';\n",
              "          await google.colab.output.renderOutput(dataTable, element);\n",
              "          const docLink = document.createElement('div');\n",
              "          docLink.innerHTML = docLinkHtml;\n",
              "          element.appendChild(docLink);\n",
              "        }\n",
              "      </script>\n",
              "    </div>\n",
              "  </div>\n",
              "  "
            ]
          },
          "metadata": {},
          "execution_count": 79
        }
      ]
    },
    {
      "cell_type": "code",
      "source": [
        "#what is the average price of the appsfor each genre with each installs numbers\n",
        "x=pd.pivot_table(index='Category',columns='Installs',values='Price',data=df,aggfunc=np.mean)\n",
        "x.head()"
      ],
      "metadata": {
        "colab": {
          "base_uri": "https://localhost:8080/",
          "height": 0
        },
        "id": "R_B7a74Il7z4",
        "outputId": "0b2d1ff2-f683-4e77-96a1-f3f409a5dfd4"
      },
      "execution_count": 80,
      "outputs": [
        {
          "output_type": "execute_result",
          "data": {
            "text/plain": [
              "Installs             0           1           5           10          \\\n",
              "Category                                                              \n",
              "Art And Design              0.0         NaN         NaN         NaN   \n",
              "Auto And Vehicles           NaN        0.00    0.000000    0.000000   \n",
              "Beauty                      NaN         NaN         NaN         NaN   \n",
              "Books And Reference         NaN        5.99    1.852857    3.996842   \n",
              "Business                    0.0        0.00    0.055000    2.201905   \n",
              "\n",
              "Installs             50          100         500         1000        \\\n",
              "Category                                                              \n",
              "Art And Design              NaN    0.000000         NaN    0.663333   \n",
              "Auto And Vehicles      9.990000    0.248333    0.000000    0.000000   \n",
              "Beauty                 0.000000    0.000000    0.000000    0.000000   \n",
              "Books And Reference    0.583333    0.570000    0.220000    0.149118   \n",
              "Business               0.359600    0.432763    0.782174    0.183265   \n",
              "\n",
              "Installs             5000        10000       50000       100000      \\\n",
              "Category                                                              \n",
              "Art And Design         0.398000    0.180909       0.000    0.000000   \n",
              "Auto And Vehicles      0.000000    0.000000       0.398    0.000000   \n",
              "Beauty                 0.000000    0.000000       0.000    0.000000   \n",
              "Books And Reference    0.474375    0.179600       0.000    0.000000   \n",
              "Business               0.000000    0.065000       0.000    0.332667   \n",
              "\n",
              "Installs             500000      1000000     5000000     10000000    \\\n",
              "Category                                                              \n",
              "Art And Design              0.0         0.0         0.0         0.0   \n",
              "Auto And Vehicles           0.0         0.0         0.0         0.0   \n",
              "Beauty                      0.0         0.0         0.0         0.0   \n",
              "Books And Reference         0.0         0.0         0.0         0.0   \n",
              "Business                    0.0         0.0         0.0         0.0   \n",
              "\n",
              "Installs             50000000    100000000   500000000   1000000000  \n",
              "Category                                                             \n",
              "Art And Design              0.0         NaN         NaN         NaN  \n",
              "Auto And Vehicles           NaN         NaN         NaN         NaN  \n",
              "Beauty                      NaN         NaN         NaN         NaN  \n",
              "Books And Reference         NaN         0.0         NaN         0.0  \n",
              "Business                    0.0         0.0         NaN         NaN  "
            ],
            "text/html": [
              "\n",
              "  <div id=\"df-0dc2c488-9b2f-4b8a-9fde-1f29dd3df1a4\">\n",
              "    <div class=\"colab-df-container\">\n",
              "      <div>\n",
              "<style scoped>\n",
              "    .dataframe tbody tr th:only-of-type {\n",
              "        vertical-align: middle;\n",
              "    }\n",
              "\n",
              "    .dataframe tbody tr th {\n",
              "        vertical-align: top;\n",
              "    }\n",
              "\n",
              "    .dataframe thead th {\n",
              "        text-align: right;\n",
              "    }\n",
              "</style>\n",
              "<table border=\"1\" class=\"dataframe\">\n",
              "  <thead>\n",
              "    <tr style=\"text-align: right;\">\n",
              "      <th>Installs</th>\n",
              "      <th>0</th>\n",
              "      <th>1</th>\n",
              "      <th>5</th>\n",
              "      <th>10</th>\n",
              "      <th>50</th>\n",
              "      <th>100</th>\n",
              "      <th>500</th>\n",
              "      <th>1000</th>\n",
              "      <th>5000</th>\n",
              "      <th>10000</th>\n",
              "      <th>50000</th>\n",
              "      <th>100000</th>\n",
              "      <th>500000</th>\n",
              "      <th>1000000</th>\n",
              "      <th>5000000</th>\n",
              "      <th>10000000</th>\n",
              "      <th>50000000</th>\n",
              "      <th>100000000</th>\n",
              "      <th>500000000</th>\n",
              "      <th>1000000000</th>\n",
              "    </tr>\n",
              "    <tr>\n",
              "      <th>Category</th>\n",
              "      <th></th>\n",
              "      <th></th>\n",
              "      <th></th>\n",
              "      <th></th>\n",
              "      <th></th>\n",
              "      <th></th>\n",
              "      <th></th>\n",
              "      <th></th>\n",
              "      <th></th>\n",
              "      <th></th>\n",
              "      <th></th>\n",
              "      <th></th>\n",
              "      <th></th>\n",
              "      <th></th>\n",
              "      <th></th>\n",
              "      <th></th>\n",
              "      <th></th>\n",
              "      <th></th>\n",
              "      <th></th>\n",
              "      <th></th>\n",
              "    </tr>\n",
              "  </thead>\n",
              "  <tbody>\n",
              "    <tr>\n",
              "      <th>Art And Design</th>\n",
              "      <td>0.0</td>\n",
              "      <td>NaN</td>\n",
              "      <td>NaN</td>\n",
              "      <td>NaN</td>\n",
              "      <td>NaN</td>\n",
              "      <td>0.000000</td>\n",
              "      <td>NaN</td>\n",
              "      <td>0.663333</td>\n",
              "      <td>0.398000</td>\n",
              "      <td>0.180909</td>\n",
              "      <td>0.000</td>\n",
              "      <td>0.000000</td>\n",
              "      <td>0.0</td>\n",
              "      <td>0.0</td>\n",
              "      <td>0.0</td>\n",
              "      <td>0.0</td>\n",
              "      <td>0.0</td>\n",
              "      <td>NaN</td>\n",
              "      <td>NaN</td>\n",
              "      <td>NaN</td>\n",
              "    </tr>\n",
              "    <tr>\n",
              "      <th>Auto And Vehicles</th>\n",
              "      <td>NaN</td>\n",
              "      <td>0.00</td>\n",
              "      <td>0.000000</td>\n",
              "      <td>0.000000</td>\n",
              "      <td>9.990000</td>\n",
              "      <td>0.248333</td>\n",
              "      <td>0.000000</td>\n",
              "      <td>0.000000</td>\n",
              "      <td>0.000000</td>\n",
              "      <td>0.000000</td>\n",
              "      <td>0.398</td>\n",
              "      <td>0.000000</td>\n",
              "      <td>0.0</td>\n",
              "      <td>0.0</td>\n",
              "      <td>0.0</td>\n",
              "      <td>0.0</td>\n",
              "      <td>NaN</td>\n",
              "      <td>NaN</td>\n",
              "      <td>NaN</td>\n",
              "      <td>NaN</td>\n",
              "    </tr>\n",
              "    <tr>\n",
              "      <th>Beauty</th>\n",
              "      <td>NaN</td>\n",
              "      <td>NaN</td>\n",
              "      <td>NaN</td>\n",
              "      <td>NaN</td>\n",
              "      <td>0.000000</td>\n",
              "      <td>0.000000</td>\n",
              "      <td>0.000000</td>\n",
              "      <td>0.000000</td>\n",
              "      <td>0.000000</td>\n",
              "      <td>0.000000</td>\n",
              "      <td>0.000</td>\n",
              "      <td>0.000000</td>\n",
              "      <td>0.0</td>\n",
              "      <td>0.0</td>\n",
              "      <td>0.0</td>\n",
              "      <td>0.0</td>\n",
              "      <td>NaN</td>\n",
              "      <td>NaN</td>\n",
              "      <td>NaN</td>\n",
              "      <td>NaN</td>\n",
              "    </tr>\n",
              "    <tr>\n",
              "      <th>Books And Reference</th>\n",
              "      <td>NaN</td>\n",
              "      <td>5.99</td>\n",
              "      <td>1.852857</td>\n",
              "      <td>3.996842</td>\n",
              "      <td>0.583333</td>\n",
              "      <td>0.570000</td>\n",
              "      <td>0.220000</td>\n",
              "      <td>0.149118</td>\n",
              "      <td>0.474375</td>\n",
              "      <td>0.179600</td>\n",
              "      <td>0.000</td>\n",
              "      <td>0.000000</td>\n",
              "      <td>0.0</td>\n",
              "      <td>0.0</td>\n",
              "      <td>0.0</td>\n",
              "      <td>0.0</td>\n",
              "      <td>NaN</td>\n",
              "      <td>0.0</td>\n",
              "      <td>NaN</td>\n",
              "      <td>0.0</td>\n",
              "    </tr>\n",
              "    <tr>\n",
              "      <th>Business</th>\n",
              "      <td>0.0</td>\n",
              "      <td>0.00</td>\n",
              "      <td>0.055000</td>\n",
              "      <td>2.201905</td>\n",
              "      <td>0.359600</td>\n",
              "      <td>0.432763</td>\n",
              "      <td>0.782174</td>\n",
              "      <td>0.183265</td>\n",
              "      <td>0.000000</td>\n",
              "      <td>0.065000</td>\n",
              "      <td>0.000</td>\n",
              "      <td>0.332667</td>\n",
              "      <td>0.0</td>\n",
              "      <td>0.0</td>\n",
              "      <td>0.0</td>\n",
              "      <td>0.0</td>\n",
              "      <td>0.0</td>\n",
              "      <td>0.0</td>\n",
              "      <td>NaN</td>\n",
              "      <td>NaN</td>\n",
              "    </tr>\n",
              "  </tbody>\n",
              "</table>\n",
              "</div>\n",
              "      <button class=\"colab-df-convert\" onclick=\"convertToInteractive('df-0dc2c488-9b2f-4b8a-9fde-1f29dd3df1a4')\"\n",
              "              title=\"Convert this dataframe to an interactive table.\"\n",
              "              style=\"display:none;\">\n",
              "        \n",
              "  <svg xmlns=\"http://www.w3.org/2000/svg\" height=\"24px\"viewBox=\"0 0 24 24\"\n",
              "       width=\"24px\">\n",
              "    <path d=\"M0 0h24v24H0V0z\" fill=\"none\"/>\n",
              "    <path d=\"M18.56 5.44l.94 2.06.94-2.06 2.06-.94-2.06-.94-.94-2.06-.94 2.06-2.06.94zm-11 1L8.5 8.5l.94-2.06 2.06-.94-2.06-.94L8.5 2.5l-.94 2.06-2.06.94zm10 10l.94 2.06.94-2.06 2.06-.94-2.06-.94-.94-2.06-.94 2.06-2.06.94z\"/><path d=\"M17.41 7.96l-1.37-1.37c-.4-.4-.92-.59-1.43-.59-.52 0-1.04.2-1.43.59L10.3 9.45l-7.72 7.72c-.78.78-.78 2.05 0 2.83L4 21.41c.39.39.9.59 1.41.59.51 0 1.02-.2 1.41-.59l7.78-7.78 2.81-2.81c.8-.78.8-2.07 0-2.86zM5.41 20L4 18.59l7.72-7.72 1.47 1.35L5.41 20z\"/>\n",
              "  </svg>\n",
              "      </button>\n",
              "      \n",
              "  <style>\n",
              "    .colab-df-container {\n",
              "      display:flex;\n",
              "      flex-wrap:wrap;\n",
              "      gap: 12px;\n",
              "    }\n",
              "\n",
              "    .colab-df-convert {\n",
              "      background-color: #E8F0FE;\n",
              "      border: none;\n",
              "      border-radius: 50%;\n",
              "      cursor: pointer;\n",
              "      display: none;\n",
              "      fill: #1967D2;\n",
              "      height: 32px;\n",
              "      padding: 0 0 0 0;\n",
              "      width: 32px;\n",
              "    }\n",
              "\n",
              "    .colab-df-convert:hover {\n",
              "      background-color: #E2EBFA;\n",
              "      box-shadow: 0px 1px 2px rgba(60, 64, 67, 0.3), 0px 1px 3px 1px rgba(60, 64, 67, 0.15);\n",
              "      fill: #174EA6;\n",
              "    }\n",
              "\n",
              "    [theme=dark] .colab-df-convert {\n",
              "      background-color: #3B4455;\n",
              "      fill: #D2E3FC;\n",
              "    }\n",
              "\n",
              "    [theme=dark] .colab-df-convert:hover {\n",
              "      background-color: #434B5C;\n",
              "      box-shadow: 0px 1px 3px 1px rgba(0, 0, 0, 0.15);\n",
              "      filter: drop-shadow(0px 1px 2px rgba(0, 0, 0, 0.3));\n",
              "      fill: #FFFFFF;\n",
              "    }\n",
              "  </style>\n",
              "\n",
              "      <script>\n",
              "        const buttonEl =\n",
              "          document.querySelector('#df-0dc2c488-9b2f-4b8a-9fde-1f29dd3df1a4 button.colab-df-convert');\n",
              "        buttonEl.style.display =\n",
              "          google.colab.kernel.accessAllowed ? 'block' : 'none';\n",
              "\n",
              "        async function convertToInteractive(key) {\n",
              "          const element = document.querySelector('#df-0dc2c488-9b2f-4b8a-9fde-1f29dd3df1a4');\n",
              "          const dataTable =\n",
              "            await google.colab.kernel.invokeFunction('convertToInteractive',\n",
              "                                                     [key], {});\n",
              "          if (!dataTable) return;\n",
              "\n",
              "          const docLinkHtml = 'Like what you see? Visit the ' +\n",
              "            '<a target=\"_blank\" href=https://colab.research.google.com/notebooks/data_table.ipynb>data table notebook</a>'\n",
              "            + ' to learn more about interactive tables.';\n",
              "          element.innerHTML = '';\n",
              "          dataTable['output_type'] = 'display_data';\n",
              "          await google.colab.output.renderOutput(dataTable, element);\n",
              "          const docLink = document.createElement('div');\n",
              "          docLink.innerHTML = docLinkHtml;\n",
              "          element.appendChild(docLink);\n",
              "        }\n",
              "      </script>\n",
              "    </div>\n",
              "  </div>\n",
              "  "
            ]
          },
          "metadata": {},
          "execution_count": 80
        }
      ]
    },
    {
      "cell_type": "code",
      "source": [
        "sns.heatmap(x,annot=True,fmt='0.0f')"
      ],
      "metadata": {
        "colab": {
          "base_uri": "https://localhost:8080/",
          "height": 0
        },
        "id": "MGkIePj1t_DH",
        "outputId": "adcb3a8c-d181-410f-e386-e3ca4052d36d"
      },
      "execution_count": 81,
      "outputs": [
        {
          "output_type": "execute_result",
          "data": {
            "text/plain": [
              "<matplotlib.axes._subplots.AxesSubplot at 0x7f77fd0e29d0>"
            ]
          },
          "metadata": {},
          "execution_count": 81
        },
        {
          "output_type": "display_data",
          "data": {
            "text/plain": [
              "<Figure size 648x648 with 2 Axes>"
            ],
            "image/png": "[encoded data removed]"
          },
          "metadata": {}
        }
      ]
    },
    {
      "cell_type": "code",
      "source": [
        "#how many apps have rating>4.7 and what is their average price\n",
        "df[df['Rating']>4.7]['Price'].mean()"
      ],
      "metadata": {
        "colab": {
          "base_uri": "https://localhost:8080/"
        },
        "id": "STmxybUpuiqG",
        "outputId": "158c30e2-b048-4c1c-889f-151ad92ebcac"
      },
      "execution_count": 82,
      "outputs": [
        {
          "output_type": "execute_result",
          "data": {
            "text/plain": [
              "0.4544771723122239"
            ]
          },
          "metadata": {},
          "execution_count": 82
        }
      ]
    },
    {
      "cell_type": "code",
      "source": [
        "#how much google earned from 5000000 installed apps\n",
        "df.groupby('Installs').sum()['Price']"
      ],
      "metadata": {
        "colab": {
          "base_uri": "https://localhost:8080/"
        },
        "id": "jAS_dRCnvz1b",
        "outputId": "3dfa056e-42bd-4035-e5c0-da5e38ccfa69"
      },
      "execution_count": 83,
      "outputs": [
        {
          "output_type": "execute_result",
          "data": {
            "text/plain": [
              "Installs\n",
              "0             1205.41\n",
              "1              179.29\n",
              "5               71.38\n",
              "10             447.76\n",
              "50             109.72\n",
              "100            799.78\n",
              "500            134.62\n",
              "1000          2416.67\n",
              "5000          1416.98\n",
              "10000         2374.41\n",
              "50000          583.88\n",
              "100000         782.56\n",
              "500000          34.39\n",
              "1000000         53.30\n",
              "5000000          0.00\n",
              "10000000         7.98\n",
              "50000000         0.00\n",
              "100000000        0.00\n",
              "500000000        0.00\n",
              "1000000000       0.00\n",
              "Name: Price, dtype: float64"
            ]
          },
          "metadata": {},
          "execution_count": 83
        }
      ]
    },
    {
      "cell_type": "code",
      "source": [
        "#what is the minimum and maximum size of free and paid apps\n",
        "df.groupby('Type').describe()['Size']"
      ],
      "metadata": {
        "colab": {
          "base_uri": "https://localhost:8080/",
          "height": 0
        },
        "id": "eC_3KQwxwsSw",
        "outputId": "0737c6b9-cd7e-4593-f24d-1aa2fc657a80"
      },
      "execution_count": 84,
      "outputs": [
        {
          "output_type": "execute_result",
          "data": {
            "text/plain": [
              "       count       mean        std       min    25%  50%   75%    max\n",
              "Type                                                                 \n",
              "Free  8903.0  17.667060  19.659784  0.008301  6.000  9.1  22.0  100.0\n",
              "Paid   756.0  18.108915  20.067313  0.016602  5.775  9.1  25.0  100.0"
            ],
            "text/html": [
              "\n",
              "  <div id=\"df-f8bdc2d2-4a20-4a04-a302-5ea32ecee3f3\">\n",
              "    <div class=\"colab-df-container\">\n",
              "      <div>\n",
              "<style scoped>\n",
              "    .dataframe tbody tr th:only-of-type {\n",
              "        vertical-align: middle;\n",
              "    }\n",
              "\n",
              "    .dataframe tbody tr th {\n",
              "        vertical-align: top;\n",
              "    }\n",
              "\n",
              "    .dataframe thead th {\n",
              "        text-align: right;\n",
              "    }\n",
              "</style>\n",
              "<table border=\"1\" class=\"dataframe\">\n",
              "  <thead>\n",
              "    <tr style=\"text-align: right;\">\n",
              "      <th></th>\n",
              "      <th>count</th>\n",
              "      <th>mean</th>\n",
              "      <th>std</th>\n",
              "      <th>min</th>\n",
              "      <th>25%</th>\n",
              "      <th>50%</th>\n",
              "      <th>75%</th>\n",
              "      <th>max</th>\n",
              "    </tr>\n",
              "    <tr>\n",
              "      <th>Type</th>\n",
              "      <th></th>\n",
              "      <th></th>\n",
              "      <th></th>\n",
              "      <th></th>\n",
              "      <th></th>\n",
              "      <th></th>\n",
              "      <th></th>\n",
              "      <th></th>\n",
              "    </tr>\n",
              "  </thead>\n",
              "  <tbody>\n",
              "    <tr>\n",
              "      <th>Free</th>\n",
              "      <td>8903.0</td>\n",
              "      <td>17.667060</td>\n",
              "      <td>19.659784</td>\n",
              "      <td>0.008301</td>\n",
              "      <td>6.000</td>\n",
              "      <td>9.1</td>\n",
              "      <td>22.0</td>\n",
              "      <td>100.0</td>\n",
              "    </tr>\n",
              "    <tr>\n",
              "      <th>Paid</th>\n",
              "      <td>756.0</td>\n",
              "      <td>18.108915</td>\n",
              "      <td>20.067313</td>\n",
              "      <td>0.016602</td>\n",
              "      <td>5.775</td>\n",
              "      <td>9.1</td>\n",
              "      <td>25.0</td>\n",
              "      <td>100.0</td>\n",
              "    </tr>\n",
              "  </tbody>\n",
              "</table>\n",
              "</div>\n",
              "      <button class=\"colab-df-convert\" onclick=\"convertToInteractive('df-f8bdc2d2-4a20-4a04-a302-5ea32ecee3f3')\"\n",
              "              title=\"Convert this dataframe to an interactive table.\"\n",
              "              style=\"display:none;\">\n",
              "        \n",
              "  <svg xmlns=\"http://www.w3.org/2000/svg\" height=\"24px\"viewBox=\"0 0 24 24\"\n",
              "       width=\"24px\">\n",
              "    <path d=\"M0 0h24v24H0V0z\" fill=\"none\"/>\n",
              "    <path d=\"M18.56 5.44l.94 2.06.94-2.06 2.06-.94-2.06-.94-.94-2.06-.94 2.06-2.06.94zm-11 1L8.5 8.5l.94-2.06 2.06-.94-2.06-.94L8.5 2.5l-.94 2.06-2.06.94zm10 10l.94 2.06.94-2.06 2.06-.94-2.06-.94-.94-2.06-.94 2.06-2.06.94z\"/><path d=\"M17.41 7.96l-1.37-1.37c-.4-.4-.92-.59-1.43-.59-.52 0-1.04.2-1.43.59L10.3 9.45l-7.72 7.72c-.78.78-.78 2.05 0 2.83L4 21.41c.39.39.9.59 1.41.59.51 0 1.02-.2 1.41-.59l7.78-7.78 2.81-2.81c.8-.78.8-2.07 0-2.86zM5.41 20L4 18.59l7.72-7.72 1.47 1.35L5.41 20z\"/>\n",
              "  </svg>\n",
              "      </button>\n",
              "      \n",
              "  <style>\n",
              "    .colab-df-container {\n",
              "      display:flex;\n",
              "      flex-wrap:wrap;\n",
              "      gap: 12px;\n",
              "    }\n",
              "\n",
              "    .colab-df-convert {\n",
              "      background-color: #E8F0FE;\n",
              "      border: none;\n",
              "      border-radius: 50%;\n",
              "      cursor: pointer;\n",
              "      display: none;\n",
              "      fill: #1967D2;\n",
              "      height: 32px;\n",
              "      padding: 0 0 0 0;\n",
              "      width: 32px;\n",
              "    }\n",
              "\n",
              "    .colab-df-convert:hover {\n",
              "      background-color: #E2EBFA;\n",
              "      box-shadow: 0px 1px 2px rgba(60, 64, 67, 0.3), 0px 1px 3px 1px rgba(60, 64, 67, 0.15);\n",
              "      fill: #174EA6;\n",
              "    }\n",
              "\n",
              "    [theme=dark] .colab-df-convert {\n",
              "      background-color: #3B4455;\n",
              "      fill: #D2E3FC;\n",
              "    }\n",
              "\n",
              "    [theme=dark] .colab-df-convert:hover {\n",
              "      background-color: #434B5C;\n",
              "      box-shadow: 0px 1px 3px 1px rgba(0, 0, 0, 0.15);\n",
              "      filter: drop-shadow(0px 1px 2px rgba(0, 0, 0, 0.3));\n",
              "      fill: #FFFFFF;\n",
              "    }\n",
              "  </style>\n",
              "\n",
              "      <script>\n",
              "        const buttonEl =\n",
              "          document.querySelector('#df-f8bdc2d2-4a20-4a04-a302-5ea32ecee3f3 button.colab-df-convert');\n",
              "        buttonEl.style.display =\n",
              "          google.colab.kernel.accessAllowed ? 'block' : 'none';\n",
              "\n",
              "        async function convertToInteractive(key) {\n",
              "          const element = document.querySelector('#df-f8bdc2d2-4a20-4a04-a302-5ea32ecee3f3');\n",
              "          const dataTable =\n",
              "            await google.colab.kernel.invokeFunction('convertToInteractive',\n",
              "                                                     [key], {});\n",
              "          if (!dataTable) return;\n",
              "\n",
              "          const docLinkHtml = 'Like what you see? Visit the ' +\n",
              "            '<a target=\"_blank\" href=https://colab.research.google.com/notebooks/data_table.ipynb>data table notebook</a>'\n",
              "            + ' to learn more about interactive tables.';\n",
              "          element.innerHTML = '';\n",
              "          dataTable['output_type'] = 'display_data';\n",
              "          await google.colab.output.renderOutput(dataTable, element);\n",
              "          const docLink = document.createElement('div');\n",
              "          docLink.innerHTML = docLinkHtml;\n",
              "          element.appendChild(docLink);\n",
              "        }\n",
              "      </script>\n",
              "    </div>\n",
              "  </div>\n",
              "  "
            ]
          },
          "metadata": {},
          "execution_count": 84
        }
      ]
    },
    {
      "cell_type": "code",
      "source": [
        "sns.boxplot(x='Type',y='Size',data=df,palette='flare')"
      ],
      "metadata": {
        "colab": {
          "base_uri": "https://localhost:8080/",
          "height": 0
        },
        "id": "qb_H1p7txKEc",
        "outputId": "223015fe-16ae-4c85-b47c-856a2cc719cb"
      },
      "execution_count": 85,
      "outputs": [
        {
          "output_type": "execute_result",
          "data": {
            "text/plain": [
              "<matplotlib.axes._subplots.AxesSubplot at 0x7f77fdcb0e50>"
            ]
          },
          "metadata": {},
          "execution_count": 85
        },
        {
          "output_type": "display_data",
          "data": {
            "text/plain": [
              "<Figure size 648x648 with 1 Axes>"
            ],
            "image/png": "[encoded data removed]"
          },
          "metadata": {}
        }
      ]
    },
    {
      "cell_type": "code",
      "source": [
        "#Is there any correlation between ratings,reviews,size with the price of the app\n",
        "df.corr()['Price']"
      ],
      "metadata": {
        "colab": {
          "base_uri": "https://localhost:8080/"
        },
        "id": "xFay7wBaxfj1",
        "outputId": "025433b8-d831-4cf9-e376-0069e5285c97"
      },
      "execution_count": 86,
      "outputs": [
        {
          "output_type": "execute_result",
          "data": {
            "text/plain": [
              "Reviews    -0.007598\n",
              "Installs   -0.009405\n",
              "Price       1.000000\n",
              "Rating     -0.019580\n",
              "Size       -0.014865\n",
              "Name: Price, dtype: float64"
            ]
          },
          "metadata": {},
          "execution_count": 86
        }
      ]
    },
    {
      "cell_type": "code",
      "source": [
        "sns.heatmap(df.corr(),annot=True)"
      ],
      "metadata": {
        "colab": {
          "base_uri": "https://localhost:8080/",
          "height": 0
        },
        "id": "Z3hTr3bKyLZh",
        "outputId": "9cc4dc69-33f5-464d-f324-1cbbfa9cd232"
      },
      "execution_count": 87,
      "outputs": [
        {
          "output_type": "execute_result",
          "data": {
            "text/plain": [
              "<matplotlib.axes._subplots.AxesSubplot at 0x7f77fd456dd0>"
            ]
          },
          "metadata": {},
          "execution_count": 87
        },
        {
          "output_type": "display_data",
          "data": {
            "text/plain": [
              "<Figure size 648x648 with 2 Axes>"
            ],
            "image/png": "[encoded data removed]"
          },
          "metadata": {}
        }
      ]
    },
    {
      "cell_type": "code",
      "source": [
        "#how many apps for each type for each content reading\n",
        "y=pd.pivot_table(index='Type',columns='Content Rating',values='Rating',data=df,aggfunc='count')\n",
        "y"
      ],
      "metadata": {
        "colab": {
          "base_uri": "https://localhost:8080/",
          "height": 0
        },
        "id": "ajoKPLx0ysa5",
        "outputId": "574c0d11-901e-41b0-9249-c01aa1d7b625"
      },
      "execution_count": 88,
      "outputs": [
        {
          "output_type": "execute_result",
          "data": {
            "text/plain": [
              "Content Rating  Adults  Everyone   Teen  Unrated\n",
              "Type                                            \n",
              "Free             378.0    7539.0  984.0      2.0\n",
              "Paid              18.0     686.0   52.0      NaN"
            ],
            "text/html": [
              "\n",
              "  <div id=\"df-bb1be089-0cf0-43da-b493-0bf1c7427b54\">\n",
              "    <div class=\"colab-df-container\">\n",
              "      <div>\n",
              "<style scoped>\n",
              "    .dataframe tbody tr th:only-of-type {\n",
              "        vertical-align: middle;\n",
              "    }\n",
              "\n",
              "    .dataframe tbody tr th {\n",
              "        vertical-align: top;\n",
              "    }\n",
              "\n",
              "    .dataframe thead th {\n",
              "        text-align: right;\n",
              "    }\n",
              "</style>\n",
              "<table border=\"1\" class=\"dataframe\">\n",
              "  <thead>\n",
              "    <tr style=\"text-align: right;\">\n",
              "      <th>Content Rating</th>\n",
              "      <th>Adults</th>\n",
              "      <th>Everyone</th>\n",
              "      <th>Teen</th>\n",
              "      <th>Unrated</th>\n",
              "    </tr>\n",
              "    <tr>\n",
              "      <th>Type</th>\n",
              "      <th></th>\n",
              "      <th></th>\n",
              "      <th></th>\n",
              "      <th></th>\n",
              "    </tr>\n",
              "  </thead>\n",
              "  <tbody>\n",
              "    <tr>\n",
              "      <th>Free</th>\n",
              "      <td>378.0</td>\n",
              "      <td>7539.0</td>\n",
              "      <td>984.0</td>\n",
              "      <td>2.0</td>\n",
              "    </tr>\n",
              "    <tr>\n",
              "      <th>Paid</th>\n",
              "      <td>18.0</td>\n",
              "      <td>686.0</td>\n",
              "      <td>52.0</td>\n",
              "      <td>NaN</td>\n",
              "    </tr>\n",
              "  </tbody>\n",
              "</table>\n",
              "</div>\n",
              "      <button class=\"colab-df-convert\" onclick=\"convertToInteractive('df-bb1be089-0cf0-43da-b493-0bf1c7427b54')\"\n",
              "              title=\"Convert this dataframe to an interactive table.\"\n",
              "              style=\"display:none;\">\n",
              "        \n",
              "  <svg xmlns=\"http://www.w3.org/2000/svg\" height=\"24px\"viewBox=\"0 0 24 24\"\n",
              "       width=\"24px\">\n",
              "    <path d=\"M0 0h24v24H0V0z\" fill=\"none\"/>\n",
              "    <path d=\"M18.56 5.44l.94 2.06.94-2.06 2.06-.94-2.06-.94-.94-2.06-.94 2.06-2.06.94zm-11 1L8.5 8.5l.94-2.06 2.06-.94-2.06-.94L8.5 2.5l-.94 2.06-2.06.94zm10 10l.94 2.06.94-2.06 2.06-.94-2.06-.94-.94-2.06-.94 2.06-2.06.94z\"/><path d=\"M17.41 7.96l-1.37-1.37c-.4-.4-.92-.59-1.43-.59-.52 0-1.04.2-1.43.59L10.3 9.45l-7.72 7.72c-.78.78-.78 2.05 0 2.83L4 21.41c.39.39.9.59 1.41.59.51 0 1.02-.2 1.41-.59l7.78-7.78 2.81-2.81c.8-.78.8-2.07 0-2.86zM5.41 20L4 18.59l7.72-7.72 1.47 1.35L5.41 20z\"/>\n",
              "  </svg>\n",
              "      </button>\n",
              "      \n",
              "  <style>\n",
              "    .colab-df-container {\n",
              "      display:flex;\n",
              "      flex-wrap:wrap;\n",
              "      gap: 12px;\n",
              "    }\n",
              "\n",
              "    .colab-df-convert {\n",
              "      background-color: #E8F0FE;\n",
              "      border: none;\n",
              "      border-radius: 50%;\n",
              "      cursor: pointer;\n",
              "      display: none;\n",
              "      fill: #1967D2;\n",
              "      height: 32px;\n",
              "      padding: 0 0 0 0;\n",
              "      width: 32px;\n",
              "    }\n",
              "\n",
              "    .colab-df-convert:hover {\n",
              "      background-color: #E2EBFA;\n",
              "      box-shadow: 0px 1px 2px rgba(60, 64, 67, 0.3), 0px 1px 3px 1px rgba(60, 64, 67, 0.15);\n",
              "      fill: #174EA6;\n",
              "    }\n",
              "\n",
              "    [theme=dark] .colab-df-convert {\n",
              "      background-color: #3B4455;\n",
              "      fill: #D2E3FC;\n",
              "    }\n",
              "\n",
              "    [theme=dark] .colab-df-convert:hover {\n",
              "      background-color: #434B5C;\n",
              "      box-shadow: 0px 1px 3px 1px rgba(0, 0, 0, 0.15);\n",
              "      filter: drop-shadow(0px 1px 2px rgba(0, 0, 0, 0.3));\n",
              "      fill: #FFFFFF;\n",
              "    }\n",
              "  </style>\n",
              "\n",
              "      <script>\n",
              "        const buttonEl =\n",
              "          document.querySelector('#df-bb1be089-0cf0-43da-b493-0bf1c7427b54 button.colab-df-convert');\n",
              "        buttonEl.style.display =\n",
              "          google.colab.kernel.accessAllowed ? 'block' : 'none';\n",
              "\n",
              "        async function convertToInteractive(key) {\n",
              "          const element = document.querySelector('#df-bb1be089-0cf0-43da-b493-0bf1c7427b54');\n",
              "          const dataTable =\n",
              "            await google.colab.kernel.invokeFunction('convertToInteractive',\n",
              "                                                     [key], {});\n",
              "          if (!dataTable) return;\n",
              "\n",
              "          const docLinkHtml = 'Like what you see? Visit the ' +\n",
              "            '<a target=\"_blank\" href=https://colab.research.google.com/notebooks/data_table.ipynb>data table notebook</a>'\n",
              "            + ' to learn more about interactive tables.';\n",
              "          element.innerHTML = '';\n",
              "          dataTable['output_type'] = 'display_data';\n",
              "          await google.colab.output.renderOutput(dataTable, element);\n",
              "          const docLink = document.createElement('div');\n",
              "          docLink.innerHTML = docLinkHtml;\n",
              "          element.appendChild(docLink);\n",
              "        }\n",
              "      </script>\n",
              "    </div>\n",
              "  </div>\n",
              "  "
            ]
          },
          "metadata": {},
          "execution_count": 88
        }
      ]
    },
    {
      "cell_type": "code",
      "source": [
        "sns.heatmap(y,annot=True,fmt='0.0f')"
      ],
      "metadata": {
        "colab": {
          "base_uri": "https://localhost:8080/",
          "height": 0
        },
        "id": "I2AFIjcTzuaG",
        "outputId": "ad940b04-7bdf-497e-c4c0-a32a0532dcee"
      },
      "execution_count": 89,
      "outputs": [
        {
          "output_type": "execute_result",
          "data": {
            "text/plain": [
              "<matplotlib.axes._subplots.AxesSubplot at 0x7f77f8d72650>"
            ]
          },
          "metadata": {},
          "execution_count": 89
        },
        {
          "output_type": "display_data",
          "data": {
            "text/plain": [
              "<Figure size 648x648 with 2 Axes>"
            ],
            "image/png": "[encoded data removed]"
          },
          "metadata": {}
        }
      ]
    },
    {
      "cell_type": "code",
      "source": [
        "#how many apps that can work on android version 4\n",
        "df[df['Android Ver'].str[0]=='4'].value_counts()"
      ],
      "metadata": {
        "colab": {
          "base_uri": "https://localhost:8080/"
        },
        "id": "YH_odsnT0Cke",
        "outputId": "168ebb42-779d-4a65-b870-a606e8994e66"
      },
      "execution_count": 90,
      "outputs": [
        {
          "output_type": "execute_result",
          "data": {
            "text/plain": [
              "App                                                 Category            Reviews  Installs  Type  Price  Content Rating  Android Ver  Rating  Size     \n",
              "\"i DT\" Fútbol. Todos Somos Técnicos.                Sports              27       500       Free  0.00   Everyone        4.1          4.2     1.000000     1\n",
              "Music for Youtube - Tube Music BG, Red+             Video Players       47       1000      Free  0.00   Teen            4.2          4.3     9.100000     1\n",
              "Music - Mp3 Player                                  Video Players       259605   10000000  Free  0.00   Everyone        4.0.3        4.4     9.100000     1\n",
              "Muscle Trigger Point Anatomy                        Medical             1361     50000     Paid  2.99   Everyone        4.0.3        4.4     51.000000    1\n",
              "Muscle Premium - Human Anatomy, Kinesiology, Bones  Medical             168      10000     Paid  24.99  Everyone        4.4          4.2     9.100000     1\n",
              "                                                                                                                                                         ..\n",
              "Deep Breathe BP                                     Health And Fitness  26       1000      Free  0.00   Everyone        4.1          3.9     2.900000     1\n",
              "Deck Simulator for CR                               Tools               202      10000     Free  0.00   Everyone        4.0.3        3.4     10.000000    1\n",
              "Deck Shop for Clash Royale                          Family              2167     100000    Free  0.00   Everyone        4.4          4.6     0.473633     1\n",
              "Deck Builder & Analyzer for CR                      Family              52       5000      Free  0.00   Everyone        4.0.3        3.1     9.200000     1\n",
              "🔥 Football Wallpapers 4K | Full HD Backgrounds 😍    Entertainment       11661    1000000   Free  0.00   Everyone        4.0.3        4.7     22.000000    1\n",
              "Length: 6309, dtype: int64"
            ]
          },
          "metadata": {},
          "execution_count": 90
        }
      ]
    },
    {
      "cell_type": "code",
      "source": [],
      "metadata": {
        "id": "2CigCDwH0wkj"
      },
      "execution_count": 90,
      "outputs": []
    },
    {
      "cell_type": "markdown",
      "source": [
        "### 15. Saving files"
      ],
      "metadata": {
        "id": "EERyqahkfd-Y"
      }
    },
    {
      "cell_type": "code",
      "source": [
        "df.to_csv(\"google_playstore_cleaned_data.csv\",index=False);"
      ],
      "metadata": {
        "id": "rqur4i-2fch7"
      },
      "execution_count": 91,
      "outputs": []
    }
  ]
}